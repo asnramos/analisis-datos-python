{
 "cells": [
  {
   "cell_type": "code",
   "execution_count": 2,
   "metadata": {},
   "outputs": [],
   "source": [
    "import numpy as np\n",
    "import pandas as pd\n",
    "import matplotlib.pyplot as plt\n",
    "import geopandas as gpd\n",
    "from shapely.geometry import Point"
   ]
  },
  {
   "cell_type": "markdown",
   "metadata": {},
   "source": [
    "\n",
    "# Datos geográficos\n",
    "\n"
   ]
  },
  {
   "cell_type": "code",
   "execution_count": 3,
   "metadata": {},
   "outputs": [],
   "source": [
    "import urllib\n",
    "import json\n",
    "import requests"
   ]
  },
  {
   "cell_type": "markdown",
   "metadata": {},
   "source": [
    "Los datos georreferenciados representan ubicaciones exactas sobre la superficie terrestre. Sin embargo, es todo un reto representar en forma precisa una posición en la Tierra cuando ésta tiene una forma irregular. Esto se termina relacionando con el problema de cómo mostrar sobre superficies planas rasgos geográficos que pertenecen a una superficie tridimensional esférica. \n",
    "Es por ésto que se desarrollan los Sistemas de coordenadas de referencia (CRS -en inglés-), y de proyecciones cartográficas.\n",
    "\n",
    "* Los CRS son un sistema de números que definen ubicaciones sobre la superficie de la Tierra; funcionan como direcciones. (Ej: el CRS que usa latitud y longitud para definir posiciones en los ejes norte-sur y este-oeste)\n",
    "\n",
    "* Las proyecciones cartográficas son instrucciones para traducir a un plano la disposición de puntos ubicados en la esfera terrestre. Como en toda traducción, hay algo que se pierde en el proceso. \n",
    "\n",
    "Es por éste motivo que existen distintas proyecciones de la Tierra, cada una pensada para minimizar alguno de los tipos de distorsión, o para encontrar una solución de compromiso que los balancée.\n",
    "\n",
    "La proyección más utilizada en la actualidad es la \"Mercator\", ésta se diseñó originalmente para asistir la navegación marítima. Su fortaleza es que no distorsiona las direcciones, por lo que permite fijar el rumbo de navegación consultando el mapa. Su principal problema es que produce una distorsión notable en las áreas cercanas a los polos."
   ]
  },
  {
   "cell_type": "markdown",
   "metadata": {},
   "source": [
    "### Formatos de archivos\n",
    "\n",
    "El formato más común es el denominado “shapefile”. Éste formato guarda la información en varios archivos distintos, generalmente combinados en un archivo .zip para su distribución. \n",
    "Uno de los inconvenientes que puede tener éste tipo de formato adempas de que ser de archivo múltiple es que los nombres de las variables dentro del shapefile deben tener 10 caracteres o menos, lo que puede causar abreviaturas ininteligibles. \n",
    "Es por ello que los archivos en formatos “GeoJSON” vienen a corregir éstos inconvenientes."
   ]
  },
  {
   "cell_type": "code",
   "execution_count": 4,
   "metadata": {},
   "outputs": [
    {
     "data": {
      "text/plain": [
       "{'provincias': [{'nombre_completo': 'Provincia de Misiones',\n",
       "   'fuente': 'IGN',\n",
       "   'iso_id': 'AR-N',\n",
       "   'nombre': 'Misiones',\n",
       "   'id': '54',\n",
       "   'categoria': 'Provincia',\n",
       "   'iso_nombre': 'Misiones',\n",
       "   'centroide': {'lat': -26.8753965086829, 'lon': -54.6516966230371}},\n",
       "  {'nombre_completo': 'Provincia de San Luis',\n",
       "   'fuente': 'IGN',\n",
       "   'iso_id': 'AR-D',\n",
       "   'nombre': 'San Luis',\n",
       "   'id': '74',\n",
       "   'categoria': 'Provincia',\n",
       "   'iso_nombre': 'San Luis',\n",
       "   'centroide': {'lat': -33.7577257449137, 'lon': -66.0281298195836}},\n",
       "  {'nombre_completo': 'Provincia de San Juan',\n",
       "   'fuente': 'IGN',\n",
       "   'iso_id': 'AR-J',\n",
       "   'nombre': 'San Juan',\n",
       "   'id': '70',\n",
       "   'categoria': 'Provincia',\n",
       "   'iso_nombre': 'San Juan',\n",
       "   'centroide': {'lat': -30.8653679979618, 'lon': -68.8894908486844}},\n",
       "  {'nombre_completo': 'Provincia de Entre Ríos',\n",
       "   'fuente': 'IGN',\n",
       "   'iso_id': 'AR-E',\n",
       "   'nombre': 'Entre Ríos',\n",
       "   'id': '30',\n",
       "   'categoria': 'Provincia',\n",
       "   'iso_nombre': 'Entre Ríos',\n",
       "   'centroide': {'lat': -32.0588735436448, 'lon': -59.2014475514635}},\n",
       "  {'nombre_completo': 'Provincia de Santa Cruz',\n",
       "   'fuente': 'IGN',\n",
       "   'iso_id': 'AR-Z',\n",
       "   'nombre': 'Santa Cruz',\n",
       "   'id': '78',\n",
       "   'categoria': 'Provincia',\n",
       "   'iso_nombre': 'Santa Cruz',\n",
       "   'centroide': {'lat': -48.8154851827063, 'lon': -69.9557621671973}},\n",
       "  {'nombre_completo': 'Provincia de Río Negro',\n",
       "   'fuente': 'IGN',\n",
       "   'iso_id': 'AR-R',\n",
       "   'nombre': 'Río Negro',\n",
       "   'id': '62',\n",
       "   'categoria': 'Provincia',\n",
       "   'iso_nombre': 'Río Negro',\n",
       "   'centroide': {'lat': -40.4057957178801, 'lon': -67.229329893694}},\n",
       "  {'nombre_completo': 'Provincia del Chubut',\n",
       "   'fuente': 'IGN',\n",
       "   'iso_id': 'AR-U',\n",
       "   'nombre': 'Chubut',\n",
       "   'id': '26',\n",
       "   'categoria': 'Provincia',\n",
       "   'iso_nombre': 'Chubut',\n",
       "   'centroide': {'lat': -43.7886233529878, 'lon': -68.5267593943345}},\n",
       "  {'nombre_completo': 'Provincia de Córdoba',\n",
       "   'fuente': 'IGN',\n",
       "   'iso_id': 'AR-X',\n",
       "   'nombre': 'Córdoba',\n",
       "   'id': '14',\n",
       "   'categoria': 'Provincia',\n",
       "   'iso_nombre': 'Córdoba',\n",
       "   'centroide': {'lat': -32.142932663607, 'lon': -63.8017532741662}},\n",
       "  {'nombre_completo': 'Provincia de Mendoza',\n",
       "   'fuente': 'IGN',\n",
       "   'iso_id': 'AR-M',\n",
       "   'nombre': 'Mendoza',\n",
       "   'id': '50',\n",
       "   'categoria': 'Provincia',\n",
       "   'iso_nombre': 'Mendoza',\n",
       "   'centroide': {'lat': -34.6298873058957, 'lon': -68.5831228183798}},\n",
       "  {'nombre_completo': 'Provincia de La Rioja',\n",
       "   'fuente': 'IGN',\n",
       "   'iso_id': 'AR-F',\n",
       "   'nombre': 'La Rioja',\n",
       "   'id': '46',\n",
       "   'categoria': 'Provincia',\n",
       "   'iso_nombre': 'La Rioja',\n",
       "   'centroide': {'lat': -29.685776298315, 'lon': -67.1817359694432}},\n",
       "  {'nombre_completo': 'Provincia de Catamarca',\n",
       "   'fuente': 'IGN',\n",
       "   'iso_id': 'AR-K',\n",
       "   'nombre': 'Catamarca',\n",
       "   'id': '10',\n",
       "   'categoria': 'Provincia',\n",
       "   'iso_nombre': 'Catamarca',\n",
       "   'centroide': {'lat': -27.3358332810217, 'lon': -66.9476824299928}},\n",
       "  {'nombre_completo': 'Provincia de La Pampa',\n",
       "   'fuente': 'IGN',\n",
       "   'iso_id': 'AR-L',\n",
       "   'nombre': 'La Pampa',\n",
       "   'id': '42',\n",
       "   'categoria': 'Provincia',\n",
       "   'iso_nombre': 'La Pampa',\n",
       "   'centroide': {'lat': -37.1315537735949, 'lon': -65.4466546606951}},\n",
       "  {'nombre_completo': 'Provincia de Santiago del Estero',\n",
       "   'fuente': 'IGN',\n",
       "   'iso_id': 'AR-G',\n",
       "   'nombre': 'Santiago del Estero',\n",
       "   'id': '86',\n",
       "   'categoria': 'Provincia',\n",
       "   'iso_nombre': 'Santiago del Estero',\n",
       "   'centroide': {'lat': -27.7824116550944, 'lon': -63.2523866568588}},\n",
       "  {'nombre_completo': 'Provincia de Corrientes',\n",
       "   'fuente': 'IGN',\n",
       "   'iso_id': 'AR-W',\n",
       "   'nombre': 'Corrientes',\n",
       "   'id': '18',\n",
       "   'categoria': 'Provincia',\n",
       "   'iso_nombre': 'Corrientes',\n",
       "   'centroide': {'lat': -28.7743047046407, 'lon': -57.8012191977913}},\n",
       "  {'nombre_completo': 'Provincia de Santa Fe',\n",
       "   'fuente': 'IGN',\n",
       "   'iso_id': 'AR-S',\n",
       "   'nombre': 'Santa Fe',\n",
       "   'id': '82',\n",
       "   'categoria': 'Provincia',\n",
       "   'iso_nombre': 'Santa Fe',\n",
       "   'centroide': {'lat': -30.7069271588117, 'lon': -60.9498369430241}},\n",
       "  {'nombre_completo': 'Provincia de Tucumán',\n",
       "   'fuente': 'IGN',\n",
       "   'iso_id': 'AR-T',\n",
       "   'nombre': 'Tucumán',\n",
       "   'id': '90',\n",
       "   'categoria': 'Provincia',\n",
       "   'iso_nombre': 'Tucumán',\n",
       "   'centroide': {'lat': -26.9478001830786, 'lon': -65.3647579441481}},\n",
       "  {'nombre_completo': 'Provincia del Neuquén',\n",
       "   'fuente': 'IGN',\n",
       "   'iso_id': 'AR-Q',\n",
       "   'nombre': 'Neuquén',\n",
       "   'id': '58',\n",
       "   'categoria': 'Provincia',\n",
       "   'iso_nombre': 'Neuquén',\n",
       "   'centroide': {'lat': -38.6417575824599, 'lon': -70.1185705180601}},\n",
       "  {'nombre_completo': 'Provincia de Salta',\n",
       "   'fuente': 'IGN',\n",
       "   'iso_id': 'AR-A',\n",
       "   'nombre': 'Salta',\n",
       "   'id': '66',\n",
       "   'categoria': 'Provincia',\n",
       "   'iso_nombre': 'Salta',\n",
       "   'centroide': {'lat': -24.2991344492002, 'lon': -64.8144629600627}},\n",
       "  {'nombre_completo': 'Provincia del Chaco',\n",
       "   'fuente': 'IGN',\n",
       "   'iso_id': 'AR-H',\n",
       "   'nombre': 'Chaco',\n",
       "   'id': '22',\n",
       "   'categoria': 'Provincia',\n",
       "   'iso_nombre': 'Chaco',\n",
       "   'centroide': {'lat': -26.3864309061226, 'lon': -60.7658307438603}},\n",
       "  {'nombre_completo': 'Provincia de Formosa',\n",
       "   'fuente': 'IGN',\n",
       "   'iso_id': 'AR-P',\n",
       "   'nombre': 'Formosa',\n",
       "   'id': '34',\n",
       "   'categoria': 'Provincia',\n",
       "   'iso_nombre': 'Formosa',\n",
       "   'centroide': {'lat': -24.894972594871, 'lon': -59.9324405800872}},\n",
       "  {'nombre_completo': 'Provincia de Jujuy',\n",
       "   'fuente': 'IGN',\n",
       "   'iso_id': 'AR-Y',\n",
       "   'nombre': 'Jujuy',\n",
       "   'id': '38',\n",
       "   'categoria': 'Provincia',\n",
       "   'iso_nombre': 'Jujuy',\n",
       "   'centroide': {'lat': -23.3200784211351, 'lon': -65.7642522180337}},\n",
       "  {'nombre_completo': 'Ciudad Autónoma de Buenos Aires',\n",
       "   'fuente': 'IGN',\n",
       "   'iso_id': 'AR-C',\n",
       "   'nombre': 'Ciudad Autónoma de Buenos Aires',\n",
       "   'id': '02',\n",
       "   'categoria': 'Ciudad Autónoma',\n",
       "   'iso_nombre': 'Ciudad Autónoma de Buenos Aires',\n",
       "   'centroide': {'lat': -34.6144934119689, 'lon': -58.4458563545429}},\n",
       "  {'nombre_completo': 'Provincia de Buenos Aires',\n",
       "   'fuente': 'IGN',\n",
       "   'iso_id': 'AR-B',\n",
       "   'nombre': 'Buenos Aires',\n",
       "   'id': '06',\n",
       "   'categoria': 'Provincia',\n",
       "   'iso_nombre': 'Buenos Aires',\n",
       "   'centroide': {'lat': -36.6769415180527, 'lon': -60.5588319815719}},\n",
       "  {'nombre_completo': 'Provincia de Tierra del Fuego, Antártida e Islas del Atlántico Sur',\n",
       "   'fuente': 'IGN',\n",
       "   'iso_id': 'AR-V',\n",
       "   'nombre': 'Tierra del Fuego, Antártida e Islas del Atlántico Sur',\n",
       "   'id': '94',\n",
       "   'categoria': 'Provincia',\n",
       "   'iso_nombre': 'Tierra del Fuego',\n",
       "   'centroide': {'lat': -82.52151781221, 'lon': -50.7427486049785}}],\n",
       " 'total': 24,\n",
       " 'cantidad': 24,\n",
       " 'parametros': {},\n",
       " 'inicio': 0}"
      ]
     },
     "execution_count": 4,
     "metadata": {},
     "output_type": "execute_result"
    }
   ],
   "source": [
    "# El formato json puede leerse a partir de lo siguientes comandos:\n",
    "url = \"https://infra.datos.gob.ar/catalog/modernizacion/dataset/7/distribution/7.2/download/provincias.json\"\n",
    "response = requests.get(url)\n",
    "response.raise_for_status()\n",
    "response.json()\n",
    "# El problema de éste archivo es que la variable \"geometry\" está como punto y no polígono por lo que no serviría para representar las provincias con su forma original.\n"
   ]
  },
  {
   "cell_type": "code",
   "execution_count": 5,
   "metadata": {},
   "outputs": [
    {
     "ename": "NameError",
     "evalue": "name 'geopandas' is not defined",
     "output_type": "error",
     "traceback": [
      "\u001b[1;31m---------------------------------------------------------------------------\u001b[0m",
      "\u001b[1;31mNameError\u001b[0m                                 Traceback (most recent call last)",
      "\u001b[1;32m<ipython-input-5-3a748a693b9d>\u001b[0m in \u001b[0;36m<module>\u001b[1;34m\u001b[0m\n\u001b[0;32m      1\u001b[0m \u001b[1;31m#Desde la librerría de geopandas es posible contar con la representación de todos los paises del mundo a partir de la variable \"world\" a partir del comando:\u001b[0m\u001b[1;33m\u001b[0m\u001b[1;33m\u001b[0m\u001b[1;33m\u001b[0m\u001b[0m\n\u001b[1;32m----> 2\u001b[1;33m \u001b[0mworld\u001b[0m \u001b[1;33m=\u001b[0m \u001b[0mgeopandas\u001b[0m\u001b[1;33m.\u001b[0m\u001b[0mread_file\u001b[0m\u001b[1;33m(\u001b[0m\u001b[0mgeopandas\u001b[0m\u001b[1;33m.\u001b[0m\u001b[0mdatasets\u001b[0m\u001b[1;33m.\u001b[0m\u001b[0mget_path\u001b[0m\u001b[1;33m(\u001b[0m\u001b[1;34m'naturalearth_lowres'\u001b[0m\u001b[1;33m)\u001b[0m\u001b[1;33m)\u001b[0m\u001b[1;33m\u001b[0m\u001b[1;33m\u001b[0m\u001b[0m\n\u001b[0m\u001b[0;32m      3\u001b[0m \u001b[0mworld\u001b[0m\u001b[1;33m[\u001b[0m\u001b[1;34m'gdp_per_cap'\u001b[0m\u001b[1;33m]\u001b[0m \u001b[1;33m=\u001b[0m \u001b[0mworld\u001b[0m\u001b[1;33m.\u001b[0m\u001b[0mgdp_md_est\u001b[0m \u001b[1;33m/\u001b[0m \u001b[0mworld\u001b[0m\u001b[1;33m.\u001b[0m\u001b[0mpop_est\u001b[0m\u001b[1;33m\u001b[0m\u001b[1;33m\u001b[0m\u001b[0m\n\u001b[0;32m      4\u001b[0m \u001b[1;33m\u001b[0m\u001b[0m\n\u001b[0;32m      5\u001b[0m \u001b[1;31m# Para la escala de colores que queremos utilizar consultamos los colores en: \"https://matplotlib.org/3.1.1/tutorials/colors/colormaps.html\"\u001b[0m\u001b[1;33m\u001b[0m\u001b[1;33m\u001b[0m\u001b[1;33m\u001b[0m\u001b[0m\n",
      "\u001b[1;31mNameError\u001b[0m: name 'geopandas' is not defined"
     ]
    }
   ],
   "source": [
    "#Desde la librerría de geopandas es posible contar con la representación de todos los paises del mundo a partir de la variable \"world\" a partir del comando:\n",
    "world = geopandas.read_file(geopandas.datasets.get_path('naturalearth_lowres'))\n",
    "world['gdp_per_cap'] = world.gdp_md_est / world.pop_est\n",
    "\n",
    "# Para la escala de colores que queremos utilizar consultamos los colores en: \"https://matplotlib.org/3.1.1/tutorials/colors/colormaps.html\"\n",
    "world.plot(column='gdp_per_cap', cmap=plt.cm.twilight, legend=True)"
   ]
  },
  {
   "cell_type": "code",
   "execution_count": 6,
   "metadata": {},
   "outputs": [
    {
     "ename": "NameError",
     "evalue": "name 'world' is not defined",
     "output_type": "error",
     "traceback": [
      "\u001b[1;31m---------------------------------------------------------------------------\u001b[0m",
      "\u001b[1;31mNameError\u001b[0m                                 Traceback (most recent call last)",
      "\u001b[1;32m<ipython-input-6-af2e1ff0871d>\u001b[0m in \u001b[0;36m<module>\u001b[1;34m\u001b[0m\n\u001b[0;32m      1\u001b[0m \u001b[1;31m#la capa de provincias en formato geojson con el campo geometry definido en polígonos están el siguiente link=\"http://www.ign.gob.ar/NuestrasActividades/InformacionGeoespacial/CapasSIG\"\u001b[0m\u001b[1;33m\u001b[0m\u001b[1;33m\u001b[0m\u001b[1;33m\u001b[0m\u001b[0m\n\u001b[0;32m      2\u001b[0m \u001b[0mprovincias\u001b[0m \u001b[1;33m=\u001b[0m \u001b[0mgpd\u001b[0m\u001b[1;33m.\u001b[0m\u001b[0mread_file\u001b[0m\u001b[1;33m(\u001b[0m\u001b[1;34m'./provincia.json'\u001b[0m\u001b[1;33m)\u001b[0m\u001b[1;33m\u001b[0m\u001b[1;33m\u001b[0m\u001b[0m\n\u001b[1;32m----> 3\u001b[1;33m \u001b[0mejes\u001b[0m\u001b[1;33m=\u001b[0m \u001b[0mworld\u001b[0m\u001b[1;33m[\u001b[0m\u001b[1;33m~\u001b[0m\u001b[1;33m(\u001b[0m\u001b[0mworld\u001b[0m\u001b[1;33m[\u001b[0m\u001b[1;34m\"name\"\u001b[0m\u001b[1;33m]\u001b[0m\u001b[1;33m==\u001b[0m\u001b[1;34m\"Argentina\"\u001b[0m\u001b[1;33m)\u001b[0m\u001b[1;33m]\u001b[0m\u001b[1;33m.\u001b[0m\u001b[0mplot\u001b[0m\u001b[1;33m(\u001b[0m\u001b[0mcolor\u001b[0m\u001b[1;33m=\u001b[0m\u001b[1;34m\"c\"\u001b[0m\u001b[1;33m)\u001b[0m\u001b[1;33m\u001b[0m\u001b[1;33m\u001b[0m\u001b[0m\n\u001b[0m\u001b[0;32m      4\u001b[0m \u001b[1;33m\u001b[0m\u001b[0m\n\u001b[0;32m      5\u001b[0m \u001b[1;31m#los colores para utilizar están en el siguiente link=\"https://matplotlib.org/examples/color/named_colors.html\"\u001b[0m\u001b[1;33m\u001b[0m\u001b[1;33m\u001b[0m\u001b[1;33m\u001b[0m\u001b[0m\n",
      "\u001b[1;31mNameError\u001b[0m: name 'world' is not defined"
     ]
    }
   ],
   "source": [
    "#la capa de provincias en formato geojson con el campo geometry definido en polígonos están el siguiente link=\"http://www.ign.gob.ar/NuestrasActividades/InformacionGeoespacial/CapasSIG\"\n",
    "provincias = gpd.read_file('./provincia.json')\n",
    "ejes= world[~(world[\"name\"]==\"Argentina\")].plot(color=\"c\")\n",
    "\n",
    "#los colores para utilizar están en el siguiente link=\"https://matplotlib.org/examples/color/named_colors.html\"\n",
    "provincias.plot(ax=ejes, color=\"lightgray\", figsize=(10,20))\n",
    "plt.xlim(-75, -50)\n",
    "plt.ylim(-60, -20);"
   ]
  },
  {
   "cell_type": "code",
   "execution_count": null,
   "metadata": {},
   "outputs": [],
   "source": [
    "rem_trim_prov= pd.read_csv(\"./remun_prov_pesos_trim.csv\")\n",
    "rem_trim_ult_trim= rem_trim_prov[rem_trim_prov[\"indice_tiempo\"]==\"2015-04-01\"].T\n",
    "rem_trim_ult_trim.index.names=[\"provincias\"]\n",
    "rem_trim_ult_trim=rem_trim_ult_trim.rename(columns= {37:\"remuneracion_trim\"})\n",
    "rem_trim_ult_trim= rem_trim_ult_trim.drop([\"indice_tiempo\"], axis=0)\n",
    "rem_trim_ult_trim= rem_trim_ult_trim.drop([\"total_sector_privado\"], axis=0)\n",
    "pd.merge(rem_trim_ult_trim,provincias, left_on=\"provincias\", right_on=\"nam\")"
   ]
  },
  {
   "cell_type": "code",
   "execution_count": null,
   "metadata": {},
   "outputs": [],
   "source": [
    "provincias[\"nam\"]= provincias[\"nam\"].str.lower()\n",
    "provincias[provincias.nam==\"la rioja\"]"
   ]
  },
  {
   "cell_type": "code",
   "execution_count": null,
   "metadata": {},
   "outputs": [],
   "source": [
    "#Para crear las coordenadas de algún dataset que contenga direcciones que permitan georeferenciarse\n",
    "world = geopandas.read_file(geopandas.datasets.get_path('naturalearth_lowres'))\n",
    "provincias = gpd.read_file('./provincia.json')\n",
    "\n",
    "dataset = pd.read_csv(\"https://apis.datos.gob.ar/georef/api/provincias?formato=csv\")\n",
    "dataset[\"coordenadas\"]=list(zip(dataset.provincia_centroide_lat, dataset.provincia_centroide_lon))\n",
    "dataset['coordenadas'] = dataset['coordenadas'].apply(Point)\n",
    "prov_punto = gpd.GeoDataFrame(dataset, geometry='coordenadas')\n",
    "\n",
    "ejes= world[~(world[\"name\"]==\"Argentina\")].plot(color=\"c\")\n",
    "provincias.plot(ax=ejes, color=\"lightgray\", figsize=(10,20))\n",
    "prov_punto.plot(ax=ejes, color=\"r\", markersize=4)\n",
    "plt.xlim(-75, -50)\n",
    "plt.ylim(-60, -20);"
   ]
  },
  {
   "cell_type": "markdown",
   "metadata": {},
   "source": [
    "# Normalización direcciones"
   ]
  },
  {
   "cell_type": "code",
   "execution_count": null,
   "metadata": {},
   "outputs": [],
   "source": [
    "import requests as rqs"
   ]
  },
  {
   "cell_type": "code",
   "execution_count": null,
   "metadata": {},
   "outputs": [],
   "source": [
    "direccion = 'Honduras 3755, CABA'\n",
    "provincia = 'caba'\n",
    "url_base ='https://apis.datos.gob.ar/georef/api/direcciones?direccion={}&provincia={}'\n",
    "url_base.format(direccion, provincia)"
   ]
  },
  {
   "cell_type": "code",
   "execution_count": null,
   "metadata": {},
   "outputs": [],
   "source": [
    "r = rqs.get(url_base.format(direccion, provincia))\n",
    "r.json()"
   ]
  },
  {
   "cell_type": "code",
   "execution_count": null,
   "metadata": {},
   "outputs": [],
   "source": [
    "r.json()[\"parametros\"]"
   ]
  },
  {
   "cell_type": "code",
   "execution_count": null,
   "metadata": {},
   "outputs": [],
   "source": [
    "data = r.json()\n",
    "data['direcciones'][0]"
   ]
  },
  {
   "cell_type": "code",
   "execution_count": null,
   "metadata": {},
   "outputs": [],
   "source": [
    "data['direcciones'][0]['ubicacion']"
   ]
  },
  {
   "cell_type": "code",
   "execution_count": null,
   "metadata": {},
   "outputs": [],
   "source": [
    "direccion = ['Belgrano 637',\n",
    "'Balcarce 50',\n",
    "'Av San Martin 935']\n",
    "\n",
    "df = pd.DataFrame(data=direccion,columns=['direccion'])\n",
    "df"
   ]
  },
  {
   "cell_type": "code",
   "execution_count": null,
   "metadata": {},
   "outputs": [],
   "source": [
    "def interpretar_direccion(direccion):\n",
    "    url_base ='https://apis.datos.gob.ar/georef/api/direcciones?direccion={}'\n",
    "    r = requests.get(url_base.format(direccion))\n",
    "    data = r.json()\n",
    "    ubicacion = data['direcciones'][0]['ubicacion']\n",
    "    return Point((ubicacion['lat'], ubicacion['lon']))"
   ]
  },
  {
   "cell_type": "code",
   "execution_count": null,
   "metadata": {},
   "outputs": [],
   "source": [
    "url_base ='https://apis.datos.gob.ar/georef/api/direcciones?direccion={}'\n",
    "r = requests.get(url_base.format(direccion[0]))\n",
    "r.json()[\"direcciones\"][0]"
   ]
  },
  {
   "cell_type": "code",
   "execution_count": null,
   "metadata": {},
   "outputs": [],
   "source": [
    "df['geometry'] = df.direccion.apply(interpretar_direccion)\n",
    "df"
   ]
  },
  {
   "cell_type": "code",
   "execution_count": null,
   "metadata": {},
   "outputs": [],
   "source": [
    "interpretar_direccion('Diagonal Norte 511')"
   ]
  },
  {
   "cell_type": "code",
   "execution_count": null,
   "metadata": {},
   "outputs": [],
   "source": [
    "df"
   ]
  }
 ],
 "metadata": {
  "kernelspec": {
   "display_name": "Python 3",
   "language": "python",
   "name": "python3"
  },
  "language_info": {
   "codemirror_mode": {
    "name": "ipython",
    "version": 3
   },
   "file_extension": ".py",
   "mimetype": "text/x-python",
   "name": "python",
   "nbconvert_exporter": "python",
   "pygments_lexer": "ipython3",
   "version": "3.7.3"
  }
 },
 "nbformat": 4,
 "nbformat_minor": 2
}
