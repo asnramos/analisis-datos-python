{
 "cells": [
  {
   "cell_type": "code",
   "execution_count": 70,
   "metadata": {},
   "outputs": [],
   "source": [
    "import urllib\n",
    "import json\n",
    "import requests\n",
    "import numpy as np\n",
    "import pandas as pd\n",
    "import matplotlib.pyplot as plt\n",
    "import geopandas as gpd\n",
    "from shapely.geometry import Point\n",
    "import fiona"
   ]
  },
  {
   "cell_type": "code",
   "execution_count": 72,
   "metadata": {},
   "outputs": [],
   "source": [
    "import pandas as pd \n",
    "import matplotlib.pyplot as plt \n",
    "from mpl_toolkits.basemap import Basemap\n",
    "\n",
    "class MyBasemap(Basemap):     \n",
    "    def printcountries(self, d=3, max_len=12):\n",
    "        data = pd.io.parsers.read_csv(\"http://opengeocode.org/cude/download.php?file=/home/fashions/public_html/opengeocode.org/download/cow.txt\", \n",
    "                                      sep=\";\", skiprows=28 )\n",
    "        data = data[(data.latitude > self.llcrnrlat+d) & (data.latitude < self.urcrnrlat-d) & (data.longitude > self.llcrnrlon+d) & (data.longitude < self.urcrnrlon-d)]\n",
    "        for ix, country in data.iterrows():                            \n",
    "                plt.text(*self(country.longitude, country.latitude), s=country.BGN_name[:max_len]) "
   ]
  },
  {
   "cell_type": "code",
   "execution_count": 73,
   "metadata": {},
   "outputs": [
    {
     "name": "stderr",
     "output_type": "stream",
     "text": [
      "C:\\ProgramData\\Anaconda3\\lib\\site-packages\\ipykernel_launcher.py:3: FutureWarning: from_csv is deprecated. Please use read_csv(...) instead. Note that some of the default arguments are different, so please refer to the documentation for from_csv when changing your function calls\n",
      "  This is separate from the ipykernel package so we can avoid doing imports until\n"
     ]
    }
   ],
   "source": [
    "path= \"https://apis.datos.gob.ar/georef/api/provincias?&formato=csv\"\n",
    "\n",
    "animal_data = pd.DataFrame.from_csv(path)\n"
   ]
  },
  {
   "cell_type": "code",
   "execution_count": 103,
   "metadata": {},
   "outputs": [
    {
     "name": "stderr",
     "output_type": "stream",
     "text": [
      "C:\\ProgramData\\Anaconda3\\lib\\site-packages\\ipykernel_launcher.py:8: FutureWarning: from_csv is deprecated. Please use read_csv(...) instead. Note that some of the default arguments are different, so please refer to the documentation for from_csv when changing your function calls\n",
      "  \n"
     ]
    },
    {
     "ename": "ValueError",
     "evalue": "llcrnrlat must be between -90.000000 and 90.000000 degrees",
     "output_type": "error",
     "traceback": [
      "\u001b[1;31m---------------------------------------------------------------------------\u001b[0m",
      "\u001b[1;31mValueError\u001b[0m                                Traceback (most recent call last)",
      "\u001b[1;32m<ipython-input-103-7d0fc2415c11>\u001b[0m in \u001b[0;36m<module>\u001b[1;34m\u001b[0m\n\u001b[0;32m     22\u001b[0m         \u001b[1;34m'urcrnrlat'\u001b[0m\u001b[1;33m:\u001b[0m\u001b[0manimal_data\u001b[0m\u001b[1;33m.\u001b[0m\u001b[0mgps_lat\u001b[0m\u001b[1;33m.\u001b[0m\u001b[0mmax\u001b[0m\u001b[1;33m(\u001b[0m\u001b[1;33m)\u001b[0m\u001b[1;33m+\u001b[0m\u001b[1;36m10\u001b[0m\u001b[1;33m\u001b[0m\u001b[1;33m\u001b[0m\u001b[0m\n\u001b[0;32m     23\u001b[0m }\n\u001b[1;32m---> 24\u001b[1;33m \u001b[0mmap\u001b[0m \u001b[1;33m=\u001b[0m \u001b[0mBasemap\u001b[0m\u001b[1;33m(\u001b[0m\u001b[1;33m**\u001b[0m\u001b[0mparams\u001b[0m\u001b[1;33m)\u001b[0m\u001b[1;33m\u001b[0m\u001b[1;33m\u001b[0m\u001b[0m\n\u001b[0m\u001b[0;32m     25\u001b[0m \u001b[1;33m\u001b[0m\u001b[0m\n\u001b[0;32m     26\u001b[0m \u001b[0mmap\u001b[0m\u001b[1;33m.\u001b[0m\u001b[0mdrawcoastlines\u001b[0m\u001b[1;33m(\u001b[0m\u001b[1;33m)\u001b[0m\u001b[1;33m\u001b[0m\u001b[1;33m\u001b[0m\u001b[0m\n",
      "\u001b[1;32mC:\\ProgramData\\Anaconda3\\lib\\site-packages\\mpl_toolkits\\basemap\\__init__.py\u001b[0m in \u001b[0;36m__init__\u001b[1;34m(self, llcrnrlon, llcrnrlat, urcrnrlon, urcrnrlat, llcrnrx, llcrnry, urcrnrx, urcrnry, width, height, projection, resolution, area_thresh, rsphere, ellps, lat_ts, lat_1, lat_2, lat_0, lon_0, lon_1, lon_2, o_lon_p, o_lat_p, k_0, no_rot, suppress_ticks, satellite_height, boundinglat, fix_aspect, anchor, celestial, round, epsg, ax)\u001b[0m\n\u001b[0;32m    704\u001b[0m         \u001b[0mllcrnrlon\u001b[0m \u001b[1;33m=\u001b[0m \u001b[0m_validated_or_none\u001b[0m\u001b[1;33m(\u001b[0m\u001b[0mllcrnrlon\u001b[0m\u001b[1;33m,\u001b[0m \u001b[1;34m'llcrnrlon'\u001b[0m\u001b[1;33m,\u001b[0m \u001b[1;33m-\u001b[0m\u001b[1;36m360\u001b[0m\u001b[1;33m,\u001b[0m \u001b[1;36m720\u001b[0m\u001b[1;33m)\u001b[0m\u001b[1;33m\u001b[0m\u001b[1;33m\u001b[0m\u001b[0m\n\u001b[0;32m    705\u001b[0m         \u001b[0murcrnrlon\u001b[0m \u001b[1;33m=\u001b[0m \u001b[0m_validated_or_none\u001b[0m\u001b[1;33m(\u001b[0m\u001b[0murcrnrlon\u001b[0m\u001b[1;33m,\u001b[0m \u001b[1;34m'urcrnrlon'\u001b[0m\u001b[1;33m,\u001b[0m \u001b[1;33m-\u001b[0m\u001b[1;36m360\u001b[0m\u001b[1;33m,\u001b[0m \u001b[1;36m720\u001b[0m\u001b[1;33m)\u001b[0m\u001b[1;33m\u001b[0m\u001b[1;33m\u001b[0m\u001b[0m\n\u001b[1;32m--> 706\u001b[1;33m         \u001b[0mllcrnrlat\u001b[0m \u001b[1;33m=\u001b[0m \u001b[0m_validated_or_none\u001b[0m\u001b[1;33m(\u001b[0m\u001b[0mllcrnrlat\u001b[0m\u001b[1;33m,\u001b[0m \u001b[1;34m'llcrnrlat'\u001b[0m\u001b[1;33m,\u001b[0m \u001b[1;33m-\u001b[0m\u001b[1;36m90\u001b[0m\u001b[1;33m,\u001b[0m \u001b[1;36m90\u001b[0m\u001b[1;33m)\u001b[0m\u001b[1;33m\u001b[0m\u001b[1;33m\u001b[0m\u001b[0m\n\u001b[0m\u001b[0;32m    707\u001b[0m         \u001b[0murcrnrlat\u001b[0m \u001b[1;33m=\u001b[0m \u001b[0m_validated_or_none\u001b[0m\u001b[1;33m(\u001b[0m\u001b[0murcrnrlat\u001b[0m\u001b[1;33m,\u001b[0m \u001b[1;34m'urcrnrlat'\u001b[0m\u001b[1;33m,\u001b[0m \u001b[1;33m-\u001b[0m\u001b[1;36m90\u001b[0m\u001b[1;33m,\u001b[0m \u001b[1;36m90\u001b[0m\u001b[1;33m)\u001b[0m\u001b[1;33m\u001b[0m\u001b[1;33m\u001b[0m\u001b[0m\n\u001b[0;32m    708\u001b[0m \u001b[1;33m\u001b[0m\u001b[0m\n",
      "\u001b[1;32mC:\\ProgramData\\Anaconda3\\lib\\site-packages\\mpl_toolkits\\basemap\\__init__.py\u001b[0m in \u001b[0;36m_validated_or_none\u001b[1;34m(param, name, minval, maxval)\u001b[0m\n\u001b[0;32m    523\u001b[0m     \u001b[1;32mif\u001b[0m \u001b[0mparam\u001b[0m \u001b[1;32mis\u001b[0m \u001b[1;32mNone\u001b[0m\u001b[1;33m:\u001b[0m\u001b[1;33m\u001b[0m\u001b[1;33m\u001b[0m\u001b[0m\n\u001b[0;32m    524\u001b[0m         \u001b[1;32mreturn\u001b[0m \u001b[1;32mNone\u001b[0m\u001b[1;33m\u001b[0m\u001b[1;33m\u001b[0m\u001b[0m\n\u001b[1;32m--> 525\u001b[1;33m     \u001b[1;32mreturn\u001b[0m \u001b[0m_validated_ll\u001b[0m\u001b[1;33m(\u001b[0m\u001b[0mparam\u001b[0m\u001b[1;33m,\u001b[0m \u001b[0mname\u001b[0m\u001b[1;33m,\u001b[0m \u001b[0mminval\u001b[0m\u001b[1;33m,\u001b[0m \u001b[0mmaxval\u001b[0m\u001b[1;33m)\u001b[0m\u001b[1;33m\u001b[0m\u001b[1;33m\u001b[0m\u001b[0m\n\u001b[0m\u001b[0;32m    526\u001b[0m \u001b[1;33m\u001b[0m\u001b[0m\n\u001b[0;32m    527\u001b[0m \u001b[1;33m\u001b[0m\u001b[0m\n",
      "\u001b[1;32mC:\\ProgramData\\Anaconda3\\lib\\site-packages\\mpl_toolkits\\basemap\\__init__.py\u001b[0m in \u001b[0;36m_validated_ll\u001b[1;34m(param, name, minval, maxval)\u001b[0m\n\u001b[0;32m    516\u001b[0m     \u001b[1;32mif\u001b[0m \u001b[0mparam\u001b[0m \u001b[1;33m>\u001b[0m \u001b[0mmaxval\u001b[0m \u001b[1;32mor\u001b[0m \u001b[0mparam\u001b[0m \u001b[1;33m<\u001b[0m \u001b[0mminval\u001b[0m\u001b[1;33m:\u001b[0m\u001b[1;33m\u001b[0m\u001b[1;33m\u001b[0m\u001b[0m\n\u001b[0;32m    517\u001b[0m         raise ValueError('%s must be between %f and %f degrees' %\n\u001b[1;32m--> 518\u001b[1;33m                                            (name, minval, maxval))\n\u001b[0m\u001b[0;32m    519\u001b[0m     \u001b[1;32mreturn\u001b[0m \u001b[0mparam\u001b[0m\u001b[1;33m\u001b[0m\u001b[1;33m\u001b[0m\u001b[0m\n\u001b[0;32m    520\u001b[0m \u001b[1;33m\u001b[0m\u001b[0m\n",
      "\u001b[1;31mValueError\u001b[0m: llcrnrlat must be between -90.000000 and 90.000000 degrees"
     ]
    }
   ],
   "source": [
    "import pandas as pd \n",
    "import matplotlib.pyplot as plt \n",
    "from mpl_toolkits.basemap import Basemap\n",
    "\n",
    "\n",
    "path =  \"https://apis.datos.gob.ar/georef/api/provincias?&formato=csv\"\n",
    "\n",
    "animal_data = pd.DataFrame.from_csv(path)\n",
    "animal_data.columns = [\"provincia\", \"gps_lat\", \"gps_long\"]\n",
    "\n",
    "# data cleaning omitted for clarity \n",
    "\n",
    "params = {\n",
    "        'projection':'merc', \n",
    "        'lat_0':animal_data.gps_lat.mean(), \n",
    "        'lon_0':animal_data.gps_long.mean(), \n",
    "        'resolution':'h', \n",
    "        'area_thresh':0.1, \n",
    "        'llcrnrlon':animal_data.gps_long.min()-10, \n",
    "        'llcrnrlat':animal_data.gps_lat.min()-10, \n",
    "        'urcrnrlon':animal_data.gps_long.max()+10, \n",
    "        'urcrnrlat':animal_data.gps_lat.max()+10\n",
    "}\n",
    "map = Basemap(**params)\n",
    "\n",
    "map.drawcoastlines()\n",
    "map.drawcountries()\n",
    "map.fillcontinents(color = 'coral')\n",
    "map.drawmapboundary()          \n",
    "\n",
    "y = map(animal_data.gps_long.values, animal_data.gps_lat.values)\n",
    "\n",
    "map.plot(y, 'b-', linewidth=1)    \n",
    "plt.show()"
   ]
  },
  {
   "cell_type": "code",
   "execution_count": 146,
   "metadata": {},
   "outputs": [
    {
     "name": "stderr",
     "output_type": "stream",
     "text": [
      "C:\\ProgramData\\Anaconda3\\lib\\site-packages\\ipykernel_launcher.py:11: MatplotlibDeprecationWarning: \n",
      "The dedent function was deprecated in Matplotlib 3.1 and will be removed in 3.3. Use inspect.cleandoc instead.\n",
      "  # This is added back by InteractiveShellApp.init_path()\n",
      "C:\\ProgramData\\Anaconda3\\lib\\site-packages\\ipykernel_launcher.py:16: MatplotlibDeprecationWarning: \n",
      "The dedent function was deprecated in Matplotlib 3.1 and will be removed in 3.3. Use inspect.cleandoc instead.\n",
      "  app.launch_new_instance()\n"
     ]
    },
    {
     "data": {
      "image/png": "[encoded data removed]",
      "text/plain": [
       "<Figure size 432x288 with 1 Axes>"
      ]
     },
     "metadata": {},
     "output_type": "display_data"
    }
   ],
   "source": [
    "\n",
    "map= Basemap (\n",
    "        projection=\"merc\", \n",
    "        lat_0=animal_data.gps_lat.mean(), \n",
    "        lon_0=animal_data.gps_long.mean(),\n",
    "        resolution='h', \n",
    "        area_thresh=0.1, \n",
    "        llcrnrlon=animal_data.gps_long.min(), \n",
    "        llcrnrlat=animal_data.gps_lat.min(), \n",
    "        urcrnrlon=animal_data.gps_long.max(), \n",
    "        urcrnrlat=animal_data.gps_lat.max(),\n",
    ")\n",
    "\n",
    "\n",
    "map.drawcoastlines()\n",
    "map.drawcountries()\n",
    "map.fillcontinents(color = 'coral')\n",
    "map.drawmapboundary()          \n",
    "\n",
    "y = map(animal_data.gps_long.values, animal_data.gps_lat.values)\n",
    "\n",
    "map.plot(y, 'b-', linewidth=1)    \n",
    "plt.show()"
   ]
  },
  {
   "cell_type": "code",
   "execution_count": 141,
   "metadata": {},
   "outputs": [
    {
     "data": {
      "text/plain": [
       "-82.52151781220999"
      ]
     },
     "execution_count": 141,
     "metadata": {},
     "output_type": "execute_result"
    }
   ],
   "source": [
    "animal_data.gps_lat.min()"
   ]
  },
  {
   "cell_type": "code",
   "execution_count": null,
   "metadata": {},
   "outputs": [],
   "source": [
    "Basemap(\n",
    "    llcrnrlon=None,\n",
    "    llcrnrlat=None,\n",
    "    urcrnrlon=None,\n",
    "    urcrnrlat=None,\n",
    "    llcrnrx=None,\n",
    "    llcrnry=None,\n",
    "    urcrnrx=None,\n",
    "    urcrnry=None,\n",
    "    width=None,\n",
    "    height=None,\n",
    "    projection='cyl',\n",
    "    resolution='c',\n",
    "    area_thresh=None,\n",
    "    rsphere=6370997.0,\n",
    "    ellps=None,\n",
    "    lat_ts=None,\n",
    "    lat_1=None,\n",
    "    lat_2=None,\n",
    "    lat_0=None,\n",
    "    lon_0=None,\n",
    "    lon_1=None,\n",
    "    lon_2=None,\n",
    "    o_lon_p=None,\n",
    "    o_lat_p=None,\n",
    "    k_0=None,\n",
    "    no_rot=False,\n",
    "    suppress_ticks=True,\n",
    "    satellite_height=35786000,\n",
    "    boundinglat=None,\n",
    "    fix_aspect=True,\n",
    "    anchor='C',\n",
    "    celestial=False,\n",
    "    round=False,\n",
    "    epsg=None,\n",
    "    ax=None,\n",
    ")"
   ]
  },
  {
   "cell_type": "code",
   "execution_count": null,
   "metadata": {},
   "outputs": [],
   "source": []
  },
  {
   "cell_type": "code",
   "execution_count": null,
   "metadata": {},
   "outputs": [],
   "source": []
  }
 ],
 "metadata": {
  "kernelspec": {
   "display_name": "Python 3",
   "language": "python",
   "name": "python3"
  },
  "language_info": {
   "codemirror_mode": {
    "name": "ipython",
    "version": 3
   },
   "file_extension": ".py",
   "mimetype": "text/x-python",
   "name": "python",
   "nbconvert_exporter": "python",
   "pygments_lexer": "ipython3",
   "version": "3.7.3"
  }
 },
 "nbformat": 4,
 "nbformat_minor": 2
}
