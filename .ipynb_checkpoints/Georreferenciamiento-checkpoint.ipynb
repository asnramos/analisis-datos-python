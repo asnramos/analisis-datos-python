{
 "cells": [
  {
   "cell_type": "code",
   "execution_count": 1,
   "metadata": {},
   "outputs": [],
   "source": [
    "import numpy as np\n",
    "import pandas as pd\n",
    "import matplotlib.pyplot as plt\n",
    "import geopandas as gpd\n",
    "from shapely.geometry import Point"
   ]
  },
  {
   "cell_type": "markdown",
   "metadata": {},
   "source": [
    "\n",
    "# Datos geográficos\n",
    "\n"
   ]
  },
  {
   "cell_type": "code",
   "execution_count": 147,
   "metadata": {},
   "outputs": [],
   "source": [
    "import urllib\n",
    "import json\n",
    "import requests"
   ]
  },
  {
   "cell_type": "markdown",
   "metadata": {},
   "source": [
    "Los datos georreferenciados representan ubicaciones exactas sobre la superficie terrestre. Sin embargo, es todo un reto representar en forma precisa una posición en la Tierra cuando ésta tiene una forma irregular. Esto se termina relacionando con el problema de cómo mostrar sobre superficies planas rasgos geográficos que pertenecen a una superficie tridimensional esférica. \n",
    "Es por ésto que se desarrollan los Sistemas de coordenadas de referencia (CRS -en inglés-), y de proyecciones cartográficas.\n",
    "\n",
    "* Los CRS son un sistema de números que definen ubicaciones sobre la superficie de la Tierra; funcionan como direcciones. (Ej: el CRS que usa latitud y longitud para definir posiciones en los ejes norte-sur y este-oeste)\n",
    "\n",
    "* Las proyecciones cartográficas son instrucciones para traducir a un plano la disposición de puntos ubicados en la esfera terrestre. Como en toda traducción, hay algo que se pierde en el proceso. \n",
    "\n",
    "Es por éste motivo que existen distintas proyecciones de la Tierra, cada una pensada para minimizar alguno de los tipos de distorsión, o para encontrar una solución de compromiso que los balancée.\n",
    "\n",
    "La proyección más utilizada en la actualidad es la \"Mercator\", ésta se diseñó originalmente para asistir la navegación marítima. Su fortaleza es que no distorsiona las direcciones, por lo que permite fijar el rumbo de navegación consultando el mapa. Su principal problema es que produce una distorsión notable en las áreas cercanas a los polos."
   ]
  },
  {
   "cell_type": "markdown",
   "metadata": {},
   "source": [
    "### Formatos de archivos\n",
    "\n",
    "El formato más común es el denominado “shapefile”. Éste formato guarda la información en varios archivos distintos, generalmente combinados en un archivo .zip para su distribución. \n",
    "Uno de los inconvenientes que puede tener éste tipo de formato adempas de que ser de archivo múltiple es que los nombres de las variables dentro del shapefile deben tener 10 caracteres o menos, lo que puede causar abreviaturas ininteligibles. \n",
    "Es por ello que los archivos en formatos “GeoJSON” vienen a corregir éstos inconvenientes."
   ]
  },
  {
   "cell_type": "code",
   "execution_count": 277,
   "metadata": {},
   "outputs": [
    {
     "data": {
      "text/plain": [
       "{'provincias': [{'nombre_completo': 'Provincia de Misiones',\n",
       "   'fuente': 'IGN',\n",
       "   'iso_id': 'AR-N',\n",
       "   'nombre': 'Misiones',\n",
       "   'id': '54',\n",
       "   'categoria': 'Provincia',\n",
       "   'iso_nombre': 'Misiones',\n",
       "   'centroide': {'lat': -26.8753965086829, 'lon': -54.6516966230371}},\n",
       "  {'nombre_completo': 'Provincia de San Luis',\n",
       "   'fuente': 'IGN',\n",
       "   'iso_id': 'AR-D',\n",
       "   'nombre': 'San Luis',\n",
       "   'id': '74',\n",
       "   'categoria': 'Provincia',\n",
       "   'iso_nombre': 'San Luis',\n",
       "   'centroide': {'lat': -33.7577257449137, 'lon': -66.0281298195836}},\n",
       "  {'nombre_completo': 'Provincia de San Juan',\n",
       "   'fuente': 'IGN',\n",
       "   'iso_id': 'AR-J',\n",
       "   'nombre': 'San Juan',\n",
       "   'id': '70',\n",
       "   'categoria': 'Provincia',\n",
       "   'iso_nombre': 'San Juan',\n",
       "   'centroide': {'lat': -30.8653679979618, 'lon': -68.8894908486844}},\n",
       "  {'nombre_completo': 'Provincia de Entre Ríos',\n",
       "   'fuente': 'IGN',\n",
       "   'iso_id': 'AR-E',\n",
       "   'nombre': 'Entre Ríos',\n",
       "   'id': '30',\n",
       "   'categoria': 'Provincia',\n",
       "   'iso_nombre': 'Entre Ríos',\n",
       "   'centroide': {'lat': -32.0588735436448, 'lon': -59.2014475514635}},\n",
       "  {'nombre_completo': 'Provincia de Santa Cruz',\n",
       "   'fuente': 'IGN',\n",
       "   'iso_id': 'AR-Z',\n",
       "   'nombre': 'Santa Cruz',\n",
       "   'id': '78',\n",
       "   'categoria': 'Provincia',\n",
       "   'iso_nombre': 'Santa Cruz',\n",
       "   'centroide': {'lat': -48.8154851827063, 'lon': -69.9557621671973}},\n",
       "  {'nombre_completo': 'Provincia de Río Negro',\n",
       "   'fuente': 'IGN',\n",
       "   'iso_id': 'AR-R',\n",
       "   'nombre': 'Río Negro',\n",
       "   'id': '62',\n",
       "   'categoria': 'Provincia',\n",
       "   'iso_nombre': 'Río Negro',\n",
       "   'centroide': {'lat': -40.4057957178801, 'lon': -67.229329893694}},\n",
       "  {'nombre_completo': 'Provincia del Chubut',\n",
       "   'fuente': 'IGN',\n",
       "   'iso_id': 'AR-U',\n",
       "   'nombre': 'Chubut',\n",
       "   'id': '26',\n",
       "   'categoria': 'Provincia',\n",
       "   'iso_nombre': 'Chubut',\n",
       "   'centroide': {'lat': -43.7886233529878, 'lon': -68.5267593943345}},\n",
       "  {'nombre_completo': 'Provincia de Córdoba',\n",
       "   'fuente': 'IGN',\n",
       "   'iso_id': 'AR-X',\n",
       "   'nombre': 'Córdoba',\n",
       "   'id': '14',\n",
       "   'categoria': 'Provincia',\n",
       "   'iso_nombre': 'Córdoba',\n",
       "   'centroide': {'lat': -32.142932663607, 'lon': -63.8017532741662}},\n",
       "  {'nombre_completo': 'Provincia de Mendoza',\n",
       "   'fuente': 'IGN',\n",
       "   'iso_id': 'AR-M',\n",
       "   'nombre': 'Mendoza',\n",
       "   'id': '50',\n",
       "   'categoria': 'Provincia',\n",
       "   'iso_nombre': 'Mendoza',\n",
       "   'centroide': {'lat': -34.6298873058957, 'lon': -68.5831228183798}},\n",
       "  {'nombre_completo': 'Provincia de La Rioja',\n",
       "   'fuente': 'IGN',\n",
       "   'iso_id': 'AR-F',\n",
       "   'nombre': 'La Rioja',\n",
       "   'id': '46',\n",
       "   'categoria': 'Provincia',\n",
       "   'iso_nombre': 'La Rioja',\n",
       "   'centroide': {'lat': -29.685776298315, 'lon': -67.1817359694432}},\n",
       "  {'nombre_completo': 'Provincia de Catamarca',\n",
       "   'fuente': 'IGN',\n",
       "   'iso_id': 'AR-K',\n",
       "   'nombre': 'Catamarca',\n",
       "   'id': '10',\n",
       "   'categoria': 'Provincia',\n",
       "   'iso_nombre': 'Catamarca',\n",
       "   'centroide': {'lat': -27.3358332810217, 'lon': -66.9476824299928}},\n",
       "  {'nombre_completo': 'Provincia de La Pampa',\n",
       "   'fuente': 'IGN',\n",
       "   'iso_id': 'AR-L',\n",
       "   'nombre': 'La Pampa',\n",
       "   'id': '42',\n",
       "   'categoria': 'Provincia',\n",
       "   'iso_nombre': 'La Pampa',\n",
       "   'centroide': {'lat': -37.1315537735949, 'lon': -65.4466546606951}},\n",
       "  {'nombre_completo': 'Provincia de Santiago del Estero',\n",
       "   'fuente': 'IGN',\n",
       "   'iso_id': 'AR-G',\n",
       "   'nombre': 'Santiago del Estero',\n",
       "   'id': '86',\n",
       "   'categoria': 'Provincia',\n",
       "   'iso_nombre': 'Santiago del Estero',\n",
       "   'centroide': {'lat': -27.7824116550944, 'lon': -63.2523866568588}},\n",
       "  {'nombre_completo': 'Provincia de Corrientes',\n",
       "   'fuente': 'IGN',\n",
       "   'iso_id': 'AR-W',\n",
       "   'nombre': 'Corrientes',\n",
       "   'id': '18',\n",
       "   'categoria': 'Provincia',\n",
       "   'iso_nombre': 'Corrientes',\n",
       "   'centroide': {'lat': -28.7743047046407, 'lon': -57.8012191977913}},\n",
       "  {'nombre_completo': 'Provincia de Santa Fe',\n",
       "   'fuente': 'IGN',\n",
       "   'iso_id': 'AR-S',\n",
       "   'nombre': 'Santa Fe',\n",
       "   'id': '82',\n",
       "   'categoria': 'Provincia',\n",
       "   'iso_nombre': 'Santa Fe',\n",
       "   'centroide': {'lat': -30.7069271588117, 'lon': -60.9498369430241}},\n",
       "  {'nombre_completo': 'Provincia de Tucumán',\n",
       "   'fuente': 'IGN',\n",
       "   'iso_id': 'AR-T',\n",
       "   'nombre': 'Tucumán',\n",
       "   'id': '90',\n",
       "   'categoria': 'Provincia',\n",
       "   'iso_nombre': 'Tucumán',\n",
       "   'centroide': {'lat': -26.9478001830786, 'lon': -65.3647579441481}},\n",
       "  {'nombre_completo': 'Provincia del Neuquén',\n",
       "   'fuente': 'IGN',\n",
       "   'iso_id': 'AR-Q',\n",
       "   'nombre': 'Neuquén',\n",
       "   'id': '58',\n",
       "   'categoria': 'Provincia',\n",
       "   'iso_nombre': 'Neuquén',\n",
       "   'centroide': {'lat': -38.6417575824599, 'lon': -70.1185705180601}},\n",
       "  {'nombre_completo': 'Provincia de Salta',\n",
       "   'fuente': 'IGN',\n",
       "   'iso_id': 'AR-A',\n",
       "   'nombre': 'Salta',\n",
       "   'id': '66',\n",
       "   'categoria': 'Provincia',\n",
       "   'iso_nombre': 'Salta',\n",
       "   'centroide': {'lat': -24.2991344492002, 'lon': -64.8144629600627}},\n",
       "  {'nombre_completo': 'Provincia del Chaco',\n",
       "   'fuente': 'IGN',\n",
       "   'iso_id': 'AR-H',\n",
       "   'nombre': 'Chaco',\n",
       "   'id': '22',\n",
       "   'categoria': 'Provincia',\n",
       "   'iso_nombre': 'Chaco',\n",
       "   'centroide': {'lat': -26.3864309061226, 'lon': -60.7658307438603}},\n",
       "  {'nombre_completo': 'Provincia de Formosa',\n",
       "   'fuente': 'IGN',\n",
       "   'iso_id': 'AR-P',\n",
       "   'nombre': 'Formosa',\n",
       "   'id': '34',\n",
       "   'categoria': 'Provincia',\n",
       "   'iso_nombre': 'Formosa',\n",
       "   'centroide': {'lat': -24.894972594871, 'lon': -59.9324405800872}},\n",
       "  {'nombre_completo': 'Provincia de Jujuy',\n",
       "   'fuente': 'IGN',\n",
       "   'iso_id': 'AR-Y',\n",
       "   'nombre': 'Jujuy',\n",
       "   'id': '38',\n",
       "   'categoria': 'Provincia',\n",
       "   'iso_nombre': 'Jujuy',\n",
       "   'centroide': {'lat': -23.3200784211351, 'lon': -65.7642522180337}},\n",
       "  {'nombre_completo': 'Ciudad Autónoma de Buenos Aires',\n",
       "   'fuente': 'IGN',\n",
       "   'iso_id': 'AR-C',\n",
       "   'nombre': 'Ciudad Autónoma de Buenos Aires',\n",
       "   'id': '02',\n",
       "   'categoria': 'Ciudad Autónoma',\n",
       "   'iso_nombre': 'Ciudad Autónoma de Buenos Aires',\n",
       "   'centroide': {'lat': -34.6144934119689, 'lon': -58.4458563545429}},\n",
       "  {'nombre_completo': 'Provincia de Buenos Aires',\n",
       "   'fuente': 'IGN',\n",
       "   'iso_id': 'AR-B',\n",
       "   'nombre': 'Buenos Aires',\n",
       "   'id': '06',\n",
       "   'categoria': 'Provincia',\n",
       "   'iso_nombre': 'Buenos Aires',\n",
       "   'centroide': {'lat': -36.6769415180527, 'lon': -60.5588319815719}},\n",
       "  {'nombre_completo': 'Provincia de Tierra del Fuego, Antártida e Islas del Atlántico Sur',\n",
       "   'fuente': 'IGN',\n",
       "   'iso_id': 'AR-V',\n",
       "   'nombre': 'Tierra del Fuego, Antártida e Islas del Atlántico Sur',\n",
       "   'id': '94',\n",
       "   'categoria': 'Provincia',\n",
       "   'iso_nombre': 'Tierra del Fuego',\n",
       "   'centroide': {'lat': -82.52151781221, 'lon': -50.7427486049785}}],\n",
       " 'total': 24,\n",
       " 'cantidad': 24,\n",
       " 'parametros': {},\n",
       " 'inicio': 0}"
      ]
     },
     "execution_count": 277,
     "metadata": {},
     "output_type": "execute_result"
    }
   ],
   "source": [
    "# El formato json puede leerse a partir de lo siguientes comandos:\n",
    "url = \"https://infra.datos.gob.ar/catalog/modernizacion/dataset/7/distribution/7.2/download/provincias.json\"\n",
    "response = requests.get(url)\n",
    "response.raise_for_status()\n",
    "response.json()\n",
    "# El problema de éste archivo es que la variable \"geometry\" está como punto y no polígono por lo que no serviría para representar las provincias con su forma original.\n"
   ]
  },
  {
   "cell_type": "code",
   "execution_count": 182,
   "metadata": {},
   "outputs": [
    {
     "data": {
      "text/plain": [
       "<matplotlib.axes._subplots.AxesSubplot at 0x21b92f38e10>"
      ]
     },
     "execution_count": 182,
     "metadata": {},
     "output_type": "execute_result"
    },
    {
     "data": {
      "image/png": "[encoded data removed]",
      "text/plain": [
       "<Figure size 432x288 with 2 Axes>"
      ]
     },
     "metadata": {
      "needs_background": "light"
     },
     "output_type": "display_data"
    }
   ],
   "source": [
    "#Desde la librerría de geopandas es posible contar con la representación de todos los paises del mundo a partir de la variable \"world\" a partir del comando:\n",
    "world = geopandas.read_file(geopandas.datasets.get_path('naturalearth_lowres'))\n",
    "world['gdp_per_cap'] = world.gdp_md_est / world.pop_est\n",
    "\n",
    "# Para la escala de colores que queremos utilizar consultamos los colores en: \"https://matplotlib.org/3.1.1/tutorials/colors/colormaps.html\"\n",
    "world.plot(column='gdp_per_cap', cmap=plt.cm.twilight, legend=True)"
   ]
  },
  {
   "cell_type": "code",
   "execution_count": 153,
   "metadata": {},
   "outputs": [
    {
     "data": {
      "image/png": "[encoded data removed]",
      "text/plain": [
       "<Figure size 432x288 with 1 Axes>"
      ]
     },
     "metadata": {
      "needs_background": "light"
     },
     "output_type": "display_data"
    }
   ],
   "source": [
    "#la capa de provincias en formato geojson con el campo geometry definido en polígonos están el siguiente link=\"http://www.ign.gob.ar/NuestrasActividades/InformacionGeoespacial/CapasSIG\"\n",
    "provincias = gpd.read_file('./provincia.json')\n",
    "ejes= world[~(world[\"name\"]==\"Argentina\")].plot(color=\"c\")\n",
    "\n",
    "#los colores para utilizar están en el siguiente link=\"https://matplotlib.org/examples/color/named_colors.html\"\n",
    "provincias.plot(ax=ejes, color=\"lightgray\", figsize=(10,20))\n",
    "plt.xlim(-75, -50)\n",
    "plt.ylim(-60, -20);"
   ]
  },
  {
   "cell_type": "code",
   "execution_count": 230,
   "metadata": {},
   "outputs": [
    {
     "data": {
      "text/html": [
       "<div>\n",
       "<style scoped>\n",
       "    .dataframe tbody tr th:only-of-type {\n",
       "        vertical-align: middle;\n",
       "    }\n",
       "\n",
       "    .dataframe tbody tr th {\n",
       "        vertical-align: top;\n",
       "    }\n",
       "\n",
       "    .dataframe thead th {\n",
       "        text-align: right;\n",
       "    }\n",
       "</style>\n",
       "<table border=\"1\" class=\"dataframe\">\n",
       "  <thead>\n",
       "    <tr style=\"text-align: right;\">\n",
       "      <th></th>\n",
       "      <th>remuneracion_trim</th>\n",
       "    </tr>\n",
       "    <tr>\n",
       "      <th>provincias</th>\n",
       "      <th></th>\n",
       "    </tr>\n",
       "  </thead>\n",
       "  <tbody>\n",
       "    <tr>\n",
       "      <th>caba</th>\n",
       "      <td>18187</td>\n",
       "    </tr>\n",
       "    <tr>\n",
       "      <th>provincia_buenos_aires</th>\n",
       "      <td>15185</td>\n",
       "    </tr>\n",
       "    <tr>\n",
       "      <th>catamarca</th>\n",
       "      <td>12724</td>\n",
       "    </tr>\n",
       "    <tr>\n",
       "      <th>cordoba</th>\n",
       "      <td>13645</td>\n",
       "    </tr>\n",
       "    <tr>\n",
       "      <th>corrientes</th>\n",
       "      <td>11467</td>\n",
       "    </tr>\n",
       "    <tr>\n",
       "      <th>chaco</th>\n",
       "      <td>11601</td>\n",
       "    </tr>\n",
       "    <tr>\n",
       "      <th>chubut</th>\n",
       "      <td>26092</td>\n",
       "    </tr>\n",
       "    <tr>\n",
       "      <th>entre_rios</th>\n",
       "      <td>12279</td>\n",
       "    </tr>\n",
       "    <tr>\n",
       "      <th>formosa</th>\n",
       "      <td>11720</td>\n",
       "    </tr>\n",
       "    <tr>\n",
       "      <th>jujuy</th>\n",
       "      <td>12517</td>\n",
       "    </tr>\n",
       "    <tr>\n",
       "      <th>la_pampa</th>\n",
       "      <td>13511</td>\n",
       "    </tr>\n",
       "    <tr>\n",
       "      <th>la_rioja</th>\n",
       "      <td>11005</td>\n",
       "    </tr>\n",
       "    <tr>\n",
       "      <th>mendoza</th>\n",
       "      <td>12474</td>\n",
       "    </tr>\n",
       "    <tr>\n",
       "      <th>misiones</th>\n",
       "      <td>11012</td>\n",
       "    </tr>\n",
       "    <tr>\n",
       "      <th>neuquen</th>\n",
       "      <td>27636</td>\n",
       "    </tr>\n",
       "    <tr>\n",
       "      <th>rio_negro</th>\n",
       "      <td>15291</td>\n",
       "    </tr>\n",
       "    <tr>\n",
       "      <th>salta</th>\n",
       "      <td>11829</td>\n",
       "    </tr>\n",
       "    <tr>\n",
       "      <th>san_juan</th>\n",
       "      <td>12713</td>\n",
       "    </tr>\n",
       "    <tr>\n",
       "      <th>san_luis</th>\n",
       "      <td>13753</td>\n",
       "    </tr>\n",
       "    <tr>\n",
       "      <th>santa_cruz</th>\n",
       "      <td>30425</td>\n",
       "    </tr>\n",
       "    <tr>\n",
       "      <th>santa_fe</th>\n",
       "      <td>14389</td>\n",
       "    </tr>\n",
       "    <tr>\n",
       "      <th>santiago_estero</th>\n",
       "      <td>10479</td>\n",
       "    </tr>\n",
       "    <tr>\n",
       "      <th>tierra_fuego</th>\n",
       "      <td>25979</td>\n",
       "    </tr>\n",
       "    <tr>\n",
       "      <th>tucuman</th>\n",
       "      <td>10733</td>\n",
       "    </tr>\n",
       "    <tr>\n",
       "      <th>sin_clasificar</th>\n",
       "      <td>NaN</td>\n",
       "    </tr>\n",
       "  </tbody>\n",
       "</table>\n",
       "</div>"
      ],
      "text/plain": [
       "                       remuneracion_trim\n",
       "provincias                              \n",
       "caba                               18187\n",
       "provincia_buenos_aires             15185\n",
       "catamarca                          12724\n",
       "cordoba                            13645\n",
       "corrientes                         11467\n",
       "chaco                              11601\n",
       "chubut                             26092\n",
       "entre_rios                         12279\n",
       "formosa                            11720\n",
       "jujuy                              12517\n",
       "la_pampa                           13511\n",
       "la_rioja                           11005\n",
       "mendoza                            12474\n",
       "misiones                           11012\n",
       "neuquen                            27636\n",
       "rio_negro                          15291\n",
       "salta                              11829\n",
       "san_juan                           12713\n",
       "san_luis                           13753\n",
       "santa_cruz                         30425\n",
       "santa_fe                           14389\n",
       "santiago_estero                    10479\n",
       "tierra_fuego                       25979\n",
       "tucuman                            10733\n",
       "sin_clasificar                       NaN"
      ]
     },
     "execution_count": 230,
     "metadata": {},
     "output_type": "execute_result"
    }
   ],
   "source": [
    "rem_trim_ult_trim"
   ]
  },
  {
   "cell_type": "code",
   "execution_count": 229,
   "metadata": {},
   "outputs": [
    {
     "data": {
      "text/html": [
       "<div>\n",
       "<style scoped>\n",
       "    .dataframe tbody tr th:only-of-type {\n",
       "        vertical-align: middle;\n",
       "    }\n",
       "\n",
       "    .dataframe tbody tr th {\n",
       "        vertical-align: top;\n",
       "    }\n",
       "\n",
       "    .dataframe thead th {\n",
       "        text-align: right;\n",
       "    }\n",
       "</style>\n",
       "<table border=\"1\" class=\"dataframe\">\n",
       "  <thead>\n",
       "    <tr style=\"text-align: right;\">\n",
       "      <th></th>\n",
       "      <th>remuneracion_trim</th>\n",
       "      <th>entidad</th>\n",
       "      <th>objeto</th>\n",
       "      <th>fna</th>\n",
       "      <th>gna</th>\n",
       "      <th>nam</th>\n",
       "      <th>in1</th>\n",
       "      <th>fdc</th>\n",
       "      <th>sag</th>\n",
       "      <th>geometry</th>\n",
       "    </tr>\n",
       "  </thead>\n",
       "  <tbody>\n",
       "    <tr>\n",
       "      <th>0</th>\n",
       "      <td>12724</td>\n",
       "      <td>0</td>\n",
       "      <td>Provincia</td>\n",
       "      <td>Provincia de Catamarca</td>\n",
       "      <td>Provincia</td>\n",
       "      <td>catamarca</td>\n",
       "      <td>10</td>\n",
       "      <td>Geografía</td>\n",
       "      <td>IGN</td>\n",
       "      <td>(POLYGON Z ((-68.10861958199996 -25.2117827209...</td>\n",
       "    </tr>\n",
       "    <tr>\n",
       "      <th>1</th>\n",
       "      <td>11467</td>\n",
       "      <td>0</td>\n",
       "      <td>Provincia</td>\n",
       "      <td>Provincia de Corrientes</td>\n",
       "      <td>Provincia</td>\n",
       "      <td>corrientes</td>\n",
       "      <td>18</td>\n",
       "      <td>Geografía</td>\n",
       "      <td>IGN</td>\n",
       "      <td>(POLYGON Z ((-56.86161522199995 -27.5921278379...</td>\n",
       "    </tr>\n",
       "    <tr>\n",
       "      <th>2</th>\n",
       "      <td>11601</td>\n",
       "      <td>0</td>\n",
       "      <td>Provincia</td>\n",
       "      <td>Provincia del Chaco</td>\n",
       "      <td>Provincia</td>\n",
       "      <td>chaco</td>\n",
       "      <td>22</td>\n",
       "      <td>Geografía</td>\n",
       "      <td>IGN</td>\n",
       "      <td>(POLYGON Z ((-62.24919160899998 -24.1407517869...</td>\n",
       "    </tr>\n",
       "    <tr>\n",
       "      <th>3</th>\n",
       "      <td>26092</td>\n",
       "      <td>0</td>\n",
       "      <td>Provincia</td>\n",
       "      <td>Provincia del Chubut</td>\n",
       "      <td>Provincia</td>\n",
       "      <td>chubut</td>\n",
       "      <td>26</td>\n",
       "      <td>Geografía</td>\n",
       "      <td>IGN</td>\n",
       "      <td>(POLYGON Z ((-66.69851684599996 -45.2474746699...</td>\n",
       "    </tr>\n",
       "    <tr>\n",
       "      <th>4</th>\n",
       "      <td>11720</td>\n",
       "      <td>0</td>\n",
       "      <td>Provincia</td>\n",
       "      <td>Provincia de Formosa</td>\n",
       "      <td>Provincia</td>\n",
       "      <td>formosa</td>\n",
       "      <td>34</td>\n",
       "      <td>Geografía</td>\n",
       "      <td>IGN</td>\n",
       "      <td>(POLYGON Z ((-62.31200527199996 -22.4866595899...</td>\n",
       "    </tr>\n",
       "    <tr>\n",
       "      <th>5</th>\n",
       "      <td>12517</td>\n",
       "      <td>0</td>\n",
       "      <td>Provincia</td>\n",
       "      <td>Provincia de Jujuy</td>\n",
       "      <td>Provincia</td>\n",
       "      <td>jujuy</td>\n",
       "      <td>38</td>\n",
       "      <td>Geografía</td>\n",
       "      <td>IGN</td>\n",
       "      <td>(POLYGON Z ((-65.18656669899997 -22.0853496879...</td>\n",
       "    </tr>\n",
       "    <tr>\n",
       "      <th>6</th>\n",
       "      <td>12474</td>\n",
       "      <td>0</td>\n",
       "      <td>Provincia</td>\n",
       "      <td>Provincia de Mendoza</td>\n",
       "      <td>Provincia</td>\n",
       "      <td>mendoza</td>\n",
       "      <td>50</td>\n",
       "      <td>Geografía</td>\n",
       "      <td>IGN</td>\n",
       "      <td>(POLYGON Z ((-69.12569695099995 -32.0028349849...</td>\n",
       "    </tr>\n",
       "    <tr>\n",
       "      <th>7</th>\n",
       "      <td>11012</td>\n",
       "      <td>0</td>\n",
       "      <td>Provincia</td>\n",
       "      <td>Provincia de Misiones</td>\n",
       "      <td>Provincia</td>\n",
       "      <td>misiones</td>\n",
       "      <td>54</td>\n",
       "      <td>Geografía</td>\n",
       "      <td>IGN</td>\n",
       "      <td>(POLYGON Z ((-53.67369900599994 -26.3322436209...</td>\n",
       "    </tr>\n",
       "    <tr>\n",
       "      <th>8</th>\n",
       "      <td>11829</td>\n",
       "      <td>0</td>\n",
       "      <td>Provincia</td>\n",
       "      <td>Provincia de Salta</td>\n",
       "      <td>Provincia</td>\n",
       "      <td>salta</td>\n",
       "      <td>66</td>\n",
       "      <td>Geografía</td>\n",
       "      <td>IGN</td>\n",
       "      <td>(POLYGON Z ((-62.34229970599995 -22.4608400879...</td>\n",
       "    </tr>\n",
       "  </tbody>\n",
       "</table>\n",
       "</div>"
      ],
      "text/plain": [
       "  remuneracion_trim  entidad     objeto                      fna        gna  \\\n",
       "0             12724        0  Provincia   Provincia de Catamarca  Provincia   \n",
       "1             11467        0  Provincia  Provincia de Corrientes  Provincia   \n",
       "2             11601        0  Provincia      Provincia del Chaco  Provincia   \n",
       "3             26092        0  Provincia     Provincia del Chubut  Provincia   \n",
       "4             11720        0  Provincia     Provincia de Formosa  Provincia   \n",
       "5             12517        0  Provincia       Provincia de Jujuy  Provincia   \n",
       "6             12474        0  Provincia     Provincia de Mendoza  Provincia   \n",
       "7             11012        0  Provincia    Provincia de Misiones  Provincia   \n",
       "8             11829        0  Provincia       Provincia de Salta  Provincia   \n",
       "\n",
       "          nam in1        fdc  sag  \\\n",
       "0   catamarca  10  Geografía  IGN   \n",
       "1  corrientes  18  Geografía  IGN   \n",
       "2       chaco  22  Geografía  IGN   \n",
       "3      chubut  26  Geografía  IGN   \n",
       "4     formosa  34  Geografía  IGN   \n",
       "5       jujuy  38  Geografía  IGN   \n",
       "6     mendoza  50  Geografía  IGN   \n",
       "7    misiones  54  Geografía  IGN   \n",
       "8       salta  66  Geografía  IGN   \n",
       "\n",
       "                                            geometry  \n",
       "0  (POLYGON Z ((-68.10861958199996 -25.2117827209...  \n",
       "1  (POLYGON Z ((-56.86161522199995 -27.5921278379...  \n",
       "2  (POLYGON Z ((-62.24919160899998 -24.1407517869...  \n",
       "3  (POLYGON Z ((-66.69851684599996 -45.2474746699...  \n",
       "4  (POLYGON Z ((-62.31200527199996 -22.4866595899...  \n",
       "5  (POLYGON Z ((-65.18656669899997 -22.0853496879...  \n",
       "6  (POLYGON Z ((-69.12569695099995 -32.0028349849...  \n",
       "7  (POLYGON Z ((-53.67369900599994 -26.3322436209...  \n",
       "8  (POLYGON Z ((-62.34229970599995 -22.4608400879...  "
      ]
     },
     "execution_count": 229,
     "metadata": {},
     "output_type": "execute_result"
    }
   ],
   "source": [
    "rem_trim_prov= pd.read_csv(\"./remun_prov_pesos_trim.csv\")\n",
    "rem_trim_ult_trim= rem_trim_prov[rem_trim_prov[\"indice_tiempo\"]==\"2015-04-01\"].T\n",
    "rem_trim_ult_trim.index.names=[\"provincias\"]\n",
    "rem_trim_ult_trim=rem_trim_ult_trim.rename(columns= {37:\"remuneracion_trim\"})\n",
    "rem_trim_ult_trim= rem_trim_ult_trim.drop([\"indice_tiempo\"], axis=0)\n",
    "rem_trim_ult_trim= rem_trim_ult_trim.drop([\"total_sector_privado\"], axis=0)\n",
    "pd.merge(rem_trim_ult_trim,provincias, left_on=\"provincias\", right_on=\"nam\")"
   ]
  },
  {
   "cell_type": "code",
   "execution_count": 228,
   "metadata": {},
   "outputs": [
    {
     "data": {
      "text/html": [
       "<div>\n",
       "<style scoped>\n",
       "    .dataframe tbody tr th:only-of-type {\n",
       "        vertical-align: middle;\n",
       "    }\n",
       "\n",
       "    .dataframe tbody tr th {\n",
       "        vertical-align: top;\n",
       "    }\n",
       "\n",
       "    .dataframe thead th {\n",
       "        text-align: right;\n",
       "    }\n",
       "</style>\n",
       "<table border=\"1\" class=\"dataframe\">\n",
       "  <thead>\n",
       "    <tr style=\"text-align: right;\">\n",
       "      <th></th>\n",
       "      <th>entidad</th>\n",
       "      <th>objeto</th>\n",
       "      <th>fna</th>\n",
       "      <th>gna</th>\n",
       "      <th>nam</th>\n",
       "      <th>in1</th>\n",
       "      <th>fdc</th>\n",
       "      <th>sag</th>\n",
       "      <th>geometry</th>\n",
       "    </tr>\n",
       "  </thead>\n",
       "  <tbody>\n",
       "    <tr>\n",
       "      <th>9</th>\n",
       "      <td>0</td>\n",
       "      <td>Provincia</td>\n",
       "      <td>Provincia de La Rioja</td>\n",
       "      <td>Provincia</td>\n",
       "      <td>la rioja</td>\n",
       "      <td>46</td>\n",
       "      <td>Geografía</td>\n",
       "      <td>IGN</td>\n",
       "      <td>(POLYGON Z ((-68.52082545399998 -27.8198800829...</td>\n",
       "    </tr>\n",
       "  </tbody>\n",
       "</table>\n",
       "</div>"
      ],
      "text/plain": [
       "   entidad     objeto                    fna        gna       nam in1  \\\n",
       "9        0  Provincia  Provincia de La Rioja  Provincia  la rioja  46   \n",
       "\n",
       "         fdc  sag                                           geometry  \n",
       "9  Geografía  IGN  (POLYGON Z ((-68.52082545399998 -27.8198800829...  "
      ]
     },
     "execution_count": 228,
     "metadata": {},
     "output_type": "execute_result"
    }
   ],
   "source": [
    "provincias[\"nam\"]= provincias[\"nam\"].str.lower()\n",
    "provincias[provincias.nam==\"la rioja\"]"
   ]
  },
  {
   "cell_type": "code",
   "execution_count": 225,
   "metadata": {},
   "outputs": [
    {
     "data": {
      "image/png": "[encoded data removed]",
      "text/plain": [
       "<Figure size 432x288 with 1 Axes>"
      ]
     },
     "metadata": {
      "needs_background": "light"
     },
     "output_type": "display_data"
    }
   ],
   "source": [
    "#Para crear las coordenadas de algún dataset que contenga direcciones que permitan georeferenciarse\n",
    "world = geopandas.read_file(geopandas.datasets.get_path('naturalearth_lowres'))\n",
    "provincias = gpd.read_file('./provincia.json')\n",
    "\n",
    "dataset = pd.read_csv(\"https://apis.datos.gob.ar/georef/api/provincias?formato=csv\")\n",
    "dataset[\"coordenadas\"]=list(zip(dataset.provincia_centroide_lat, dataset.provincia_centroide_lon))\n",
    "dataset['coordenadas'] = dataset['coordenadas'].apply(Point)\n",
    "prov_punto = gpd.GeoDataFrame(dataset, geometry='coordenadas')\n",
    "\n",
    "ejes= world[~(world[\"name\"]==\"Argentina\")].plot(color=\"c\")\n",
    "provincias.plot(ax=ejes, color=\"lightgray\", figsize=(10,20))\n",
    "prov_punto.plot(ax=ejes, color=\"r\", markersize=4)\n",
    "plt.xlim(-75, -50)\n",
    "plt.ylim(-60, -20);"
   ]
  },
  {
   "cell_type": "markdown",
   "metadata": {},
   "source": [
    "# Normalización direcciones"
   ]
  },
  {
   "cell_type": "code",
   "execution_count": 241,
   "metadata": {},
   "outputs": [],
   "source": [
    "import requests as rqs"
   ]
  },
  {
   "cell_type": "code",
   "execution_count": 244,
   "metadata": {},
   "outputs": [
    {
     "data": {
      "text/plain": [
       "'https://apis.datos.gob.ar/georef/api/direcciones?direccion=Honduras 3755, CABA&provincia=caba'"
      ]
     },
     "execution_count": 244,
     "metadata": {},
     "output_type": "execute_result"
    }
   ],
   "source": [
    "direccion = 'Honduras 3755, CABA'\n",
    "provincia = 'caba'\n",
    "url_base ='https://apis.datos.gob.ar/georef/api/direcciones?direccion={}&provincia={}'\n",
    "url_base.format(direccion, provincia)"
   ]
  },
  {
   "cell_type": "code",
   "execution_count": 251,
   "metadata": {},
   "outputs": [
    {
     "data": {
      "text/plain": [
       "{'cantidad': 1,\n",
       " 'direcciones': [{'altura': {'unidad': None, 'valor': 3755},\n",
       "   'calle': {'categoria': 'AV',\n",
       "    'id': '0209801001415',\n",
       "    'nombre': 'AV HONDURAS'},\n",
       "   'calle_cruce_1': {'categoria': None, 'id': None, 'nombre': None},\n",
       "   'calle_cruce_2': {'categoria': None, 'id': None, 'nombre': None},\n",
       "   'departamento': {'id': '02098', 'nombre': 'Comuna 14'},\n",
       "   'localidad_censal': {'id': '02000010',\n",
       "    'nombre': 'Ciudad Autónoma de Buenos Aires'},\n",
       "   'nomenclatura': 'AV HONDURAS 3755, Comuna 14, Ciudad Autónoma de Buenos Aires',\n",
       "   'piso': None,\n",
       "   'provincia': {'id': '02', 'nombre': 'Ciudad Autónoma de Buenos Aires'},\n",
       "   'ubicacion': {'lat': -34.59407315430296, 'lon': -58.41550703113384}}],\n",
       " 'inicio': 0,\n",
       " 'parametros': {'direccion': {'altura': {'unidad': None, 'valor': '3755'},\n",
       "   'calles': ['Honduras'],\n",
       "   'piso': None,\n",
       "   'tipo': 'simple'},\n",
       "  'provincia': 'caba'},\n",
       " 'total': 1}"
      ]
     },
     "execution_count": 251,
     "metadata": {},
     "output_type": "execute_result"
    }
   ],
   "source": [
    "r = rqs.get(url_base.format(direccion, provincia))\n",
    "r.json()"
   ]
  },
  {
   "cell_type": "code",
   "execution_count": 255,
   "metadata": {},
   "outputs": [
    {
     "data": {
      "text/plain": [
       "{'direccion': {'altura': {'unidad': None, 'valor': '3755'},\n",
       "  'calles': ['Honduras'],\n",
       "  'piso': None,\n",
       "  'tipo': 'simple'},\n",
       " 'provincia': 'caba'}"
      ]
     },
     "execution_count": 255,
     "metadata": {},
     "output_type": "execute_result"
    }
   ],
   "source": [
    "r.json()[\"parametros\"]"
   ]
  },
  {
   "cell_type": "code",
   "execution_count": 278,
   "metadata": {},
   "outputs": [
    {
     "data": {
      "text/plain": [
       "{'altura': {'unidad': None, 'valor': 3755},\n",
       " 'calle': {'categoria': 'AV', 'id': '0209801001415', 'nombre': 'AV HONDURAS'},\n",
       " 'calle_cruce_1': {'categoria': None, 'id': None, 'nombre': None},\n",
       " 'calle_cruce_2': {'categoria': None, 'id': None, 'nombre': None},\n",
       " 'departamento': {'id': '02098', 'nombre': 'Comuna 14'},\n",
       " 'localidad_censal': {'id': '02000010',\n",
       "  'nombre': 'Ciudad Autónoma de Buenos Aires'},\n",
       " 'nomenclatura': 'AV HONDURAS 3755, Comuna 14, Ciudad Autónoma de Buenos Aires',\n",
       " 'piso': None,\n",
       " 'provincia': {'id': '02', 'nombre': 'Ciudad Autónoma de Buenos Aires'},\n",
       " 'ubicacion': {'lat': -34.59407315430296, 'lon': -58.41550703113384}}"
      ]
     },
     "execution_count": 278,
     "metadata": {},
     "output_type": "execute_result"
    }
   ],
   "source": [
    "data = r.json()\n",
    "data['direcciones'][0]"
   ]
  },
  {
   "cell_type": "code",
   "execution_count": 284,
   "metadata": {},
   "outputs": [
    {
     "data": {
      "text/plain": [
       "{'lat': -34.59407315430296, 'lon': -58.41550703113384}"
      ]
     },
     "execution_count": 284,
     "metadata": {},
     "output_type": "execute_result"
    }
   ],
   "source": [
    "data['direcciones'][0]['ubicacion']"
   ]
  },
  {
   "cell_type": "code",
   "execution_count": null,
   "metadata": {},
   "outputs": [],
   "source": [
    "direccion = ['Belgrano 637',\n",
    "'Balcarce 50',\n",
    "'Av San Martin 935']\n",
    "\n",
    "df = pd.DataFrame(data=direccion,columns=['direccion'])"
   ]
  },
  {
   "cell_type": "code",
   "execution_count": null,
   "metadata": {},
   "outputs": [],
   "source": [
    "df['geometry'] = df.direccion.apply(interpretar_direccion)"
   ]
  },
  {
   "cell_type": "code",
   "execution_count": null,
   "metadata": {},
   "outputs": [],
   "source": [
    "def interpretar_direccion(direccion):\n",
    "    url_base ='https://apis.datos.gob.ar/georef/api/direcciones?direccion={}'\n",
    "    r = requests.get(url_base.format(direccion))\n",
    "    data = r.json()\n",
    "    ubicacion = data['direcciones'][0]['ubicacion']\n",
    "    return Point((ubicacion['lat'], ubicacion['lon']))"
   ]
  },
  {
   "cell_type": "code",
   "execution_count": null,
   "metadata": {},
   "outputs": [],
   "source": [
    "interpretar_direccion('Diagonal Norte 511')"
   ]
  },
  {
   "cell_type": "code",
   "execution_count": null,
   "metadata": {},
   "outputs": [],
   "source": [
    "'asdasd a {:0>3}  asdasd {}'.format(3,5)"
   ]
  },
  {
   "cell_type": "code",
   "execution_count": null,
   "metadata": {},
   "outputs": [],
   "source": [
    "df"
   ]
  }
 ],
 "metadata": {
  "kernelspec": {
   "display_name": "Python 3",
   "language": "python",
   "name": "python3"
  },
  "language_info": {
   "codemirror_mode": {
    "name": "ipython",
    "version": 3
   },
   "file_extension": ".py",
   "mimetype": "text/x-python",
   "name": "python",
   "nbconvert_exporter": "python",
   "pygments_lexer": "ipython3",
   "version": "3.7.3"
  }
 },
 "nbformat": 4,
 "nbformat_minor": 2
}
