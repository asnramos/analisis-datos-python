{
 "cells": [
  {
   "cell_type": "code",
   "execution_count": 4,
   "metadata": {},
   "outputs": [],
   "source": [
    "import pandas as pd\n",
    "import matplotlib.pyplot as plt\n",
    "%matplotlib inline"
   ]
  },
  {
   "cell_type": "markdown",
   "metadata": {},
   "source": [
    "# Resultado Fiscal - último mes reportado 2019\n",
    "\n",
    "## Resumen ejecutivo"
   ]
  },
  {
   "cell_type": "code",
   "execution_count": 5,
   "metadata": {
    "scrolled": true
   },
   "outputs": [
    {
     "name": "stdout",
     "output_type": "stream",
     "text": [
      "Durante el mes de julio el Sector Público Nacional tuvo un superávit primario de $ 4.293 millones, lo que implica una mejora de $ 18.572 millones frente al déficit de $ 14.280 millones registrado en igual mes de 2018. Los recursos totales crecieron 61,6% en términos interanuales (i.a.), 11 puntos porcentuales (p.p.) más en relación a los gastos primarios que tuvieron un incremento de 50,5% i.a.\n"
     ]
    }
   ],
   "source": [
    "#EL TEXTO PARA ARMAR DE FORMA AUTOMÁTICA- ** ver si dejarlo en formáto de código o armarlo en Markdown, en éste último caso, \n",
    "#BUSCAR!!**\n",
    "print(\"Durante el mes de julio el Sector Público Nacional tuvo un superávit primario de $ 4.293 millones, lo que implica una mejora de $ 18.572 millones frente al déficit de $ 14.280 millones registrado en igual mes de 2018. Los recursos totales crecieron 61,6% en términos interanuales (i.a.), 11 puntos porcentuales (p.p.) más en relación a los gastos primarios que tuvieron un incremento de 50,5% i.a.\")"
   ]
  },
  {
   "cell_type": "markdown",
   "metadata": {},
   "source": [
    "### Ingresos Totales (Formato IMIG)"
   ]
  },
  {
   "cell_type": "code",
   "execution_count": 35,
   "metadata": {},
   "outputs": [],
   "source": [
    "# Armo los dataframes con los ids de los componentes de cada uno de los subtotales \"tributarios\", \"rentas\", \"otros corrientes\" y \"capital\"\n",
    " \n",
    "it_tributarios= pd.read_csv(\"https://apis.datos.gob.ar/series/api/series/?ids=452.2_IVA_NETO_RROS_0_T_19_67,452.2_GANANCIASIAS_0_T_9_51,452.2_APORTES_COIAL_0_T_39_29,452.2_DEBITOS_CRTOS_0_T_16_22,452.2_BIENES_PERLES_0_T_17_26,452.2_IMPUESTOS_NOS_0_T_18_87,452.2_COMBUSTIBLLES_0_T_12_97,452.2_DERECHOS_EION_0_T_20_42,452.2_DERECHOS_IION_0_T_20_60,452.2_RESTO_TRIBIOS_0_T_17_0&limit=5000&format=csv\")\n",
    "it_rentas= pd.read_csv(\"https://apis.datos.gob.ar/series/api/series/?ids=452.2_FGS_COBRADERO_0_T_53_90,452.2_RESTO_RENTDAD_0_T_22_24&limit=5000&format=csv\")\n",
    "it_otros= pd.read_csv(\"https://apis.datos.gob.ar/series/api/series/?ids=452.2_INGRESOS_NIOS_0_T_23_2,452.2_TRANSFERENTES_0_T_25_22,452.2_RESTO_INGRTES_0_T_25_96&limit=5000&format=csv\")\n",
    "it_capital= pd.read_csv(\"https://apis.datos.gob.ar/series/api/series/?ids=452.2_INGRESOS_CTAL_0_T_16_75&limit=5000&format=csv\")\n",
    "\n",
    "# Transformo a formato de datetime y pongo como índice al campo \"indice_tiempo\"\n",
    "it_tributarios.indice_tiempo= pd.to_datetime(it_tributarios.indice_tiempo)\n",
    "it_rentas.indice_tiempo= pd.to_datetime(it_rentas.indice_tiempo)\n",
    "it_otros.indice_tiempo= pd.to_datetime(it_otros.indice_tiempo)\n",
    "it_capital.indice_tiempo= pd.to_datetime(it_capital.indice_tiempo)\n",
    "\n",
    "it_tributarios= it_tributarios.set_index(\"indice_tiempo\")\n",
    "it_rentas= it_rentas.set_index(\"indice_tiempo\")\n",
    "it_otros= it_otros.set_index(\"indice_tiempo\")\n",
    "it_capital= it_capital.set_index(\"indice_tiempo\")\n",
    "\n"
   ]
  },
  {
   "cell_type": "code",
   "execution_count": null,
   "metadata": {},
   "outputs": [],
   "source": [
    "\n"
   ]
  },
  {
   "cell_type": "code",
   "execution_count": 36,
   "metadata": {},
   "outputs": [
    {
     "data": {
      "text/html": [
       "<div>\n",
       "<style scoped>\n",
       "    .dataframe tbody tr th:only-of-type {\n",
       "        vertical-align: middle;\n",
       "    }\n",
       "\n",
       "    .dataframe tbody tr th {\n",
       "        vertical-align: top;\n",
       "    }\n",
       "\n",
       "    .dataframe thead th {\n",
       "        text-align: right;\n",
       "    }\n",
       "</style>\n",
       "<table border=\"1\" class=\"dataframe\">\n",
       "  <thead>\n",
       "    <tr style=\"text-align: right;\">\n",
       "      <th>indice_tiempo</th>\n",
       "      <th>2018-07</th>\n",
       "      <th>2019-07</th>\n",
       "      <th>var%_anual</th>\n",
       "      <th>var$_anual</th>\n",
       "    </tr>\n",
       "  </thead>\n",
       "  <tbody>\n",
       "    <tr>\n",
       "      <th>I.a) Tributarios</th>\n",
       "      <td>205571.6</td>\n",
       "      <td>314941.8</td>\n",
       "      <td>53.20</td>\n",
       "      <td>109370.2</td>\n",
       "    </tr>\n",
       "    <tr>\n",
       "      <th>I.b) Rentas</th>\n",
       "      <td>14605.1</td>\n",
       "      <td>27241.4</td>\n",
       "      <td>86.52</td>\n",
       "      <td>12636.3</td>\n",
       "    </tr>\n",
       "    <tr>\n",
       "      <th>I.c) Otros_Corrientes</th>\n",
       "      <td>7511.2</td>\n",
       "      <td>21290.9</td>\n",
       "      <td>183.46</td>\n",
       "      <td>13779.7</td>\n",
       "    </tr>\n",
       "    <tr>\n",
       "      <th>I.d) Capital</th>\n",
       "      <td>4931.0</td>\n",
       "      <td>12392.5</td>\n",
       "      <td>151.32</td>\n",
       "      <td>7461.5</td>\n",
       "    </tr>\n",
       "    <tr>\n",
       "      <th>Total_Ingresos_Totales</th>\n",
       "      <td>232618.9</td>\n",
       "      <td>375866.6</td>\n",
       "      <td>61.58</td>\n",
       "      <td>143247.7</td>\n",
       "    </tr>\n",
       "  </tbody>\n",
       "</table>\n",
       "</div>"
      ],
      "text/plain": [
       "indice_tiempo            2018-07   2019-07  var%_anual  var$_anual\n",
       "I.a) Tributarios        205571.6  314941.8       53.20    109370.2\n",
       "I.b) Rentas              14605.1   27241.4       86.52     12636.3\n",
       "I.c) Otros_Corrientes     7511.2   21290.9      183.46     13779.7\n",
       "I.d) Capital              4931.0   12392.5      151.32      7461.5\n",
       "Total_Ingresos_Totales  232618.9  375866.6       61.58    143247.7"
      ]
     },
     "execution_count": 36,
     "metadata": {},
     "output_type": "execute_result"
    }
   ],
   "source": [
    "#Como no contamos con los subtotales de Tributarios, Rentas, Otros Corrientes y capital para el armado del Resumen del mes IMIG,\n",
    "#lo armamos trasponiendo los dataframe y sumando todos sus compoonentes. Esto nos va a permitir tener las series deseadas \n",
    "#y formar un dataframe con una estructura similar a la que queríamos llegar.\n",
    "\n",
    "# it_tributarios.T.sum(), \n",
    "# it_rentas.T.sum(),\n",
    "# it_otros.T.sum(),\n",
    "# it_capital.T.sum(),\n",
    "total=it_tributarios.T.sum() + it_rentas.T.sum() + it_otros.T.sum() + it_capital.T.sum()\n",
    "\n",
    "# creamos un dataframe para Ingresos Totales con todos sus componentes. #VER COMO REORDENAR LAS FILAS!!!\n",
    "ingresos_totales = pd.DataFrame({\n",
    "    \"I.a) Tributarios\": it_tributarios.T.sum(), \n",
    "    \"I.b) Rentas\": it_rentas.T.sum(),\n",
    "    \"I.c) Otros_Corrientes\": it_otros.T.sum(),\n",
    "    \"I.d) Capital\": it_capital.T.sum(),\n",
    "    \"Total_Ingresos_Totales\":total\n",
    "})\n",
    "\n",
    "\n",
    "ingresos_totales.index=ingresos_totales.index.to_period()\n",
    "\n",
    "## PARA CONSIDERAR SIEMPRE EL ÚLTIMO PERIODO DE LA SERIE Y EL DEL AÑO ANTERIOR GENERO LAS VARIABLES periodo_actual y periodo_anio_anterior\n",
    "periodo_actual = ingresos_totales.index.max()\n",
    "periodo_anio_anterior = periodo_actual - 12\n",
    "\n",
    "imig_it=ingresos_totales[(ingresos_totales.index==periodo_anio_anterior)|(ingresos_totales.index==periodo_actual)].pivot_table(columns=\"indice_tiempo\")\n",
    "\n",
    "imig_it[\"var%_anual\"]= round( (imig_it[periodo_actual] / imig_it[periodo_anio_anterior]) - 1, 4) * 100\n",
    "\n",
    "# Quisiera agregar la diferencia absoluta en $\n",
    "# PORQUE NO ME SIRVE ÉSTA ASIGNACIÓN?? \n",
    "imig_it.columns = imig_it.columns.astype(str)\n",
    "imig_it[\"var$_anual\"]= imig_it[str(object= periodo_actual)] - imig_it[str(object=periodo_anio_anterior)]\n",
    "\n",
    "imig_it= imig_it.rename(columns={\"indice_tiempo\": \"Concepto\"})\n",
    "imig_it\n",
    "\n",
    "# FALTARÍA ORDENAR LOS CONCEPTOS POR COMPONENTE (EL \"TOTAL_INGRESOS_TOTALES DEBERÍA IR AL FINAL\" y si es posible remarcar en negrita)"
   ]
  },
  {
   "cell_type": "code",
   "execution_count": 102,
   "metadata": {},
   "outputs": [
    {
     "data": {
      "text/plain": [
       "Index(['2018-07', '2019-07', 'var%_anual'], dtype='object', name='indice_tiempo')"
      ]
     },
     "execution_count": 102,
     "metadata": {},
     "output_type": "execute_result"
    }
   ],
   "source": [
    "imig_it.columns.astype(str)"
   ]
  },
  {
   "cell_type": "markdown",
   "metadata": {},
   "source": [
    "## Resultado Primario en términos del PBI\n",
    "\n"
   ]
  },
  {
   "cell_type": "code",
   "execution_count": 117,
   "metadata": {},
   "outputs": [],
   "source": [
    "pbi_rp=pd.read_csv(\"https://apis.datos.gob.ar/series/api/series/?ids=9.2_PPC_2004_T_22,452.3_RESULTADO_RIO_0_M_18_54&collapse=quarter&collapse_aggregation=sum&limit=5000&format=csv\")\n",
    "\n",
    "pbi_rp[\"indice_tiempo\"] = pd.to_datetime(pbi_rp[\"indice_tiempo\"])\n",
    "pbi_rp=pbi_rp.set_index(\"indice_tiempo\")\n",
    "\n",
    "pbi_rp= pbi_rp[pbi_rp.index>=\"20160101\"]\n",
    "\n",
    "#como no tenemos info del pbi estimado para el 2do trim 2019, repetimos el del \n",
    "# último trim informado\n",
    "\n",
    "pbi_rp.loc[\"2019-04-01\", \"pib_precios_corrientes\"]= pbi_rp.loc[\"2019-01-01\", \"pib_precios_corrientes\"]\n",
    "pbi_rp[\"pib_precios_corrientes\"] = pbi_rp[\"pib_precios_corrientes\"]"
   ]
  },
  {
   "cell_type": "code",
   "execution_count": 118,
   "metadata": {},
   "outputs": [],
   "source": [
    "## PARA CONSIDERAR SIEMPRE EL ÚLTIMO PERIODO DE LA SERIE Y EL DEL AÑO ANTERIOR GENERO LAS VARIABLES periodo_actual y periodo_anio_anterior\n",
    "periodo_actual = ingresos_totales.index.max()\n",
    "periodo_anio_anterior = periodo_actual - 12"
   ]
  },
  {
   "cell_type": "code",
   "execution_count": 119,
   "metadata": {},
   "outputs": [
    {
     "data": {
      "text/html": [
       "<div>\n",
       "<style scoped>\n",
       "    .dataframe tbody tr th:only-of-type {\n",
       "        vertical-align: middle;\n",
       "    }\n",
       "\n",
       "    .dataframe tbody tr th {\n",
       "        vertical-align: top;\n",
       "    }\n",
       "\n",
       "    .dataframe thead th {\n",
       "        text-align: right;\n",
       "    }\n",
       "</style>\n",
       "<table border=\"1\" class=\"dataframe\">\n",
       "  <thead>\n",
       "    <tr style=\"text-align: right;\">\n",
       "      <th></th>\n",
       "      <th>pib_precios_corrientes</th>\n",
       "      <th>resultado_primario</th>\n",
       "    </tr>\n",
       "    <tr>\n",
       "      <th>indice_tiempo</th>\n",
       "      <th></th>\n",
       "      <th></th>\n",
       "    </tr>\n",
       "  </thead>\n",
       "  <tbody>\n",
       "    <tr>\n",
       "      <th>2016-01-01</th>\n",
       "      <td>7.006645e+06</td>\n",
       "      <td>-15304.603333</td>\n",
       "    </tr>\n",
       "    <tr>\n",
       "      <th>2016-04-01</th>\n",
       "      <td>8.414556e+06</td>\n",
       "      <td>-22291.886667</td>\n",
       "    </tr>\n",
       "    <tr>\n",
       "      <th>2016-07-01</th>\n",
       "      <td>8.527629e+06</td>\n",
       "      <td>-32266.368227</td>\n",
       "    </tr>\n",
       "    <tr>\n",
       "      <th>2016-10-01</th>\n",
       "      <td>8.963808e+06</td>\n",
       "      <td>-44645.649867</td>\n",
       "    </tr>\n",
       "    <tr>\n",
       "      <th>2017-01-01</th>\n",
       "      <td>9.207048e+06</td>\n",
       "      <td>-13781.266667</td>\n",
       "    </tr>\n",
       "    <tr>\n",
       "      <th>2017-04-01</th>\n",
       "      <td>1.060247e+07</td>\n",
       "      <td>-34313.933333</td>\n",
       "    </tr>\n",
       "    <tr>\n",
       "      <th>2017-07-01</th>\n",
       "      <td>1.107009e+07</td>\n",
       "      <td>-26031.100000</td>\n",
       "    </tr>\n",
       "    <tr>\n",
       "      <th>2017-10-01</th>\n",
       "      <td>1.169951e+07</td>\n",
       "      <td>-60587.800000</td>\n",
       "    </tr>\n",
       "    <tr>\n",
       "      <th>2018-01-01</th>\n",
       "      <td>1.229560e+07</td>\n",
       "      <td>-10333.633333</td>\n",
       "    </tr>\n",
       "    <tr>\n",
       "      <th>2018-04-01</th>\n",
       "      <td>1.424278e+07</td>\n",
       "      <td>-24941.266667</td>\n",
       "    </tr>\n",
       "    <tr>\n",
       "      <th>2018-07-01</th>\n",
       "      <td>1.496094e+07</td>\n",
       "      <td>-15830.100000</td>\n",
       "    </tr>\n",
       "    <tr>\n",
       "      <th>2018-10-01</th>\n",
       "      <td>1.692384e+07</td>\n",
       "      <td>-61890.766667</td>\n",
       "    </tr>\n",
       "    <tr>\n",
       "      <th>2019-01-01</th>\n",
       "      <td>1.755497e+07</td>\n",
       "      <td>3449.000000</td>\n",
       "    </tr>\n",
       "    <tr>\n",
       "      <th>2019-04-01</th>\n",
       "      <td>1.755497e+07</td>\n",
       "      <td>6624.700000</td>\n",
       "    </tr>\n",
       "  </tbody>\n",
       "</table>\n",
       "</div>"
      ],
      "text/plain": [
       "               pib_precios_corrientes  resultado_primario\n",
       "indice_tiempo                                            \n",
       "2016-01-01               7.006645e+06       -15304.603333\n",
       "2016-04-01               8.414556e+06       -22291.886667\n",
       "2016-07-01               8.527629e+06       -32266.368227\n",
       "2016-10-01               8.963808e+06       -44645.649867\n",
       "2017-01-01               9.207048e+06       -13781.266667\n",
       "2017-04-01               1.060247e+07       -34313.933333\n",
       "2017-07-01               1.107009e+07       -26031.100000\n",
       "2017-10-01               1.169951e+07       -60587.800000\n",
       "2018-01-01               1.229560e+07       -10333.633333\n",
       "2018-04-01               1.424278e+07       -24941.266667\n",
       "2018-07-01               1.496094e+07       -15830.100000\n",
       "2018-10-01               1.692384e+07       -61890.766667\n",
       "2019-01-01               1.755497e+07         3449.000000\n",
       "2019-04-01               1.755497e+07         6624.700000"
      ]
     },
     "execution_count": 119,
     "metadata": {},
     "output_type": "execute_result"
    }
   ],
   "source": [
    "#creo un df llamado a para poder tener los pbi promedios trimestrales en todo el año\n",
    "\n",
    "pbi=pbi_rp[\"pib_precios_corrientes\"]\n",
    "pbi=pbi.reset_index()\n",
    "pbi_prom= pbi.groupby(pbi.indice_tiempo.dt.year).mean()\n",
    "#pbi_prom termina siendo una nueva serie pero con un índice temporal expresado en años\n",
    "pbi_rp\n"
   ]
  },
  {
   "cell_type": "code",
   "execution_count": 128,
   "metadata": {},
   "outputs": [
    {
     "data": {
      "text/plain": [
       "'2016-01-01'"
      ]
     },
     "execution_count": 128,
     "metadata": {},
     "output_type": "execute_result"
    }
   ],
   "source": [
    "pbi_rp.index.year.min().astype(str)+\"-01-01\""
   ]
  },
  {
   "cell_type": "code",
   "execution_count": 127,
   "metadata": {},
   "outputs": [
    {
     "ename": "IndentationError",
     "evalue": "expected an indented block (<ipython-input-127-0122a0e81ac7>, line 2)",
     "output_type": "error",
     "traceback": [
      "\u001b[1;36m  File \u001b[1;32m\"<ipython-input-127-0122a0e81ac7>\"\u001b[1;36m, line \u001b[1;32m2\u001b[0m\n\u001b[1;33m    pbi_rp.loc[(pbi_rp.index.year==anio) & (pbi_rp.index.quarter==2), \"resultado_primario\"] = pbi_rp.loc[anio.astype(str)+\"-01-01\", \"resultado_primario\"]+pbi_rp.loc[anio.astype(str)+\"-04-01\", \"resultado_primario\"]\u001b[0m\n\u001b[1;37m         ^\u001b[0m\n\u001b[1;31mIndentationError\u001b[0m\u001b[1;31m:\u001b[0m expected an indented block\n"
     ]
    }
   ],
   "source": [
    "for anio in range (pbi_rp.index.year.min(), pbi_rp.index.year.max()-1):\n",
    "pbi_rp.loc[(pbi_rp.index.year==anio) & (pbi_rp.index.quarter==2), \"resultado_primario\"] = pbi_rp.loc[anio.astype(str, \"resultado_primario\"]+pbi_rp.loc[anio.astype(str)+\"-04-01\", \"resultado_primario\"]\n",
    "# pbi_rp.loc[(pbi_rp.index.year==anio) & (pbi_rp.index.quarter==3), \"resultado_primario\"] = pbi_rp.loc[anio.astype(str)+\"-04-01\", \"resultado_primario\"]+pbi_rp.loc[anio.astype(str)+\"-07-01\", \"resultado_primario\"]\n",
    "# pbi_rp.loc[(pbi_rp.index.year==anio) & (pbi_rp.index.quarter==4), \"resultado_primario\"] = pbi_rp.loc[anio.astype(str)+\"-07-01\", \"resultado_primario\"]+pbi_rp.loc[anio.astype(str)+\"-10-01\", \"resultado_primario\"]"
   ]
  },
  {
   "cell_type": "code",
   "execution_count": 116,
   "metadata": {},
   "outputs": [
    {
     "data": {
      "text/plain": [
       "Index(['2016-01-01', '2016-04-01', '2016-07-01', '2016-10-01', '2017-01-01',\n",
       "       '2017-04-01', '2017-07-01', '2017-10-01', '2018-01-01', '2018-04-01',\n",
       "       '2018-07-01', '2018-10-01', '2019-01-01', '2019-04-01'],\n",
       "      dtype='object', name='indice_tiempo')"
      ]
     },
     "execution_count": 116,
     "metadata": {},
     "output_type": "execute_result"
    }
   ],
   "source": [
    "ind= pbi_rp.index.astype(str) +\"-\"+ pbi_rp.index.month.astype(str).str.zfill(2) +\"-01\"\n",
    "ind\n",
    "    "
   ]
  },
  {
   "cell_type": "code",
   "execution_count": 66,
   "metadata": {},
   "outputs": [
    {
     "ename": "IndentationError",
     "evalue": "expected an indented block (<ipython-input-66-479113db6e41>, line 6)",
     "output_type": "error",
     "traceback": [
      "\u001b[1;36m  File \u001b[1;32m\"<ipython-input-66-479113db6e41>\"\u001b[1;36m, line \u001b[1;32m6\u001b[0m\n\u001b[1;33m    pbi_rp.loc[(pbi_rp.index.year==anio) & (pbi_rp.index.quarter==2), \"resultado_primario\"]= pbi_rp.loc[(pbi_rp.index.year==anio) & (pbi_rp.index.quarter==1), \"resultado_primario\"] + pbi_rp.loc[(pbi_rp.index.year==anio) & (pbi_rp.index.quarter==2), \"resultado_primario\"]\u001b[0m\n\u001b[1;37m         ^\u001b[0m\n\u001b[1;31mIndentationError\u001b[0m\u001b[1;31m:\u001b[0m expected an indented block\n"
     ]
    }
   ],
   "source": [
    "#reemplazo los pib de la tabla con los promedios calculados en \"a\"\n",
    "for anio in range(2016,2020):\n",
    "    pbi_rp.loc[pbi_rp.index.year==anio, \"pib_precios_corrientes\"]= pbi_prom.loc[anio,\"pib_precios_corrientes\"]\n",
    "    \n",
    "    \n",
    "#NO FUNCIONA!!\n",
    "# if pbi_rp.index.year==2016 :\n",
    "#      pbi_rp[\"pib_precios_corrientes\"]= a.loc[2016,\"pib_precios_corrientes\"]\n",
    "# elif pbi_rp.index.year==2017 :\n",
    "#      pbi_rp[\"pbi_precios_corrientes\"]= a.loc[2017,\"pib_precios_corrientes\"]\n",
    "# elif pbi_rp.index.year==2018 :\n",
    "#      pbi_rp[\"pbi_precios_corrientes\"]= a.loc[2018,\"pib_precios_corrientes\"]\n",
    "# elif pbi_rp.index.year==2019 :\n",
    "#      pbi_rp[\"pbi_precios_corrientes\"]= a.loc[2019,\"pib_precios_corrientes\"]\n",
    "\n",
    "   \n",
    "\n",
    "#Ahora si, es posible calcular el rp en términos del pbi\n",
    "\n",
    "pbi_rp[\"rp_en%_pbi\"]=round((pbi_rp[\"resultado_primario\"] / pbi_rp[\"pib_precios_corrientes\"]) *100,4)\n",
    "\n",
    "pbi_rp[\"metas_en%\"]= [\"\", \"\", \"\", \"\", -3.8, -3.8, -3.8, -3.8, 0.6, 1.1, 1.9, 2.7, 0, 0 ]\n",
    "pbi_rp[\"metas_en%\"]= pd.to_numeric(pbi_rp[\"metas_en%\"])\n",
    "pbi_rp.plot(y=['rp_en%_pbi', 'metas_en%'])"
   ]
  },
  {
   "cell_type": "code",
   "execution_count": null,
   "metadata": {},
   "outputs": [],
   "source": [
    "#rp_imig = round((pbi_rp[\"resultado_primario\"] / pbi_rp[\"pib_precios_corrientes\"]) *100,4)\n",
    "#rp_imig = rp_imig.reset_index()\n",
    "# rp_imig= rp_imig.set_index(\"indice_tiempo\")\n",
    "\n",
    "# rp_imig.rename(columns={0:\"rp_en%_pbi\"}, inplace=True)\n",
    "\n",
    "# #Redefinir Metas\n",
    "# rp_imig[\"metas\"]=2\n",
    "\n"
   ]
  },
  {
   "cell_type": "code",
   "execution_count": null,
   "metadata": {},
   "outputs": [],
   "source": [
    "rp_imig.plot()"
   ]
  },
  {
   "cell_type": "code",
   "execution_count": 226,
   "metadata": {},
   "outputs": [],
   "source": [
    "# trim= {1:\"1T\", 2:\"1T\", 3:\"1T\", 4:\"2T\", 5:\"2T\", 6:\"2T\", 7:\"3T\", 8:\"3T\", 9:\"3T\", 10:\"4T\", 11:\"4T\", 12:\"4T\"}\n",
    "# RP[\"indice_tiempo\"] = pd.to_datetime(RP[\"indice_tiempo\"])\n",
    "# mes = RP[\"indice_tiempo\"].dt.month\n",
    "# RP[\"trim\"]= mes.apply(lambda x: trim[x])\n",
    "# RP[\"trim_anio\"]= RP[\"indice_tiempo\"].dt.year.astype(str) + \"-\" + RP[\"trim\"].astype(str)\n",
    "# del RP[\"trim\"]\n",
    "\n",
    "# rp[\"anio_trim\"]= rp.index.year.astype(str) + \"-\" + rp.index.quarter.astype(str)\n",
    "# rp.head()\n",
    "\n"
   ]
  },
  {
   "cell_type": "code",
   "execution_count": 153,
   "metadata": {},
   "outputs": [],
   "source": [
    "#plt.plot(RP.anio_trim, RP.resultado_primario, title=\"Resultado Primario - por trimestre\")\n",
    "#plt.xlabel(\"trimestre\")\n",
    "#plt.ylabel(\"resultado primario\")"
   ]
  },
  {
   "cell_type": "code",
   "execution_count": null,
   "metadata": {},
   "outputs": [],
   "source": []
  }
 ],
 "metadata": {
  "kernelspec": {
   "display_name": "Python 3",
   "language": "python",
   "name": "python3"
  },
  "language_info": {
   "codemirror_mode": {
    "name": "ipython",
    "version": 3
   },
   "file_extension": ".py",
   "mimetype": "text/x-python",
   "name": "python",
   "nbconvert_exporter": "python",
   "pygments_lexer": "ipython3",
   "version": "3.7.3"
  },
  "toc": {
   "colors": {
    "hover_highlight": "#DAA520",
    "running_highlight": "#FF0000",
    "selected_highlight": "#FFD700"
   },
   "moveMenuLeft": true,
   "nav_menu": {
    "height": "12px",
    "width": "252px"
   },
   "navigate_menu": true,
   "number_sections": true,
   "sideBar": true,
   "threshold": 4,
   "toc_cell": false,
   "toc_section_display": "block",
   "toc_window_display": false
  }
 },
 "nbformat": 4,
 "nbformat_minor": 2
}
