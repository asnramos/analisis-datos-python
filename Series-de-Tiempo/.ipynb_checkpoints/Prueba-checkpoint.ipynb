{
 "cells": [
  {
   "cell_type": "markdown",
   "metadata": {},
   "source": [
    "## Más gráficos."
   ]
  },
  {
   "cell_type": "code",
   "execution_count": 1,
   "metadata": {},
   "outputs": [],
   "source": [
    "import pandas as pd\n",
    "#Matplotlib es un paquete de Python usado para crear gráficos de alta calidad, listos para publicar. Admite una amplia gama de formatos de gráficos rasterizados y vectoriales, tales como PNG, PostScript, EPS, PDF y SVG.\n",
    "#Además, Matplotlib es el motor que hay detrás de las capacidades gráficas de los paquetes Pandas y plotnine. Cuando invocamos el método .plot en objetos de datos Pandas, estamos usando el paquete matplotlib.\n",
    "#La diversidad de gráficos pueden consultarse en: \"https://matplotlib.org/gallery.html\"\n",
    "\n",
    "#importamos el paquete de herramientas pyplot.\n",
    "import matplotlib.pyplot as plt\n",
    "#Para que los gráficos se visualicen en la misma hoja de trabajo, ejecuto:\n",
    "%matplotlib inline\n",
    "from pandas import ExcelWriter\n",
    "from pandas import ExcelFile\n"
   ]
  },
  {
   "cell_type": "markdown",
   "metadata": {},
   "source": [
    "### Gráficos con listas"
   ]
  },
  {
   "cell_type": "code",
   "execution_count": 8,
   "metadata": {},
   "outputs": [
    {
     "data": {
      "image/png": "[encoded data removed]",
      "text/plain": [
       "<Figure size 432x288 with 1 Axes>"
      ]
     },
     "metadata": {
      "needs_background": "light"
     },
     "output_type": "display_data"
    }
   ],
   "source": [
    "#muestra los puntos a gráficar, el color\n",
    "plt.plot([1, 2, 3, 4], [1, 4, 9, 16], 'ro')\n",
    "#min y máx eje x; min y máx eje y\n",
    "plt.axis([0, 6, 0, 20])\n",
    "plt.ylabel('Eje y')\n",
    "plt.xlabel('Eje x')\n",
    "#muestra el gráfico\n",
    "plt.show()\n"
   ]
  },
  {
   "cell_type": "markdown",
   "metadata": {},
   "source": [
    "### Gráficos con matrices numpy"
   ]
  },
  {
   "cell_type": "code",
   "execution_count": 31,
   "metadata": {},
   "outputs": [
    {
     "data": {
      "image/png": "[encoded data removed]",
      "text/plain": [
       "<Figure size 432x288 with 1 Axes>"
      ]
     },
     "metadata": {
      "needs_background": "light"
     },
     "output_type": "display_data"
    }
   ],
   "source": [
    "import numpy as np\n",
    "\n",
    "# Defino elementos de una matriz con la función np.arange\n",
    "#donde defino el primer elemento, el límite (el que no se incluye) \n",
    "#y el incremento entre los mismos.\n",
    "t = np.arange(0., 5., 0.5)\n",
    "\n",
    "# defino 3 tipos de representación, de líneas punteadas, triángulos y cuadrados.\n",
    "plt.plot(t,t, 'r--', t, t**2, 'bs', t, t**3, 'g^')\n",
    "plt.axis([0, 5, 0, 100])\n",
    "plt.show()"
   ]
  },
  {
   "cell_type": "code",
   "execution_count": 32,
   "metadata": {},
   "outputs": [
    {
     "data": {
      "text/plain": [
       "array([ 0,  1,  2,  3,  4,  5,  6,  7,  8,  9, 10, 11, 12, 13, 14, 15, 16,\n",
       "       17, 18, 19, 20, 21, 22, 23, 24, 25, 26, 27, 28, 29, 30, 31, 32, 33,\n",
       "       34, 35, 36, 37, 38, 39, 40, 41, 42, 43, 44, 45, 46, 47, 48, 49])"
      ]
     },
     "execution_count": 32,
     "metadata": {},
     "output_type": "execute_result"
    }
   ],
   "source": [
    "np.arange(50)"
   ]
  },
  {
   "cell_type": "code",
   "execution_count": 33,
   "metadata": {},
   "outputs": [
    {
     "data": {
      "text/plain": [
       "array([ 0, 42, 39,  6, 18,  0, 23,  7, 22, 47, 42, 23, 20, 11, 21, 27,  3,\n",
       "        0, 46, 47, 44, 10, 42, 29, 24,  2,  0, 11, 34, 20, 42,  2,  2, 43,\n",
       "       49, 31, 30, 14, 16, 23, 49, 20, 32, 37,  7, 28, 34, 36, 20,  1])"
      ]
     },
     "execution_count": 33,
     "metadata": {},
     "output_type": "execute_result"
    }
   ],
   "source": [
    "np.random.randint(0, 50, 50)"
   ]
  },
  {
   "cell_type": "code",
   "execution_count": 34,
   "metadata": {},
   "outputs": [
    {
     "data": {
      "text/plain": [
       "array([-0.68309284, -1.31671161, -0.33579101, -0.98832459, -0.30911879,\n",
       "       -0.87794841, -0.4649372 , -0.68325222,  1.36744622, -0.53746497,\n",
       "       -0.90949393, -1.57952445, -0.08277571, -0.2879646 , -0.58194629,\n",
       "       -0.12985944,  0.38775262,  0.13459381, -1.01409465, -1.10033682,\n",
       "        0.12504674,  0.91764159,  0.17134168, -0.32352002, -0.9711841 ,\n",
       "       -1.36856322, -0.71455   , -0.0976039 , -0.48100882,  0.13934885,\n",
       "       -2.21230703,  0.56251452,  0.34678414, -3.40496309,  1.3998881 ,\n",
       "        0.63513432,  0.5327229 ,  1.52648496, -1.21966759,  0.24383692,\n",
       "       -0.41304234, -0.33708972, -0.08929985,  0.40599645, -1.68076427,\n",
       "       -1.40412609, -1.22879398, -0.92553883,  1.49046906, -1.48616491])"
      ]
     },
     "execution_count": 34,
     "metadata": {},
     "output_type": "execute_result"
    }
   ],
   "source": [
    "np.random.randn(50)"
   ]
  },
  {
   "cell_type": "code",
   "execution_count": 25,
   "metadata": {},
   "outputs": [
    {
     "name": "stdout",
     "output_type": "stream",
     "text": [
      "With the old column names:\n",
      "\n",
      "   1stcolumn  2ndcolumn\n",
      "0        100         10\n",
      "1        200         20\n"
     ]
    }
   ],
   "source": [
    "df = pd.DataFrame({'1stcolumn':[100,200], '2ndcolumn':[10,20]}) # esto crea un __DataFrame__ para el ejemplo!\n",
    "print('With the old column names:\\n') # El \\n crea una nueva línea, para que sea más fácil de ver\n",
    "print(df)"
   ]
  },
  {
   "cell_type": "code",
   "execution_count": 5,
   "metadata": {},
   "outputs": [
    {
     "name": "stdout",
     "output_type": "stream",
     "text": [
      "With the new column names:\n",
      "\n",
      "   FirstColumn  SecondColumn\n",
      "0          100            10\n",
      "1          200            20\n"
     ]
    }
   ],
   "source": [
    "df.columns = ['FirstColumn','SecondColumn'] # renombra las columna!\n",
    "print('With the new column names:\\n')\n",
    "print(df)"
   ]
  },
  {
   "cell_type": "code",
   "execution_count": 33,
   "metadata": {},
   "outputs": [],
   "source": [
    "import numpy\n",
    "sample_data = numpy.random.normal(0, 0.1, 1000)"
   ]
  },
  {
   "cell_type": "code",
   "execution_count": 34,
   "metadata": {
    "scrolled": true
   },
   "outputs": [
    {
     "data": {
      "text/plain": [
       "(array([ 1.,  0.,  0.,  1.,  0.,  4.,  8.,  6.,  9., 21., 33., 33., 51.,\n",
       "        59., 63., 99., 82., 92., 86., 76., 81., 55., 34., 45., 18., 21.,\n",
       "        13.,  3.,  3.,  3.]),\n",
       " array([-0.40665068, -0.38334524, -0.36003981, -0.33673438, -0.31342895,\n",
       "        -0.29012352, -0.26681809, -0.24351265, -0.22020722, -0.19690179,\n",
       "        -0.17359636, -0.15029093, -0.12698549, -0.10368006, -0.08037463,\n",
       "        -0.0570692 , -0.03376377, -0.01045834,  0.0128471 ,  0.03615253,\n",
       "         0.05945796,  0.08276339,  0.10606882,  0.12937425,  0.15267969,\n",
       "         0.17598512,  0.19929055,  0.22259598,  0.24590141,  0.26920685,\n",
       "         0.29251228]),\n",
       " <a list of 30 Patch objects>)"
      ]
     },
     "execution_count": 34,
     "metadata": {},
     "output_type": "execute_result"
    },
    {
     "data": {
      "image/png": "[encoded data removed]",
      "text/plain": [
       "<Figure size 432x288 with 1 Axes>"
      ]
     },
     "metadata": {
      "needs_background": "light"
     },
     "output_type": "display_data"
    }
   ],
   "source": [
    "fig, ax = plt.subplots()  # initiate an empty figure and axis matplotlib object\n",
    "ax.hist(sample_data, 30)"
   ]
  },
  {
   "cell_type": "code",
   "execution_count": 4,
   "metadata": {},
   "outputs": [
    {
     "data": {
      "text/plain": [
       "array([0, 1, 2, 3, 4, 5, 6, 7, 8, 9])"
      ]
     },
     "execution_count": 4,
     "metadata": {},
     "output_type": "execute_result"
    }
   ],
   "source": [
    "import numpy as np\n",
    "np.arange(10)"
   ]
  },
  {
   "cell_type": "code",
   "execution_count": null,
   "metadata": {},
   "outputs": [],
   "source": []
  }
 ],
 "metadata": {
  "kernelspec": {
   "display_name": "Python 3",
   "language": "python",
   "name": "python3"
  },
  "language_info": {
   "codemirror_mode": {
    "name": "ipython",
    "version": 3
   },
   "file_extension": ".py",
   "mimetype": "text/x-python",
   "name": "python",
   "nbconvert_exporter": "python",
   "pygments_lexer": "ipython3",
   "version": "3.7.3"
  }
 },
 "nbformat": 4,
 "nbformat_minor": 2
}
