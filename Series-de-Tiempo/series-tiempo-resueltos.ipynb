{
 "cells": [
  {
   "cell_type": "code",
   "execution_count": 19,
   "metadata": {},
   "outputs": [],
   "source": [
    "import pandas as pd\n",
    "%matplotlib inline\n",
    "import matplotlib.pyplot as plt\n",
    "plt.style.use('seaborn') "
   ]
  },
  {
   "cell_type": "code",
   "execution_count": 20,
   "metadata": {},
   "outputs": [],
   "source": [
    "def read_ts_api_call(api_call):\n",
    "    df = pd.read_csv(api_call, encoding=\"utf8\", sep=\",\")\n",
    "    df.indice_tiempo = pd.to_datetime(df.indice_tiempo)\n",
    "    return df.set_index(\"indice_tiempo\").to_period()\n"
   ]
  },
  {
   "cell_type": "markdown",
   "metadata": {},
   "source": [
    "## **Ejercicio 1:** "
   ]
  },
  {
   "cell_type": "markdown",
   "metadata": {},
   "source": [
    "Buscar la serie del tipo de cambio del Banco Nación (BNA vendedor), generar un índice de tiempo, guardar los datos en CSV e imprimir el valor del 1 de Enero de 2019 en el notebook."
   ]
  },
  {
   "cell_type": "code",
   "execution_count": 21,
   "metadata": {},
   "outputs": [
    {
     "data": {
      "text/html": [
       "<div>\n",
       "<style scoped>\n",
       "    .dataframe tbody tr th:only-of-type {\n",
       "        vertical-align: middle;\n",
       "    }\n",
       "\n",
       "    .dataframe tbody tr th {\n",
       "        vertical-align: top;\n",
       "    }\n",
       "\n",
       "    .dataframe thead th {\n",
       "        text-align: right;\n",
       "    }\n",
       "</style>\n",
       "<table border=\"1\" class=\"dataframe\">\n",
       "  <thead>\n",
       "    <tr style=\"text-align: right;\">\n",
       "      <th></th>\n",
       "      <th>indice_tiempo</th>\n",
       "      <th>tipo_cambio_bna_vendedor</th>\n",
       "      <th>tipo_cambio_mae</th>\n",
       "    </tr>\n",
       "  </thead>\n",
       "  <tbody>\n",
       "    <tr>\n",
       "      <th>0</th>\n",
       "      <td>2008-06-06</td>\n",
       "      <td>NaN</td>\n",
       "      <td>3.070</td>\n",
       "    </tr>\n",
       "    <tr>\n",
       "      <th>1</th>\n",
       "      <td>2008-06-07</td>\n",
       "      <td>NaN</td>\n",
       "      <td>3.070</td>\n",
       "    </tr>\n",
       "    <tr>\n",
       "      <th>2</th>\n",
       "      <td>2008-06-08</td>\n",
       "      <td>NaN</td>\n",
       "      <td>3.070</td>\n",
       "    </tr>\n",
       "    <tr>\n",
       "      <th>3</th>\n",
       "      <td>2008-06-09</td>\n",
       "      <td>NaN</td>\n",
       "      <td>3.063</td>\n",
       "    </tr>\n",
       "    <tr>\n",
       "      <th>4</th>\n",
       "      <td>2008-06-10</td>\n",
       "      <td>NaN</td>\n",
       "      <td>3.065</td>\n",
       "    </tr>\n",
       "  </tbody>\n",
       "</table>\n",
       "</div>"
      ],
      "text/plain": [
       "  indice_tiempo  tipo_cambio_bna_vendedor  tipo_cambio_mae\n",
       "0    2008-06-06                       NaN            3.070\n",
       "1    2008-06-07                       NaN            3.070\n",
       "2    2008-06-08                       NaN            3.070\n",
       "3    2008-06-09                       NaN            3.063\n",
       "4    2008-06-10                       NaN            3.065"
      ]
     },
     "execution_count": 21,
     "metadata": {},
     "output_type": "execute_result"
    }
   ],
   "source": [
    "#Importamos los datos del tipo de cambio del Banco Nación en la tabla \"tcbna\"\n",
    "tcbna= pd.read_csv(\"https://apis.datos.gob.ar/series/api/series/?ids=168.1_T_CAMBIOR_D_0_0_26,168.1_T_CAMBIMAE_D_0_0_15&limit=5000&format=csv\")\n",
    "tcbna.head()"
   ]
  },
  {
   "cell_type": "code",
   "execution_count": 22,
   "metadata": {},
   "outputs": [
    {
     "name": "stdout",
     "output_type": "stream",
     "text": [
      "<class 'pandas.core.frame.DataFrame'>\n",
      "RangeIndex: 4172 entries, 0 to 4171\n",
      "Data columns (total 3 columns):\n",
      "indice_tiempo               4172 non-null object\n",
      "tipo_cambio_bna_vendedor    1831 non-null float64\n",
      "tipo_cambio_mae             4146 non-null float64\n",
      "dtypes: float64(2), object(1)\n",
      "memory usage: 97.9+ KB\n"
     ]
    }
   ],
   "source": [
    "# Visualizo los tipos que pandas que se infirieron al leer los datos. \n",
    "#Analizo los tipos de datos para ver si el campo indice_tiempo está en formato datatime y así utilizarlo como índice de la tabla.\n",
    "tcbna.info()"
   ]
  },
  {
   "cell_type": "code",
   "execution_count": 23,
   "metadata": {},
   "outputs": [
    {
     "name": "stdout",
     "output_type": "stream",
     "text": [
      "<class 'pandas.core.frame.DataFrame'>\n",
      "RangeIndex: 4172 entries, 0 to 4171\n",
      "Data columns (total 3 columns):\n",
      "indice_tiempo               4172 non-null datetime64[ns]\n",
      "tipo_cambio_bna_vendedor    1831 non-null float64\n",
      "tipo_cambio_mae             4146 non-null float64\n",
      "dtypes: datetime64[ns](1), float64(2)\n",
      "memory usage: 97.9 KB\n"
     ]
    }
   ],
   "source": [
    "# Como el campo temporal que elegí para índice no está en el formato deseado, lo transformo.\n",
    "tcbna[\"indice_tiempo\"] = pd.to_datetime(tcbna[\"indice_tiempo\"])\n",
    "#Corroboro que el campo esté en el formato deseado\n",
    "tcbna.info()"
   ]
  },
  {
   "cell_type": "code",
   "execution_count": 24,
   "metadata": {},
   "outputs": [
    {
     "data": {
      "text/html": [
       "<div>\n",
       "<style scoped>\n",
       "    .dataframe tbody tr th:only-of-type {\n",
       "        vertical-align: middle;\n",
       "    }\n",
       "\n",
       "    .dataframe tbody tr th {\n",
       "        vertical-align: top;\n",
       "    }\n",
       "\n",
       "    .dataframe thead th {\n",
       "        text-align: right;\n",
       "    }\n",
       "</style>\n",
       "<table border=\"1\" class=\"dataframe\">\n",
       "  <thead>\n",
       "    <tr style=\"text-align: right;\">\n",
       "      <th></th>\n",
       "      <th>tipo_cambio_bna_vendedor</th>\n",
       "      <th>tipo_cambio_mae</th>\n",
       "    </tr>\n",
       "    <tr>\n",
       "      <th>indice_tiempo</th>\n",
       "      <th></th>\n",
       "      <th></th>\n",
       "    </tr>\n",
       "  </thead>\n",
       "  <tbody>\n",
       "    <tr>\n",
       "      <th>2008-06-06</th>\n",
       "      <td>NaN</td>\n",
       "      <td>3.070</td>\n",
       "    </tr>\n",
       "    <tr>\n",
       "      <th>2008-06-07</th>\n",
       "      <td>NaN</td>\n",
       "      <td>3.070</td>\n",
       "    </tr>\n",
       "    <tr>\n",
       "      <th>2008-06-08</th>\n",
       "      <td>NaN</td>\n",
       "      <td>3.070</td>\n",
       "    </tr>\n",
       "    <tr>\n",
       "      <th>2008-06-09</th>\n",
       "      <td>NaN</td>\n",
       "      <td>3.063</td>\n",
       "    </tr>\n",
       "    <tr>\n",
       "      <th>2008-06-10</th>\n",
       "      <td>NaN</td>\n",
       "      <td>3.065</td>\n",
       "    </tr>\n",
       "  </tbody>\n",
       "</table>\n",
       "</div>"
      ],
      "text/plain": [
       "               tipo_cambio_bna_vendedor  tipo_cambio_mae\n",
       "indice_tiempo                                           \n",
       "2008-06-06                          NaN            3.070\n",
       "2008-06-07                          NaN            3.070\n",
       "2008-06-08                          NaN            3.070\n",
       "2008-06-09                          NaN            3.063\n",
       "2008-06-10                          NaN            3.065"
      ]
     },
     "execution_count": 24,
     "metadata": {},
     "output_type": "execute_result"
    }
   ],
   "source": [
    "#Transformo el campo \"indice_tiempo\" en el índice de la tabla\n",
    "tcbna = tcbna.set_index(\"indice_tiempo\")\n",
    "tcbna.head()"
   ]
  },
  {
   "cell_type": "code",
   "execution_count": 25,
   "metadata": {},
   "outputs": [
    {
     "data": {
      "text/html": [
       "<div>\n",
       "<style scoped>\n",
       "    .dataframe tbody tr th:only-of-type {\n",
       "        vertical-align: middle;\n",
       "    }\n",
       "\n",
       "    .dataframe tbody tr th {\n",
       "        vertical-align: top;\n",
       "    }\n",
       "\n",
       "    .dataframe thead th {\n",
       "        text-align: right;\n",
       "    }\n",
       "</style>\n",
       "<table border=\"1\" class=\"dataframe\">\n",
       "  <thead>\n",
       "    <tr style=\"text-align: right;\">\n",
       "      <th></th>\n",
       "      <th>tipo_cambio_bna_vendedor</th>\n",
       "      <th>tipo_cambio_mae</th>\n",
       "    </tr>\n",
       "    <tr>\n",
       "      <th>indice_tiempo</th>\n",
       "      <th></th>\n",
       "      <th></th>\n",
       "    </tr>\n",
       "  </thead>\n",
       "  <tbody>\n",
       "    <tr>\n",
       "      <th>2018-01-01</th>\n",
       "      <td>18.90</td>\n",
       "      <td>18.649</td>\n",
       "    </tr>\n",
       "    <tr>\n",
       "      <th>2018-01-02</th>\n",
       "      <td>18.65</td>\n",
       "      <td>18.410</td>\n",
       "    </tr>\n",
       "    <tr>\n",
       "      <th>2018-01-03</th>\n",
       "      <td>18.70</td>\n",
       "      <td>18.445</td>\n",
       "    </tr>\n",
       "    <tr>\n",
       "      <th>2018-01-04</th>\n",
       "      <td>18.90</td>\n",
       "      <td>18.630</td>\n",
       "    </tr>\n",
       "    <tr>\n",
       "      <th>2018-01-05</th>\n",
       "      <td>19.10</td>\n",
       "      <td>18.903</td>\n",
       "    </tr>\n",
       "    <tr>\n",
       "      <th>2018-01-06</th>\n",
       "      <td>19.10</td>\n",
       "      <td>18.903</td>\n",
       "    </tr>\n",
       "  </tbody>\n",
       "</table>\n",
       "</div>"
      ],
      "text/plain": [
       "               tipo_cambio_bna_vendedor  tipo_cambio_mae\n",
       "indice_tiempo                                           \n",
       "2018-01-01                        18.90           18.649\n",
       "2018-01-02                        18.65           18.410\n",
       "2018-01-03                        18.70           18.445\n",
       "2018-01-04                        18.90           18.630\n",
       "2018-01-05                        19.10           18.903\n",
       "2018-01-06                        19.10           18.903"
      ]
     },
     "execution_count": 25,
     "metadata": {},
     "output_type": "execute_result"
    }
   ],
   "source": [
    "tcbna=tcbna[tcbna.index > \"2017-12-31\"]\n",
    "tcbna[:6]"
   ]
  },
  {
   "cell_type": "code",
   "execution_count": 26,
   "metadata": {},
   "outputs": [],
   "source": [
    "#Guardo los datos en csv\n",
    "tcbna.to_csv(\"./datos/tcbna.csv\", encoding=\"utf8\")"
   ]
  },
  {
   "cell_type": "code",
   "execution_count": 27,
   "metadata": {},
   "outputs": [
    {
     "name": "stdout",
     "output_type": "stream",
     "text": [
      "el tipo de cambio vendedor al 01/01/2019 es de :$38.6/USD\n"
     ]
    }
   ],
   "source": [
    "#IMprimo el valor del Tipo de Cambio Vendedor según bna al 1-1-2019\n",
    "print('el tipo de cambio vendedor al 01/01/2019 es de :${}/USD'.format(tcbna.loc[\"2019-01-01\", \"tipo_cambio_bna_vendedor\"]))\n",
    "## Acá podría definir una función que tenga como variable la fecha y devuelva el tipo de cambio vendedor"
   ]
  },
  {
   "cell_type": "markdown",
   "metadata": {},
   "source": [
    "## Ejercicio 2\n",
    "\n",
    "Graficar las variaciones del emae (serie original) como cambio porcentual respecto de 12 meses atrás (variación porcentual interanual) en un gráfico de barras con el mismo color desde 2016 en adelante."
   ]
  },
  {
   "cell_type": "code",
   "execution_count": 28,
   "metadata": {},
   "outputs": [
    {
     "data": {
      "image/png": "[encoded data removed]",
      "text/plain": [
       "<Figure size 1440x432 with 1 Axes>"
      ]
     },
     "metadata": {},
     "output_type": "display_data"
    }
   ],
   "source": [
    "emae = read_ts_api_call(\"https://apis.datos.gob.ar/series/api/series/?ids=143.3_NO_PR_2004_A_21,143.3_NO_PR_2004_A_31,143.3_NO_PR_2004_A_28&limit=5000&format=csv\")\n",
    "emae_prom_mov= emae.pct_change(12)\n",
    "\n",
    "emae_prom_mov[emae_prom_mov.index>20160101].indice_serie_original.plot(figsize=(20,6), kind=\"bar\");"
   ]
  },
  {
   "cell_type": "markdown",
   "metadata": {},
   "source": [
    "## Ejercicio 3\n",
    "\n",
    "Chequear la correlación entre las variaciones interanuales (12 meses) del EMAE y sus componentes sectoriales."
   ]
  },
  {
   "cell_type": "code",
   "execution_count": 29,
   "metadata": {},
   "outputs": [
    {
     "data": {
      "text/html": [
       "<div>\n",
       "<style scoped>\n",
       "    .dataframe tbody tr th:only-of-type {\n",
       "        vertical-align: middle;\n",
       "    }\n",
       "\n",
       "    .dataframe tbody tr th {\n",
       "        vertical-align: top;\n",
       "    }\n",
       "\n",
       "    .dataframe thead th {\n",
       "        text-align: right;\n",
       "    }\n",
       "</style>\n",
       "<table border=\"1\" class=\"dataframe\">\n",
       "  <thead>\n",
       "    <tr style=\"text-align: right;\">\n",
       "      <th></th>\n",
       "      <th>indice_serie_original</th>\n",
       "      <th>indice_serie_desestacionalizada</th>\n",
       "      <th>indice_serie_tendencia_ciclo</th>\n",
       "    </tr>\n",
       "  </thead>\n",
       "  <tbody>\n",
       "    <tr>\n",
       "      <th>indice_serie_original</th>\n",
       "      <td>1.000000</td>\n",
       "      <td>0.977298</td>\n",
       "      <td>0.924994</td>\n",
       "    </tr>\n",
       "    <tr>\n",
       "      <th>indice_serie_desestacionalizada</th>\n",
       "      <td>0.977298</td>\n",
       "      <td>1.000000</td>\n",
       "      <td>0.967763</td>\n",
       "    </tr>\n",
       "    <tr>\n",
       "      <th>indice_serie_tendencia_ciclo</th>\n",
       "      <td>0.924994</td>\n",
       "      <td>0.967763</td>\n",
       "      <td>1.000000</td>\n",
       "    </tr>\n",
       "  </tbody>\n",
       "</table>\n",
       "</div>"
      ],
      "text/plain": [
       "                                 indice_serie_original  \\\n",
       "indice_serie_original                         1.000000   \n",
       "indice_serie_desestacionalizada               0.977298   \n",
       "indice_serie_tendencia_ciclo                  0.924994   \n",
       "\n",
       "                                 indice_serie_desestacionalizada  \\\n",
       "indice_serie_original                                   0.977298   \n",
       "indice_serie_desestacionalizada                         1.000000   \n",
       "indice_serie_tendencia_ciclo                            0.967763   \n",
       "\n",
       "                                 indice_serie_tendencia_ciclo  \n",
       "indice_serie_original                                0.924994  \n",
       "indice_serie_desestacionalizada                      0.967763  \n",
       "indice_serie_tendencia_ciclo                         1.000000  "
      ]
     },
     "execution_count": 29,
     "metadata": {},
     "output_type": "execute_result"
    }
   ],
   "source": [
    "emae.pct_change(12).corr()"
   ]
  },
  {
   "cell_type": "markdown",
   "metadata": {},
   "source": [
    "## Ejercicio 4\n",
    "\n",
    "Crear un simple tablero de seguimiento de variables de coyuntura usando _subplots_ que contenga la 1-evolución del tipo de cambio BNA vendedor (promedio móvil 30 días), 2-la tasa de interés de política monetaria, 3-la inflación interanual mensual, 4-la expectativa de inflación de los próximos 12 meses."
   ]
  },
  {
   "cell_type": "code",
   "execution_count": 104,
   "metadata": {},
   "outputs": [
    {
     "data": {
      "text/html": [
       "<div>\n",
       "<style scoped>\n",
       "    .dataframe tbody tr th:only-of-type {\n",
       "        vertical-align: middle;\n",
       "    }\n",
       "\n",
       "    .dataframe tbody tr th {\n",
       "        vertical-align: top;\n",
       "    }\n",
       "\n",
       "    .dataframe thead th {\n",
       "        text-align: right;\n",
       "    }\n",
       "</style>\n",
       "<table border=\"1\" class=\"dataframe\">\n",
       "  <thead>\n",
       "    <tr style=\"text-align: right;\">\n",
       "      <th></th>\n",
       "      <th>tipo_cambio_bna_vendedor</th>\n",
       "    </tr>\n",
       "    <tr>\n",
       "      <th>indice_tiempo</th>\n",
       "      <th></th>\n",
       "    </tr>\n",
       "  </thead>\n",
       "  <tbody>\n",
       "    <tr>\n",
       "      <th>2014-12-03</th>\n",
       "      <td>8.517333</td>\n",
       "    </tr>\n",
       "    <tr>\n",
       "      <th>2014-12-04</th>\n",
       "      <td>8.518667</td>\n",
       "    </tr>\n",
       "    <tr>\n",
       "      <th>2014-12-05</th>\n",
       "      <td>8.520000</td>\n",
       "    </tr>\n",
       "    <tr>\n",
       "      <th>2014-12-06</th>\n",
       "      <td>8.521333</td>\n",
       "    </tr>\n",
       "    <tr>\n",
       "      <th>2014-12-07</th>\n",
       "      <td>8.522667</td>\n",
       "    </tr>\n",
       "  </tbody>\n",
       "</table>\n",
       "</div>"
      ],
      "text/plain": [
       "               tipo_cambio_bna_vendedor\n",
       "indice_tiempo                          \n",
       "2014-12-03                     8.517333\n",
       "2014-12-04                     8.518667\n",
       "2014-12-05                     8.520000\n",
       "2014-12-06                     8.521333\n",
       "2014-12-07                     8.522667"
      ]
     },
     "execution_count": 104,
     "metadata": {},
     "output_type": "execute_result"
    }
   ],
   "source": [
    "tc_bna_vend= pd.read_csv(\"https://apis.datos.gob.ar/series/api/series/?ids=168.1_T_CAMBIOR_D_0_0_26&limit=5000&format=csv\")\n",
    "tc_bna_vend[\"indice_tiempo\"]=pd.to_datetime(tc_bna_vend[\"indice_tiempo\"])\n",
    "tc_bna_vend= tc_bna_vend.set_index(\"indice_tiempo\")\n",
    "tc_bna_prom_mov=tc_bna_vend.rolling(30).mean()[30:]\n",
    "tc_bna_prom_mov.head()"
   ]
  },
  {
   "cell_type": "code",
   "execution_count": 105,
   "metadata": {},
   "outputs": [
    {
     "data": {
      "text/html": [
       "<div>\n",
       "<style scoped>\n",
       "    .dataframe tbody tr th:only-of-type {\n",
       "        vertical-align: middle;\n",
       "    }\n",
       "\n",
       "    .dataframe tbody tr th {\n",
       "        vertical-align: top;\n",
       "    }\n",
       "\n",
       "    .dataframe thead th {\n",
       "        text-align: right;\n",
       "    }\n",
       "</style>\n",
       "<table border=\"1\" class=\"dataframe\">\n",
       "  <thead>\n",
       "    <tr style=\"text-align: right;\">\n",
       "      <th></th>\n",
       "      <th>instr_bcra_tasa_politica_monetaria</th>\n",
       "    </tr>\n",
       "    <tr>\n",
       "      <th>indice_tiempo</th>\n",
       "      <th></th>\n",
       "    </tr>\n",
       "  </thead>\n",
       "  <tbody>\n",
       "    <tr>\n",
       "      <th>2016-01-01</th>\n",
       "      <td>31.187525</td>\n",
       "    </tr>\n",
       "    <tr>\n",
       "      <th>2016-02-01</th>\n",
       "      <td>30.959416</td>\n",
       "    </tr>\n",
       "    <tr>\n",
       "      <th>2016-03-01</th>\n",
       "      <td>37.773141</td>\n",
       "    </tr>\n",
       "    <tr>\n",
       "      <th>2016-04-01</th>\n",
       "      <td>38.000800</td>\n",
       "    </tr>\n",
       "    <tr>\n",
       "      <th>2016-05-01</th>\n",
       "      <td>36.583467</td>\n",
       "    </tr>\n",
       "  </tbody>\n",
       "</table>\n",
       "</div>"
      ],
      "text/plain": [
       "               instr_bcra_tasa_politica_monetaria\n",
       "indice_tiempo                                    \n",
       "2016-01-01                              31.187525\n",
       "2016-02-01                              30.959416\n",
       "2016-03-01                              37.773141\n",
       "2016-04-01                              38.000800\n",
       "2016-05-01                              36.583467"
      ]
     },
     "execution_count": 105,
     "metadata": {},
     "output_type": "execute_result"
    }
   ],
   "source": [
    "tasa_interes_pm= pd.read_csv(\"https://apis.datos.gob.ar/series/api/series/?ids=89.1_IR_BCRARIA_0_M_34&limit=5000&format=csv\")\n",
    "tasa_interes_pm[\"indice_tiempo\"]=pd.to_datetime(tasa_interes_pm[\"indice_tiempo\"])\n",
    "tasa_interes_pm= tasa_interes_pm.set_index(\"indice_tiempo\")\n",
    "tasa_interes_pm.head()"
   ]
  },
  {
   "cell_type": "code",
   "execution_count": 106,
   "metadata": {},
   "outputs": [
    {
     "data": {
      "text/html": [
       "<div>\n",
       "<style scoped>\n",
       "    .dataframe tbody tr th:only-of-type {\n",
       "        vertical-align: middle;\n",
       "    }\n",
       "\n",
       "    .dataframe tbody tr th {\n",
       "        vertical-align: top;\n",
       "    }\n",
       "\n",
       "    .dataframe thead th {\n",
       "        text-align: right;\n",
       "    }\n",
       "</style>\n",
       "<table border=\"1\" class=\"dataframe\">\n",
       "  <thead>\n",
       "    <tr style=\"text-align: right;\">\n",
       "      <th></th>\n",
       "      <th>ipc_2016_nivgeneral_var_pct_ia</th>\n",
       "    </tr>\n",
       "    <tr>\n",
       "      <th>indice_tiempo</th>\n",
       "      <th></th>\n",
       "    </tr>\n",
       "  </thead>\n",
       "  <tbody>\n",
       "    <tr>\n",
       "      <th>2017-04-01</th>\n",
       "      <td>0.275192</td>\n",
       "    </tr>\n",
       "    <tr>\n",
       "      <th>2017-05-01</th>\n",
       "      <td>0.239574</td>\n",
       "    </tr>\n",
       "    <tr>\n",
       "      <th>2017-06-01</th>\n",
       "      <td>0.219280</td>\n",
       "    </tr>\n",
       "    <tr>\n",
       "      <th>2017-07-01</th>\n",
       "      <td>0.215369</td>\n",
       "    </tr>\n",
       "    <tr>\n",
       "      <th>2017-08-01</th>\n",
       "      <td>0.230840</td>\n",
       "    </tr>\n",
       "  </tbody>\n",
       "</table>\n",
       "</div>"
      ],
      "text/plain": [
       "               ipc_2016_nivgeneral_var_pct_ia\n",
       "indice_tiempo                                \n",
       "2017-04-01                           0.275192\n",
       "2017-05-01                           0.239574\n",
       "2017-06-01                           0.219280\n",
       "2017-07-01                           0.215369\n",
       "2017-08-01                           0.230840"
      ]
     },
     "execution_count": 106,
     "metadata": {},
     "output_type": "execute_result"
    }
   ],
   "source": [
    "inflacion_ia= pd.read_csv(\"https://apis.datos.gob.ar/series/api/series/?ids=103.1_I2N_2016_M_19&representation_mode=percent_change_a_year_ago&limit=5000&format=csv\")\n",
    "inflacion_ia[\"indice_tiempo\"]=pd.to_datetime(inflacion_ia[\"indice_tiempo\"])\n",
    "inflacion_ia= inflacion_ia.set_index(\"indice_tiempo\")\n",
    "inflacion_ia.head()"
   ]
  },
  {
   "cell_type": "code",
   "execution_count": 107,
   "metadata": {},
   "outputs": [
    {
     "data": {
      "text/html": [
       "<div>\n",
       "<style scoped>\n",
       "    .dataframe tbody tr th:only-of-type {\n",
       "        vertical-align: middle;\n",
       "    }\n",
       "\n",
       "    .dataframe tbody tr th {\n",
       "        vertical-align: top;\n",
       "    }\n",
       "\n",
       "    .dataframe thead th {\n",
       "        text-align: right;\n",
       "    }\n",
       "</style>\n",
       "<table border=\"1\" class=\"dataframe\">\n",
       "  <thead>\n",
       "    <tr style=\"text-align: right;\">\n",
       "      <th></th>\n",
       "      <th>expectativa_inflacion_promedio</th>\n",
       "    </tr>\n",
       "    <tr>\n",
       "      <th>indice_tiempo</th>\n",
       "      <th></th>\n",
       "    </tr>\n",
       "  </thead>\n",
       "  <tbody>\n",
       "    <tr>\n",
       "      <th>2006-08-01</th>\n",
       "      <td>13.732315</td>\n",
       "    </tr>\n",
       "    <tr>\n",
       "      <th>2006-09-01</th>\n",
       "      <td>11.885915</td>\n",
       "    </tr>\n",
       "    <tr>\n",
       "      <th>2006-10-01</th>\n",
       "      <td>11.728203</td>\n",
       "    </tr>\n",
       "    <tr>\n",
       "      <th>2006-11-01</th>\n",
       "      <td>12.726685</td>\n",
       "    </tr>\n",
       "    <tr>\n",
       "      <th>2006-12-01</th>\n",
       "      <td>13.863447</td>\n",
       "    </tr>\n",
       "  </tbody>\n",
       "</table>\n",
       "</div>"
      ],
      "text/plain": [
       "               expectativa_inflacion_promedio\n",
       "indice_tiempo                                \n",
       "2006-08-01                          13.732315\n",
       "2006-09-01                          11.885915\n",
       "2006-10-01                          11.728203\n",
       "2006-11-01                          12.726685\n",
       "2006-12-01                          13.863447"
      ]
     },
     "execution_count": 107,
     "metadata": {},
     "output_type": "execute_result"
    }
   ],
   "source": [
    "exp_inflacion= pd.read_csv(\"https://apis.datos.gob.ar/series/api/series/?ids=431.1_EXPECTATIVDIO_M_0_0_30_56&limit=5000&format=csv\")\n",
    "exp_inflacion[\"indice_tiempo\"]=pd.to_datetime(exp_inflacion[\"indice_tiempo\"])\n",
    "exp_inflacion= exp_inflacion.set_index(\"indice_tiempo\")\n",
    "exp_inflacion.head()                    "
   ]
  },
  {
   "cell_type": "code",
   "execution_count": 108,
   "metadata": {},
   "outputs": [
    {
     "data": {
      "text/html": [
       "<div>\n",
       "<style scoped>\n",
       "    .dataframe tbody tr th:only-of-type {\n",
       "        vertical-align: middle;\n",
       "    }\n",
       "\n",
       "    .dataframe tbody tr th {\n",
       "        vertical-align: top;\n",
       "    }\n",
       "\n",
       "    .dataframe thead th {\n",
       "        text-align: right;\n",
       "    }\n",
       "</style>\n",
       "<table border=\"1\" class=\"dataframe\">\n",
       "  <thead>\n",
       "    <tr style=\"text-align: right;\">\n",
       "      <th></th>\n",
       "      <th>tipo_cambio_bna_vendedor</th>\n",
       "      <th>instr_bcra_tasa_politica_monetaria</th>\n",
       "      <th>ipc_2016_nivgeneral_var_pct_ia</th>\n",
       "      <th>expectativa_inflacion_promedio</th>\n",
       "    </tr>\n",
       "    <tr>\n",
       "      <th>indice_tiempo</th>\n",
       "      <th></th>\n",
       "      <th></th>\n",
       "      <th></th>\n",
       "      <th></th>\n",
       "    </tr>\n",
       "  </thead>\n",
       "  <tbody>\n",
       "    <tr>\n",
       "      <th>2017-04-01</th>\n",
       "      <td>15.718333</td>\n",
       "      <td>25.666667</td>\n",
       "      <td>0.275192</td>\n",
       "      <td>27.4</td>\n",
       "    </tr>\n",
       "    <tr>\n",
       "      <th>2017-05-01</th>\n",
       "      <td>15.550000</td>\n",
       "      <td>26.250000</td>\n",
       "      <td>0.239574</td>\n",
       "      <td>27.9</td>\n",
       "    </tr>\n",
       "    <tr>\n",
       "      <th>2017-06-01</th>\n",
       "      <td>15.951000</td>\n",
       "      <td>26.250000</td>\n",
       "      <td>0.219280</td>\n",
       "      <td>27.3</td>\n",
       "    </tr>\n",
       "    <tr>\n",
       "      <th>2017-07-01</th>\n",
       "      <td>16.313333</td>\n",
       "      <td>26.250000</td>\n",
       "      <td>0.215369</td>\n",
       "      <td>29.3</td>\n",
       "    </tr>\n",
       "    <tr>\n",
       "      <th>2017-08-01</th>\n",
       "      <td>17.424167</td>\n",
       "      <td>26.250000</td>\n",
       "      <td>0.230840</td>\n",
       "      <td>27.9</td>\n",
       "    </tr>\n",
       "  </tbody>\n",
       "</table>\n",
       "</div>"
      ],
      "text/plain": [
       "               tipo_cambio_bna_vendedor  instr_bcra_tasa_politica_monetaria  \\\n",
       "indice_tiempo                                                                 \n",
       "2017-04-01                    15.718333                           25.666667   \n",
       "2017-05-01                    15.550000                           26.250000   \n",
       "2017-06-01                    15.951000                           26.250000   \n",
       "2017-07-01                    16.313333                           26.250000   \n",
       "2017-08-01                    17.424167                           26.250000   \n",
       "\n",
       "               ipc_2016_nivgeneral_var_pct_ia  expectativa_inflacion_promedio  \n",
       "indice_tiempo                                                                  \n",
       "2017-04-01                           0.275192                            27.4  \n",
       "2017-05-01                           0.239574                            27.9  \n",
       "2017-06-01                           0.219280                            27.3  \n",
       "2017-07-01                           0.215369                            29.3  \n",
       "2017-08-01                           0.230840                            27.9  "
      ]
     },
     "execution_count": 108,
     "metadata": {},
     "output_type": "execute_result"
    }
   ],
   "source": [
    "tablero=pd.merge(tc_bna_prom_mov, tasa_interes_pm, left_on=\"indice_tiempo\", right_on=\"indice_tiempo\")\n",
    "tablero= pd.merge(tablero, inflacion_ia, left_on=\"indice_tiempo\", right_on=\"indice_tiempo\") \n",
    "tablero= pd.merge(tablero, exp_inflacion,left_on=\"indice_tiempo\", right_on=\"indice_tiempo\")\n",
    "tablero.head()"
   ]
  },
  {
   "cell_type": "code",
   "execution_count": 109,
   "metadata": {
    "scrolled": true
   },
   "outputs": [
    {
     "ename": "IndexError",
     "evalue": "too many indices for array",
     "output_type": "error",
     "traceback": [
      "\u001b[1;31m---------------------------------------------------------------------------\u001b[0m",
      "\u001b[1;31mIndexError\u001b[0m                                Traceback (most recent call last)",
      "\u001b[1;32m<ipython-input-109-a45733110949>\u001b[0m in \u001b[0;36m<module>\u001b[1;34m\u001b[0m\n\u001b[0;32m      1\u001b[0m \u001b[0mfig\u001b[0m\u001b[1;33m,\u001b[0m \u001b[0maxes\u001b[0m \u001b[1;33m=\u001b[0m \u001b[0mplt\u001b[0m\u001b[1;33m.\u001b[0m\u001b[0msubplots\u001b[0m\u001b[1;33m(\u001b[0m\u001b[0mnrows\u001b[0m\u001b[1;33m=\u001b[0m\u001b[1;36m4\u001b[0m\u001b[1;33m,\u001b[0m \u001b[0mncols\u001b[0m\u001b[1;33m=\u001b[0m\u001b[1;36m1\u001b[0m\u001b[1;33m,\u001b[0m \u001b[0mfigsize\u001b[0m\u001b[1;33m=\u001b[0m\u001b[1;33m(\u001b[0m\u001b[1;36m20\u001b[0m\u001b[1;33m,\u001b[0m \u001b[1;36m10\u001b[0m\u001b[1;33m)\u001b[0m\u001b[1;33m)\u001b[0m\u001b[1;33m\u001b[0m\u001b[1;33m\u001b[0m\u001b[0m\n\u001b[1;32m----> 2\u001b[1;33m \u001b[0mtablero\u001b[0m\u001b[1;33m.\u001b[0m\u001b[0mplot\u001b[0m\u001b[1;33m(\u001b[0m\u001b[1;34m\"tipo_cambio_bna_vendedor\"\u001b[0m\u001b[1;33m,\u001b[0m\u001b[0max\u001b[0m\u001b[1;33m=\u001b[0m\u001b[0maxes\u001b[0m\u001b[1;33m[\u001b[0m\u001b[1;36m0\u001b[0m\u001b[1;33m,\u001b[0m\u001b[1;36m0\u001b[0m\u001b[1;33m]\u001b[0m\u001b[1;33m)\u001b[0m\u001b[1;33m\u001b[0m\u001b[1;33m\u001b[0m\u001b[0m\n\u001b[0m\u001b[0;32m      3\u001b[0m \u001b[0mtablero\u001b[0m\u001b[1;33m.\u001b[0m\u001b[0mplot\u001b[0m\u001b[1;33m(\u001b[0m\u001b[1;34m\"instr_bcra_tasa_politica_monetaria\"\u001b[0m\u001b[1;33m,\u001b[0m\u001b[0max\u001b[0m\u001b[1;33m=\u001b[0m\u001b[0maxes\u001b[0m\u001b[1;33m[\u001b[0m\u001b[1;36m1\u001b[0m\u001b[1;33m,\u001b[0m\u001b[1;36m0\u001b[0m\u001b[1;33m]\u001b[0m\u001b[1;33m)\u001b[0m\u001b[1;33m\u001b[0m\u001b[1;33m\u001b[0m\u001b[0m\n\u001b[0;32m      4\u001b[0m \u001b[0mtablero\u001b[0m\u001b[1;33m.\u001b[0m\u001b[0mplot\u001b[0m\u001b[1;33m(\u001b[0m\u001b[1;34m\"ipc_2016_nivgeneral_var_pct_ia\"\u001b[0m\u001b[1;33m,\u001b[0m\u001b[0max\u001b[0m\u001b[1;33m=\u001b[0m\u001b[0maxes\u001b[0m\u001b[1;33m[\u001b[0m\u001b[1;36m2\u001b[0m\u001b[1;33m,\u001b[0m\u001b[1;36m0\u001b[0m\u001b[1;33m]\u001b[0m\u001b[1;33m)\u001b[0m\u001b[1;33m\u001b[0m\u001b[1;33m\u001b[0m\u001b[0m\n\u001b[0;32m      5\u001b[0m \u001b[0mtablero\u001b[0m\u001b[1;33m.\u001b[0m\u001b[0mplot\u001b[0m\u001b[1;33m(\u001b[0m\u001b[1;34m\"expectativa_inflacion_promedio\"\u001b[0m\u001b[1;33m,\u001b[0m\u001b[0max\u001b[0m\u001b[1;33m=\u001b[0m\u001b[0maxes\u001b[0m\u001b[1;33m[\u001b[0m\u001b[1;36m3\u001b[0m\u001b[1;33m,\u001b[0m\u001b[1;36m0\u001b[0m\u001b[1;33m]\u001b[0m\u001b[1;33m)\u001b[0m\u001b[1;33m\u001b[0m\u001b[1;33m\u001b[0m\u001b[0m\n",
      "\u001b[1;31mIndexError\u001b[0m: too many indices for array"
     ]
    },
    {
     "data": {
      "image/png": "[encoded data removed]",
      "text/plain": [
       "<Figure size 1440x720 with 4 Axes>"
      ]
     },
     "metadata": {},
     "output_type": "display_data"
    }
   ],
   "source": [
    "fig, axes = plt.subplots(nrows=4, ncols=1, figsize=(20, 10))\n",
    "tablero.plot(\"tipo_cambio_bna_vendedor\",ax=axes[0,0])\n",
    "tablero.plot(\"instr_bcra_tasa_politica_monetaria\",ax=axes[1,0])\n",
    "tablero.plot(\"ipc_2016_nivgeneral_var_pct_ia\",ax=axes[2,0])\n",
    "tablero.plot(\"expectativa_inflacion_promedio\",ax=axes[3,0])\n",
    "for row in axes:\n",
    "    for ax in row:\n",
    "        pass\n",
    "        ax.set_xlabel(\"\")\n",
    "        ax.set_ylabel(\"\")\n"
   ]
  }
 ],
 "metadata": {
  "kernelspec": {
   "display_name": "Python 3",
   "language": "python",
   "name": "python3"
  },
  "language_info": {
   "codemirror_mode": {
    "name": "ipython",
    "version": 3
   },
   "file_extension": ".py",
   "mimetype": "text/x-python",
   "name": "python",
   "nbconvert_exporter": "python",
   "pygments_lexer": "ipython3",
   "version": "3.7.3"
  }
 },
 "nbformat": 4,
 "nbformat_minor": 2
}
