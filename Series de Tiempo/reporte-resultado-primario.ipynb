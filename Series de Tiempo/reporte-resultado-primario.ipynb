{
 "cells": [
  {
   "cell_type": "markdown",
   "metadata": {},
   "source": [
    "# Resultado Fiscal - último mes reportado 2019\n"
   ]
  },
  {
   "cell_type": "code",
   "execution_count": 124,
   "metadata": {},
   "outputs": [],
   "source": [
    "import pandas as pd\n",
    "import matplotlib.pyplot as plt\n",
    "import numpy as np\n",
    "%matplotlib inline\n",
    "\n",
    "pd.options.display.float_format = '{:,.2f}'.format"
   ]
  },
  {
   "cell_type": "code",
   "execution_count": 125,
   "metadata": {},
   "outputs": [],
   "source": [
    "def highlight_totales(s):\n",
    "    '''\n",
    "    highlight the maximum in a Series yellow.\n",
    "    '''\n",
    "    is_max = s ==s.loc[len(s)-1]\n",
    "    return [('background-color: lightsteelblue')if v else '' for v in is_max] \n",
    "\n",
    "def dupl_var (val):\n",
    "    \"\"\"\n",
    "    Takes a scalar and returns a string with\n",
    "    the css property `'color: red'` for negative\n",
    "    strings, black otherwise.\n",
    "    \"\"\"\n",
    "    color = 'green' if val > 1 else 'black'\n",
    "    return 'color: %s' % color\n",
    "\n",
    "def read_ts_api_call(api_call):\n",
    "    df = pd.read_csv(api_call, encoding=\"utf8\", sep=\",\")\n",
    "    df.indice_tiempo = pd.to_datetime(df.indice_tiempo)\n",
    "    return df.set_index(\"indice_tiempo\").to_period()\n",
    "\n",
    "def highlight_subtotal(row, label_field, highlight_text): \n",
    "    return [    \n",
    "    'background-color: lightblue'\n",
    "    if highlight_text in row[label_field].lower() else \"\"\n",
    "    for value in row]\n",
    "\n",
    "\n",
    "# Los colores de fondo para las tablas están en (\"https://matplotlib.org/2.0.0/examples/color/named_colors.html\")"
   ]
  },
  {
   "cell_type": "markdown",
   "metadata": {},
   "source": [
    "### Ingresos Totales (Formato IMIG)"
   ]
  },
  {
   "cell_type": "code",
   "execution_count": 126,
   "metadata": {},
   "outputs": [],
   "source": [
    "# Armo los dataframes con los ids de los componentes de cada uno de los subtotales \"tributarios\", \"rentas\", \"otros corrientes\" y \"capital\"\n",
    " \n",
    "it_tributarios= read_ts_api_call(\"https://apis.datos.gob.ar/series/api/series/?ids=452.2_IVA_NETO_RROS_0_T_19_67,452.2_GANANCIASIAS_0_T_9_51,452.2_APORTES_COIAL_0_T_39_29,452.2_DEBITOS_CRTOS_0_T_16_22,452.2_BIENES_PERLES_0_T_17_26,452.2_IMPUESTOS_NOS_0_T_18_87,452.2_COMBUSTIBLLES_0_T_12_97,452.2_DERECHOS_EION_0_T_20_42,452.2_DERECHOS_IION_0_T_20_60,452.2_RESTO_TRIBIOS_0_T_17_0&limit=5000&format=csv\")\n",
    "it_rentas= read_ts_api_call(\"https://apis.datos.gob.ar/series/api/series/?ids=452.2_FGS_COBRADERO_0_T_53_90,452.2_RESTO_RENTDAD_0_T_22_24&limit=5000&format=csv\")\n",
    "it_otros= read_ts_api_call(\"https://apis.datos.gob.ar/series/api/series/?ids=452.2_INGRESOS_NIOS_0_T_23_2,452.2_TRANSFERENTES_0_T_25_22,452.2_RESTO_INGRTES_0_T_25_96&limit=5000&format=csv\")\n",
    "it_capital= read_ts_api_call(\"https://apis.datos.gob.ar/series/api/series/?ids=452.2_INGRESOS_CTAL_0_T_16_75&limit=5000&format=csv\")"
   ]
  },
  {
   "cell_type": "code",
   "execution_count": 127,
   "metadata": {},
   "outputs": [],
   "source": [
    "#Como no contamos con los subtotales de Tributarios, Rentas, Otros Corrientes y capital para el armado del Resumen del mes IMIG,\n",
    "#lo armamos trasponiendo los dataframe y sumando todos sus compoonentes. Esto nos va a permitir tener las series deseadas \n",
    "#y formar un dataframe con una estructura similar a la que queríamos llegar.\n",
    "\n",
    "# it_tributarios.T.sum(), \n",
    "# it_rentas.T.sum(),\n",
    "# it_otros.T.sum(),\n",
    "# it_capital.T.sum(),\n",
    "total=it_tributarios.T.sum() + it_rentas.T.sum() + it_otros.T.sum() + it_capital.T.sum()\n",
    "\n",
    "# creamos un dataframe para Ingresos Totales con todos sus componentes. #VER COMO REORDENAR LAS FILAS!!!\n",
    "ingresos_totales = pd.DataFrame({\n",
    "    \"I.a) Tributarios\": it_tributarios.T.sum(), \n",
    "    \"I.b) Rentas\": it_rentas.T.sum(),\n",
    "    \"I.c) Otros_Corrientes\": it_otros.T.sum(),\n",
    "    \"I.d) Capital\": it_capital.T.sum(),\n",
    "   })\n",
    "\n",
    "ingresos_totales[\"Total Ingresos\"]= ingresos_totales.sum(axis=1)"
   ]
  },
  {
   "cell_type": "code",
   "execution_count": 128,
   "metadata": {},
   "outputs": [],
   "source": [
    "## PARA CONSIDERAR SIEMPRE EL ÚLTIMO PERIODO DE LA SERIE Y EL DEL AÑO ANTERIOR GENERO LAS VARIABLES periodo_actual y periodo_anio_anterior\n",
    "periodo_actual = ingresos_totales.index.max()\n",
    "periodo_anio_anterior = periodo_actual - 12\n",
    "periodo_actual_str = str(periodo_actual)\n",
    "periodo_anio_anterior_str = str(periodo_anio_anterior)"
   ]
  },
  {
   "cell_type": "code",
   "execution_count": 114,
   "metadata": {},
   "outputs": [],
   "source": [
    "imig_it=ingresos_totales[\n",
    "    (ingresos_totales.index==periodo_anio_anterior)|\n",
    "    (ingresos_totales.index==periodo_actual)\n",
    "].pivot_table(columns=\"indice_tiempo\")\n",
    "\n",
    "# Quisiera agregar la diferencia absoluta en $\n",
    "# PORQUE NO ME SIRVE ÉSTA ASIGNACIÓN?? \n",
    "imig_it.columns = imig_it.columns.astype(str)\n",
    "imig_it[\"var%_anual\"]= round( (imig_it[periodo_actual_str] / imig_it[periodo_anio_anterior_str]) - 1, 4) \n",
    "imig_it[\"var$_anual\"]= imig_it[ periodo_actual_str] - imig_it[periodo_anio_anterior_str]"
   ]
  },
  {
   "cell_type": "code",
   "execution_count": 115,
   "metadata": {},
   "outputs": [],
   "source": [
    "imig_it_c= imig_it.reset_index()\n",
    "imig_it_c= imig_it_c.rename(columns={\"index\": \"Concepto\"})\n",
    "imig_it_c= imig_it_c.rename_axis(None, axis=\"columns\")\n"
   ]
  },
  {
   "cell_type": "code",
   "execution_count": 122,
   "metadata": {},
   "outputs": [],
   "source": [
    "#para ocultar el índice de la tabla, uso más adelante la función\".style.hide_index()\".\n",
    "\n",
    "prop= imig_it_c[\"var$_anual\"].T/float(imig_it_c[imig_it_c[\"Concepto\"]== \"Total Ingresos\"][\"var$_anual\"])\n",
    "p=prop[prop != 1].reset_index()\n",
    "del p[\"index\"]\n",
    "\n",
    "\n",
    "def may_prop (val):\n",
    "    \"\"\"\n",
    "    Takes a scalar and returns a string with\n",
    "    the css property `'color: red'` for negative\n",
    "    strings, black otherwise.\n",
    "    \"\"\"\n",
    "    color = 'green' if val== float(imig_it_c.loc[p.idxmax(), \"var$_anual\"]) else 'black'\n",
    "    return 'color: %s' % color\n",
    "\n",
    "\n",
    "# Set CSS properties for th elements in dataframe\n",
    "th_props = [\n",
    "  ('font-size', '14px'),\n",
    "  ('text-align', 'center'),\n",
    "  ('font-weight', 'bold'),\n",
    "  ('color', 'white'),\n",
    "  ('background-color', 'steelblue')\n",
    "  ]\n",
    "\n",
    "# Set CSS properties for td elements in dataframe\n",
    "td_props = [\n",
    "  ('font-size', '13px'),\n",
    "  ('font-weight', 'bold')\n",
    "  ]\n",
    "\n",
    "# Set table styles\n",
    "styles = [\n",
    "  dict(selector=\"th\", props=th_props),\n",
    "  dict(selector=\"td\", props=td_props)\n",
    "]"
   ]
  },
  {
   "cell_type": "code",
   "execution_count": 129,
   "metadata": {
    "scrolled": true
   },
   "outputs": [
    {
     "name": "stdout",
     "output_type": "stream",
     "text": [
      "\u001b[1;3;30m- En <var%_anual>, se resaltan en verde las variaciones que superan el 100%\n",
      "\u001b[1;3;30m- En <var$_anual>, se resalta en verde el concepto que más aportó al Total Ingresos\n"
     ]
    },
    {
     "data": {
      "text/html": [
       "<style  type=\"text/css\" >\n",
       "    #T_0416c62e_eb95_11e9_987e_40490f8a9eb8 th {\n",
       "          font-size: 14px;\n",
       "          text-align: center;\n",
       "          font-weight: bold;\n",
       "          color: white;\n",
       "          background-color: steelblue;\n",
       "    }    #T_0416c62e_eb95_11e9_987e_40490f8a9eb8 td {\n",
       "          font-size: 13px;\n",
       "          font-weight: bold;\n",
       "    }    #T_0416c62e_eb95_11e9_987e_40490f8a9eb8row0_col3 {\n",
       "            : ;\n",
       "            color:  black;\n",
       "        }    #T_0416c62e_eb95_11e9_987e_40490f8a9eb8row0_col4 {\n",
       "            : ;\n",
       "            color:  green;\n",
       "        }    #T_0416c62e_eb95_11e9_987e_40490f8a9eb8row1_col3 {\n",
       "            : ;\n",
       "            color:  black;\n",
       "        }    #T_0416c62e_eb95_11e9_987e_40490f8a9eb8row1_col4 {\n",
       "            : ;\n",
       "            color:  black;\n",
       "        }    #T_0416c62e_eb95_11e9_987e_40490f8a9eb8row2_col3 {\n",
       "            : ;\n",
       "            color:  black;\n",
       "        }    #T_0416c62e_eb95_11e9_987e_40490f8a9eb8row2_col4 {\n",
       "            : ;\n",
       "            color:  black;\n",
       "        }    #T_0416c62e_eb95_11e9_987e_40490f8a9eb8row3_col3 {\n",
       "            : ;\n",
       "            color:  green;\n",
       "        }    #T_0416c62e_eb95_11e9_987e_40490f8a9eb8row3_col4 {\n",
       "            : ;\n",
       "            color:  black;\n",
       "        }    #T_0416c62e_eb95_11e9_987e_40490f8a9eb8row4_col0 {\n",
       "            background-color:  lightsteelblue;\n",
       "        }    #T_0416c62e_eb95_11e9_987e_40490f8a9eb8row4_col1 {\n",
       "            background-color:  lightsteelblue;\n",
       "        }    #T_0416c62e_eb95_11e9_987e_40490f8a9eb8row4_col2 {\n",
       "            background-color:  lightsteelblue;\n",
       "        }    #T_0416c62e_eb95_11e9_987e_40490f8a9eb8row4_col3 {\n",
       "            background-color:  lightsteelblue;\n",
       "            color:  black;\n",
       "        }    #T_0416c62e_eb95_11e9_987e_40490f8a9eb8row4_col4 {\n",
       "            background-color:  lightsteelblue;\n",
       "            color:  black;\n",
       "        }</style><table id=\"T_0416c62e_eb95_11e9_987e_40490f8a9eb8\" ><thead>    <tr>        <th class=\"col_heading level0 col0\" >Concepto</th>        <th class=\"col_heading level0 col1\" >2018-08</th>        <th class=\"col_heading level0 col2\" >2019-08</th>        <th class=\"col_heading level0 col3\" >var%_anual</th>        <th class=\"col_heading level0 col4\" >var$_anual</th>    </tr></thead><tbody>\n",
       "                <tr>\n",
       "                                <td id=\"T_0416c62e_eb95_11e9_987e_40490f8a9eb8row0_col0\" class=\"data row0 col0\" >I.a) Tributarios</td>\n",
       "                        <td id=\"T_0416c62e_eb95_11e9_987e_40490f8a9eb8row0_col1\" class=\"data row0 col1\" >195,384.70</td>\n",
       "                        <td id=\"T_0416c62e_eb95_11e9_987e_40490f8a9eb8row0_col2\" class=\"data row0 col2\" >306,663.70</td>\n",
       "                        <td id=\"T_0416c62e_eb95_11e9_987e_40490f8a9eb8row0_col3\" class=\"data row0 col3\" >56.95%</td>\n",
       "                        <td id=\"T_0416c62e_eb95_11e9_987e_40490f8a9eb8row0_col4\" class=\"data row0 col4\" >111,279.00</td>\n",
       "            </tr>\n",
       "            <tr>\n",
       "                                <td id=\"T_0416c62e_eb95_11e9_987e_40490f8a9eb8row1_col0\" class=\"data row1 col0\" >I.b) Rentas</td>\n",
       "                        <td id=\"T_0416c62e_eb95_11e9_987e_40490f8a9eb8row1_col1\" class=\"data row1 col1\" >18,476.50</td>\n",
       "                        <td id=\"T_0416c62e_eb95_11e9_987e_40490f8a9eb8row1_col2\" class=\"data row1 col2\" >15,197.30</td>\n",
       "                        <td id=\"T_0416c62e_eb95_11e9_987e_40490f8a9eb8row1_col3\" class=\"data row1 col3\" >-17.75%</td>\n",
       "                        <td id=\"T_0416c62e_eb95_11e9_987e_40490f8a9eb8row1_col4\" class=\"data row1 col4\" >-3,279.20</td>\n",
       "            </tr>\n",
       "            <tr>\n",
       "                                <td id=\"T_0416c62e_eb95_11e9_987e_40490f8a9eb8row2_col0\" class=\"data row2 col0\" >I.c) Otros_Corrientes</td>\n",
       "                        <td id=\"T_0416c62e_eb95_11e9_987e_40490f8a9eb8row2_col1\" class=\"data row2 col1\" >7,969.70</td>\n",
       "                        <td id=\"T_0416c62e_eb95_11e9_987e_40490f8a9eb8row2_col2\" class=\"data row2 col2\" >12,832.10</td>\n",
       "                        <td id=\"T_0416c62e_eb95_11e9_987e_40490f8a9eb8row2_col3\" class=\"data row2 col3\" >61.01%</td>\n",
       "                        <td id=\"T_0416c62e_eb95_11e9_987e_40490f8a9eb8row2_col4\" class=\"data row2 col4\" >4,862.40</td>\n",
       "            </tr>\n",
       "            <tr>\n",
       "                                <td id=\"T_0416c62e_eb95_11e9_987e_40490f8a9eb8row3_col0\" class=\"data row3 col0\" >I.d) Capital</td>\n",
       "                        <td id=\"T_0416c62e_eb95_11e9_987e_40490f8a9eb8row3_col1\" class=\"data row3 col1\" >1,102.80</td>\n",
       "                        <td id=\"T_0416c62e_eb95_11e9_987e_40490f8a9eb8row3_col2\" class=\"data row3 col2\" >11,730.00</td>\n",
       "                        <td id=\"T_0416c62e_eb95_11e9_987e_40490f8a9eb8row3_col3\" class=\"data row3 col3\" >963.66%</td>\n",
       "                        <td id=\"T_0416c62e_eb95_11e9_987e_40490f8a9eb8row3_col4\" class=\"data row3 col4\" >10,627.20</td>\n",
       "            </tr>\n",
       "            <tr>\n",
       "                                <td id=\"T_0416c62e_eb95_11e9_987e_40490f8a9eb8row4_col0\" class=\"data row4 col0\" >Total Ingresos</td>\n",
       "                        <td id=\"T_0416c62e_eb95_11e9_987e_40490f8a9eb8row4_col1\" class=\"data row4 col1\" >222,933.70</td>\n",
       "                        <td id=\"T_0416c62e_eb95_11e9_987e_40490f8a9eb8row4_col2\" class=\"data row4 col2\" >346,423.10</td>\n",
       "                        <td id=\"T_0416c62e_eb95_11e9_987e_40490f8a9eb8row4_col3\" class=\"data row4 col3\" >55.39%</td>\n",
       "                        <td id=\"T_0416c62e_eb95_11e9_987e_40490f8a9eb8row4_col4\" class=\"data row4 col4\" >123,489.40</td>\n",
       "            </tr>\n",
       "    </tbody></table>"
      ],
      "text/plain": [
       "<pandas.io.formats.style.Styler at 0x2c2e6798b38>"
      ]
     },
     "execution_count": 129,
     "metadata": {},
     "output_type": "execute_result"
    }
   ],
   "source": [
    "print(chr(27)+\"[1;3;30m\"+\"- En <var%_anual>, se resaltan en verde las variaciones que superan el 100%\")\n",
    "print(chr(27)+\"[1;3;30m\"+\"- En <var$_anual>, se resalta en verde el concepto que más aportó al Total Ingresos\")\n",
    "\n",
    "(imig_it_c.style\n",
    ".format({'var%_anual': \"{:.2%}\"})\n",
    ".format({imig_it_c.T[imig_it_c.columns!=\"Concepto\"].index[0]: \"{:,.2f}\"})\n",
    ".format({imig_it_c.T[imig_it_c.columns!=\"Concepto\"].index[1]: \"{:,.2f}\"})\n",
    ".format({imig_it_c.T[imig_it_c.columns!=\"Concepto\"].index[3]: \"{:,.2f}\"})\n",
    ".apply(highlight_totales)\n",
    ".applymap(may_prop, subset=[\"var$_anual\"]).hide_index()\n",
    ".applymap(dupl_var, subset=[\"var%_anual\"]).hide_index()\n",
    ".set_table_styles(styles)\n",
    ")"
   ]
  },
  {
   "cell_type": "markdown",
   "metadata": {},
   "source": [
    "### Gastos primarios (Formato IMIG)"
   ]
  },
  {
   "cell_type": "code",
   "execution_count": 11,
   "metadata": {},
   "outputs": [],
   "source": [
    "# Armo los dataframes con los ids de los componentes de cada uno de los subtotales \"tributarios\", \"rentas\", \"otros corrientes\" y \"capital\"\n",
    " \n",
    "gtos_prestaciones_sociales= read_ts_api_call(\"https://apis.datos.gob.ar/series/api/series/?ids=452.2_JUBILACIONVAS_0_T_36_18,452.2_ASIGNACIONIJO_0_T_26_67,452.2_PENSIONES_VAS_0_T_26_164,452.2_PRESTACIONSJP_0_T_19_86,452.2_OTROS_PROGMAS_0_T_15_11&limit=5000&format=csv\")\n",
    "gtos_subsidios= read_ts_api_call(\"https://apis.datos.gob.ar/series/api/series/?ids=452.2_ENERGIAGIA_0_T_7_56,452.2_TRANSPORTERTE_0_T_10_32,452.2_OTRAS_FUNCNES_0_T_15_25&limit=5000&format=csv\")\n",
    "gtos_funcionamiento= read_ts_api_call(\"https://apis.datos.gob.ar/series/api/series/?ids=452.2_SALARIOSIOS_0_T_8_22,452.2_OTROS_GASTNTO_0_T_27_55&limit=5000&format=csv\")\n",
    "gtos_corrientes= read_ts_api_call(\"https://apis.datos.gob.ar/series/api/series/?ids=452.2_TRANSFERENION_0_T_46_94,452.2_TRANSFERENIAL_0_T_53_66,452.2_TRANSFERENIAL_0_T_54_58,452.2_TRANSFERENLUD_0_T_42_88,452.2_TRANSFERENRAS_0_T_42_55&limit=5000&format=csv\")\n",
    "gtos_otros_ctes= read_ts_api_call(\"https://apis.datos.gob.ar/series/api/series/?ids=452.2_OTROS_CORRDES_0_T_45_79,452.2_OTROS_CORRCAS_0_T_52_16,452.2_OTROS_CORRSTO_0_T_22_78&limit=5000&format=csv\")\n",
    "\n",
    "gtos_energia= read_ts_api_call(\"https://apis.datos.gob.ar/series/api/series/?ids=452.2_CAPITAL_ENION_0_T_22_35,452.3_CAPITAL_ENIAS_0_M_40_18&limit=5000&format=csv\")\n",
    "gtos_transporte= read_ts_api_call(\"https://apis.datos.gob.ar/series/api/series/?ids=452.3_CAPITAL_TRION_0_M_25_82,452.3_CAPITAL_TRIAS_0_M_43_35&limit=5000&format=csv\")\n",
    "gtos_educacion= read_ts_api_call(\"https://apis.datos.gob.ar/series/api/series/?ids=452.3_CAPITAL_EDION_0_M_24_92,452.3_CAPITAL_EDIAS_0_M_42_42&limit=5000&format=csv\")\n",
    "gtos_vivienda= read_ts_api_call(\"https://apis.datos.gob.ar/series/api/series/?ids=452.3_CAPITAL_VIION_0_M_23_52,452.3_CAPITAL_VIIAS_0_M_41_41&limit=5000&format=csv\")\n",
    "gtos_agua_alcantarillado= read_ts_api_call(\"https://apis.datos.gob.ar/series/api/series/?ids=452.3_CAPITAL_AGION_0_M_41_40,452.3_CAPITAL_AGIAS_0_M_59_12&limit=5000&format=csv\")\n",
    "gtos_otros= read_ts_api_call(\"https://apis.datos.gob.ar/series/api/series/?ids=452.3_CAPITAL_OTION_0_M_20_10,452.3_CAPITAL_OTIAS_0_M_38_72&limit=5000&format=csv\")\n",
    "\n",
    "\n",
    "total_gpp= gtos_prestaciones_sociales.T.sum()+gtos_subsidios.T.sum()+ gtos_funcionamiento.T.sum()+gtos_corrientes.T.sum()+gtos_otros_ctes.T.sum()\n",
    "total_gcp= gtos_energia.T.sum()+  gtos_transporte.T.sum()+ gtos_educacion.T.sum()+gtos_vivienda.T.sum()+ gtos_agua_alcantarillado.T.sum()+gtos_otros_ctes.T.sum()\n",
    "\n",
    "# creamos un dataframe para Ingresos Totales con todos sus componentes. #VER COMO REORDENAR LAS FILAS!!!\n",
    "gastos_primarios = pd.DataFrame({\n",
    "    \"II.a).1. Prestaciones Sociales\": gtos_prestaciones_sociales.T.sum(), \n",
    "    \"II.a).2. Subsidios económicos\": gtos_subsidios.T.sum(),\n",
    "    \"II.a).3. Gastos de Funcionamiento y otros\": gtos_funcionamiento.T.sum(),\n",
    "    \"II.a).4. Transferencias corrientes a provincias\": gtos_corrientes.T.sum(),\n",
    "    \"II.a).5. Otros gastos corrientes\": gtos_otros_ctes.T.sum(),\n",
    "    \"II.a)Total Gastos Corrientes Primarios\":total_gpp,\n",
    "    \"II.b).1. Energia\": gtos_energia.T.sum(), \n",
    "    \"II.b).2. Transporte\": gtos_transporte.T.sum(),\n",
    "    \"II.b).3. Educación\": gtos_educacion.T.sum(),\n",
    "    \"II.b).4. Vivienda\": gtos_vivienda.T.sum(),\n",
    "    \"II.b).5. Agua potable y alcantarillado\": gtos_agua_alcantarillado.T.sum(),\n",
    "    \"II.b).6. Otros gastos de capital\": gtos_otros_ctes.T.sum(),\n",
    "    \"II.b)Total Gastos de Capital\":total_gcp\n",
    "})\n",
    "\n",
    "gastos_primarios[\"Total Gastos Primarios\"]= gastos_primarios.sum(axis=1)\n",
    "\n"
   ]
  },
  {
   "cell_type": "code",
   "execution_count": 12,
   "metadata": {},
   "outputs": [],
   "source": [
    "#imig_gp.index=imig_gp.index.to_period()\n",
    "\n",
    "## PARA CONSIDERAR SIEMPRE EL ÚLTIMO PERIODO DE LA SERIE Y EL DEL AÑO ANTERIOR GENERO LAS VARIABLES periodo_actual y periodo_anio_anterior\n",
    "periodo_actual = gastos_primarios.index.max()\n",
    "periodo_anio_anterior = periodo_actual - 12\n",
    "periodo_actual_str = str(periodo_actual)\n",
    "periodo_anio_anterior_str = str(periodo_anio_anterior)\n",
    "\n",
    "imig_gp=gastos_primarios[(gastos_primarios.index==periodo_anio_anterior)|(gastos_primarios.index==periodo_actual)].pivot_table(columns=\"indice_tiempo\")\n",
    "imig_gp[\"var%_anual\"]= round( (imig_gp[periodo_actual] / imig_gp[periodo_anio_anterior]) - 1, 4)\n",
    "\n",
    "# Quisiera agregar la diferencia absoluta en $\n",
    "# PORQUE NO ME SIRVE ÉSTA ASIGNACIÓN?? \n",
    "imig_gp.columns = imig_gp.columns.astype(str)\n",
    "imig_gp[\"var$_anual\"]= imig_gp[str(object= periodo_actual_str)] - imig_gp[str(object=periodo_anio_anterior_str)]\n"
   ]
  },
  {
   "cell_type": "code",
   "execution_count": 13,
   "metadata": {},
   "outputs": [],
   "source": [
    "imig_gp_c= imig_gp.reset_index()\n",
    "imig_gp_c= imig_gp_c.rename(columns={\"index\": \"Concepto\"})\n",
    "imig_gp_c= imig_gp_c.rename_axis(None, axis=\"columns\")"
   ]
  },
  {
   "cell_type": "code",
   "execution_count": 14,
   "metadata": {
    "scrolled": true
   },
   "outputs": [
    {
     "name": "stdout",
     "output_type": "stream",
     "text": [
      "\u001b[1;3;30m- En <var%_anual>, se resaltan las variaciones que superan el 100%\n"
     ]
    },
    {
     "data": {
      "text/html": [
       "<style  type=\"text/css\" >\n",
       "    #T_efb97c0a_eb85_11e9_8ecc_40490f8a9eb8 th {\n",
       "          font-size: 14px;\n",
       "          text-align: center;\n",
       "          font-weight: bold;\n",
       "          color: white;\n",
       "          background-color: steelblue;\n",
       "    }    #T_efb97c0a_eb85_11e9_8ecc_40490f8a9eb8 td {\n",
       "          font-size: 13px;\n",
       "          font-weight: bold;\n",
       "    }    #T_efb97c0a_eb85_11e9_8ecc_40490f8a9eb8row0_col3 {\n",
       "            : ;\n",
       "            : ;\n",
       "            color:  black;\n",
       "        }    #T_efb97c0a_eb85_11e9_8ecc_40490f8a9eb8row1_col3 {\n",
       "            : ;\n",
       "            : ;\n",
       "            color:  black;\n",
       "        }    #T_efb97c0a_eb85_11e9_8ecc_40490f8a9eb8row2_col3 {\n",
       "            : ;\n",
       "            : ;\n",
       "            color:  black;\n",
       "        }    #T_efb97c0a_eb85_11e9_8ecc_40490f8a9eb8row3_col3 {\n",
       "            : ;\n",
       "            : ;\n",
       "            color:  black;\n",
       "        }    #T_efb97c0a_eb85_11e9_8ecc_40490f8a9eb8row4_col3 {\n",
       "            : ;\n",
       "            : ;\n",
       "            color:  black;\n",
       "        }    #T_efb97c0a_eb85_11e9_8ecc_40490f8a9eb8row5_col0 {\n",
       "            : ;\n",
       "            background-color:  lightblue;\n",
       "        }    #T_efb97c0a_eb85_11e9_8ecc_40490f8a9eb8row5_col1 {\n",
       "            : ;\n",
       "            background-color:  lightblue;\n",
       "        }    #T_efb97c0a_eb85_11e9_8ecc_40490f8a9eb8row5_col2 {\n",
       "            : ;\n",
       "            background-color:  lightblue;\n",
       "        }    #T_efb97c0a_eb85_11e9_8ecc_40490f8a9eb8row5_col3 {\n",
       "            : ;\n",
       "            background-color:  lightblue;\n",
       "            color:  black;\n",
       "        }    #T_efb97c0a_eb85_11e9_8ecc_40490f8a9eb8row5_col4 {\n",
       "            : ;\n",
       "            background-color:  lightblue;\n",
       "        }    #T_efb97c0a_eb85_11e9_8ecc_40490f8a9eb8row6_col3 {\n",
       "            : ;\n",
       "            : ;\n",
       "            color:  black;\n",
       "        }    #T_efb97c0a_eb85_11e9_8ecc_40490f8a9eb8row7_col3 {\n",
       "            : ;\n",
       "            : ;\n",
       "            color:  black;\n",
       "        }    #T_efb97c0a_eb85_11e9_8ecc_40490f8a9eb8row8_col3 {\n",
       "            : ;\n",
       "            : ;\n",
       "            color:  black;\n",
       "        }    #T_efb97c0a_eb85_11e9_8ecc_40490f8a9eb8row9_col3 {\n",
       "            : ;\n",
       "            : ;\n",
       "            color:  black;\n",
       "        }    #T_efb97c0a_eb85_11e9_8ecc_40490f8a9eb8row10_col3 {\n",
       "            : ;\n",
       "            : ;\n",
       "            color:  green;\n",
       "        }    #T_efb97c0a_eb85_11e9_8ecc_40490f8a9eb8row11_col3 {\n",
       "            : ;\n",
       "            : ;\n",
       "            color:  black;\n",
       "        }    #T_efb97c0a_eb85_11e9_8ecc_40490f8a9eb8row12_col0 {\n",
       "            : ;\n",
       "            background-color:  lightblue;\n",
       "        }    #T_efb97c0a_eb85_11e9_8ecc_40490f8a9eb8row12_col1 {\n",
       "            : ;\n",
       "            background-color:  lightblue;\n",
       "        }    #T_efb97c0a_eb85_11e9_8ecc_40490f8a9eb8row12_col2 {\n",
       "            : ;\n",
       "            background-color:  lightblue;\n",
       "        }    #T_efb97c0a_eb85_11e9_8ecc_40490f8a9eb8row12_col3 {\n",
       "            : ;\n",
       "            background-color:  lightblue;\n",
       "            color:  black;\n",
       "        }    #T_efb97c0a_eb85_11e9_8ecc_40490f8a9eb8row12_col4 {\n",
       "            : ;\n",
       "            background-color:  lightblue;\n",
       "        }    #T_efb97c0a_eb85_11e9_8ecc_40490f8a9eb8row13_col0 {\n",
       "            background-color:  lightsteelblue;\n",
       "            : ;\n",
       "        }    #T_efb97c0a_eb85_11e9_8ecc_40490f8a9eb8row13_col1 {\n",
       "            background-color:  lightsteelblue;\n",
       "            : ;\n",
       "        }    #T_efb97c0a_eb85_11e9_8ecc_40490f8a9eb8row13_col2 {\n",
       "            background-color:  lightsteelblue;\n",
       "            : ;\n",
       "        }    #T_efb97c0a_eb85_11e9_8ecc_40490f8a9eb8row13_col3 {\n",
       "            background-color:  lightsteelblue;\n",
       "            : ;\n",
       "            color:  black;\n",
       "        }    #T_efb97c0a_eb85_11e9_8ecc_40490f8a9eb8row13_col4 {\n",
       "            background-color:  lightsteelblue;\n",
       "            : ;\n",
       "        }</style><table id=\"T_efb97c0a_eb85_11e9_8ecc_40490f8a9eb8\" ><thead>    <tr>        <th class=\"col_heading level0 col0\" >Concepto</th>        <th class=\"col_heading level0 col1\" >2018-08</th>        <th class=\"col_heading level0 col2\" >2019-08</th>        <th class=\"col_heading level0 col3\" >var%_anual</th>        <th class=\"col_heading level0 col4\" >var$_anual</th>    </tr></thead><tbody>\n",
       "                <tr>\n",
       "                                <td id=\"T_efb97c0a_eb85_11e9_8ecc_40490f8a9eb8row0_col0\" class=\"data row0 col0\" >II.a).1. Prestaciones Sociales</td>\n",
       "                        <td id=\"T_efb97c0a_eb85_11e9_8ecc_40490f8a9eb8row0_col1\" class=\"data row0 col1\" >129,012.90</td>\n",
       "                        <td id=\"T_efb97c0a_eb85_11e9_8ecc_40490f8a9eb8row0_col2\" class=\"data row0 col2\" >183,235.20</td>\n",
       "                        <td id=\"T_efb97c0a_eb85_11e9_8ecc_40490f8a9eb8row0_col3\" class=\"data row0 col3\" >42.03%</td>\n",
       "                        <td id=\"T_efb97c0a_eb85_11e9_8ecc_40490f8a9eb8row0_col4\" class=\"data row0 col4\" >54,222.30</td>\n",
       "            </tr>\n",
       "            <tr>\n",
       "                                <td id=\"T_efb97c0a_eb85_11e9_8ecc_40490f8a9eb8row1_col0\" class=\"data row1 col0\" >II.a).2. Subsidios económicos</td>\n",
       "                        <td id=\"T_efb97c0a_eb85_11e9_8ecc_40490f8a9eb8row1_col1\" class=\"data row1 col1\" >23,590.20</td>\n",
       "                        <td id=\"T_efb97c0a_eb85_11e9_8ecc_40490f8a9eb8row1_col2\" class=\"data row1 col2\" >34,129.80</td>\n",
       "                        <td id=\"T_efb97c0a_eb85_11e9_8ecc_40490f8a9eb8row1_col3\" class=\"data row1 col3\" >44.68%</td>\n",
       "                        <td id=\"T_efb97c0a_eb85_11e9_8ecc_40490f8a9eb8row1_col4\" class=\"data row1 col4\" >10,539.60</td>\n",
       "            </tr>\n",
       "            <tr>\n",
       "                                <td id=\"T_efb97c0a_eb85_11e9_8ecc_40490f8a9eb8row2_col0\" class=\"data row2 col0\" >II.a).3. Gastos de Funcionamiento y otros</td>\n",
       "                        <td id=\"T_efb97c0a_eb85_11e9_8ecc_40490f8a9eb8row2_col1\" class=\"data row2 col1\" >40,807.60</td>\n",
       "                        <td id=\"T_efb97c0a_eb85_11e9_8ecc_40490f8a9eb8row2_col2\" class=\"data row2 col2\" >60,500.50</td>\n",
       "                        <td id=\"T_efb97c0a_eb85_11e9_8ecc_40490f8a9eb8row2_col3\" class=\"data row2 col3\" >48.26%</td>\n",
       "                        <td id=\"T_efb97c0a_eb85_11e9_8ecc_40490f8a9eb8row2_col4\" class=\"data row2 col4\" >19,692.90</td>\n",
       "            </tr>\n",
       "            <tr>\n",
       "                                <td id=\"T_efb97c0a_eb85_11e9_8ecc_40490f8a9eb8row3_col0\" class=\"data row3 col0\" >II.a).4. Transferencias corrientes a provincias</td>\n",
       "                        <td id=\"T_efb97c0a_eb85_11e9_8ecc_40490f8a9eb8row3_col1\" class=\"data row3 col1\" >7,313.00</td>\n",
       "                        <td id=\"T_efb97c0a_eb85_11e9_8ecc_40490f8a9eb8row3_col2\" class=\"data row3 col2\" >11,170.30</td>\n",
       "                        <td id=\"T_efb97c0a_eb85_11e9_8ecc_40490f8a9eb8row3_col3\" class=\"data row3 col3\" >52.75%</td>\n",
       "                        <td id=\"T_efb97c0a_eb85_11e9_8ecc_40490f8a9eb8row3_col4\" class=\"data row3 col4\" >3,857.30</td>\n",
       "            </tr>\n",
       "            <tr>\n",
       "                                <td id=\"T_efb97c0a_eb85_11e9_8ecc_40490f8a9eb8row4_col0\" class=\"data row4 col0\" >II.a).5. Otros gastos corrientes</td>\n",
       "                        <td id=\"T_efb97c0a_eb85_11e9_8ecc_40490f8a9eb8row4_col1\" class=\"data row4 col1\" >12,780.60</td>\n",
       "                        <td id=\"T_efb97c0a_eb85_11e9_8ecc_40490f8a9eb8row4_col2\" class=\"data row4 col2\" >19,644.30</td>\n",
       "                        <td id=\"T_efb97c0a_eb85_11e9_8ecc_40490f8a9eb8row4_col3\" class=\"data row4 col3\" >53.70%</td>\n",
       "                        <td id=\"T_efb97c0a_eb85_11e9_8ecc_40490f8a9eb8row4_col4\" class=\"data row4 col4\" >6,863.70</td>\n",
       "            </tr>\n",
       "            <tr>\n",
       "                                <td id=\"T_efb97c0a_eb85_11e9_8ecc_40490f8a9eb8row5_col0\" class=\"data row5 col0\" >II.a)Total Gastos Corrientes Primarios</td>\n",
       "                        <td id=\"T_efb97c0a_eb85_11e9_8ecc_40490f8a9eb8row5_col1\" class=\"data row5 col1\" >213,504.30</td>\n",
       "                        <td id=\"T_efb97c0a_eb85_11e9_8ecc_40490f8a9eb8row5_col2\" class=\"data row5 col2\" >308,680.10</td>\n",
       "                        <td id=\"T_efb97c0a_eb85_11e9_8ecc_40490f8a9eb8row5_col3\" class=\"data row5 col3\" >44.58%</td>\n",
       "                        <td id=\"T_efb97c0a_eb85_11e9_8ecc_40490f8a9eb8row5_col4\" class=\"data row5 col4\" >95,175.80</td>\n",
       "            </tr>\n",
       "            <tr>\n",
       "                                <td id=\"T_efb97c0a_eb85_11e9_8ecc_40490f8a9eb8row6_col0\" class=\"data row6 col0\" >II.b).1. Energia</td>\n",
       "                        <td id=\"T_efb97c0a_eb85_11e9_8ecc_40490f8a9eb8row6_col1\" class=\"data row6 col1\" >1,917.30</td>\n",
       "                        <td id=\"T_efb97c0a_eb85_11e9_8ecc_40490f8a9eb8row6_col2\" class=\"data row6 col2\" >2,881.80</td>\n",
       "                        <td id=\"T_efb97c0a_eb85_11e9_8ecc_40490f8a9eb8row6_col3\" class=\"data row6 col3\" >50.31%</td>\n",
       "                        <td id=\"T_efb97c0a_eb85_11e9_8ecc_40490f8a9eb8row6_col4\" class=\"data row6 col4\" >964.50</td>\n",
       "            </tr>\n",
       "            <tr>\n",
       "                                <td id=\"T_efb97c0a_eb85_11e9_8ecc_40490f8a9eb8row7_col0\" class=\"data row7 col0\" >II.b).2. Transporte</td>\n",
       "                        <td id=\"T_efb97c0a_eb85_11e9_8ecc_40490f8a9eb8row7_col1\" class=\"data row7 col1\" >6,675.60</td>\n",
       "                        <td id=\"T_efb97c0a_eb85_11e9_8ecc_40490f8a9eb8row7_col2\" class=\"data row7 col2\" >8,997.20</td>\n",
       "                        <td id=\"T_efb97c0a_eb85_11e9_8ecc_40490f8a9eb8row7_col3\" class=\"data row7 col3\" >34.78%</td>\n",
       "                        <td id=\"T_efb97c0a_eb85_11e9_8ecc_40490f8a9eb8row7_col4\" class=\"data row7 col4\" >2,321.60</td>\n",
       "            </tr>\n",
       "            <tr>\n",
       "                                <td id=\"T_efb97c0a_eb85_11e9_8ecc_40490f8a9eb8row8_col0\" class=\"data row8 col0\" >II.b).3. Educación</td>\n",
       "                        <td id=\"T_efb97c0a_eb85_11e9_8ecc_40490f8a9eb8row8_col1\" class=\"data row8 col1\" >940.30</td>\n",
       "                        <td id=\"T_efb97c0a_eb85_11e9_8ecc_40490f8a9eb8row8_col2\" class=\"data row8 col2\" >1,080.70</td>\n",
       "                        <td id=\"T_efb97c0a_eb85_11e9_8ecc_40490f8a9eb8row8_col3\" class=\"data row8 col3\" >14.93%</td>\n",
       "                        <td id=\"T_efb97c0a_eb85_11e9_8ecc_40490f8a9eb8row8_col4\" class=\"data row8 col4\" >140.40</td>\n",
       "            </tr>\n",
       "            <tr>\n",
       "                                <td id=\"T_efb97c0a_eb85_11e9_8ecc_40490f8a9eb8row9_col0\" class=\"data row9 col0\" >II.b).4. Vivienda</td>\n",
       "                        <td id=\"T_efb97c0a_eb85_11e9_8ecc_40490f8a9eb8row9_col1\" class=\"data row9 col1\" >2,136.40</td>\n",
       "                        <td id=\"T_efb97c0a_eb85_11e9_8ecc_40490f8a9eb8row9_col2\" class=\"data row9 col2\" >1,796.90</td>\n",
       "                        <td id=\"T_efb97c0a_eb85_11e9_8ecc_40490f8a9eb8row9_col3\" class=\"data row9 col3\" >-15.89%</td>\n",
       "                        <td id=\"T_efb97c0a_eb85_11e9_8ecc_40490f8a9eb8row9_col4\" class=\"data row9 col4\" >-339.50</td>\n",
       "            </tr>\n",
       "            <tr>\n",
       "                                <td id=\"T_efb97c0a_eb85_11e9_8ecc_40490f8a9eb8row10_col0\" class=\"data row10 col0\" >II.b).5. Agua potable y alcantarillado</td>\n",
       "                        <td id=\"T_efb97c0a_eb85_11e9_8ecc_40490f8a9eb8row10_col1\" class=\"data row10 col1\" >1,288.50</td>\n",
       "                        <td id=\"T_efb97c0a_eb85_11e9_8ecc_40490f8a9eb8row10_col2\" class=\"data row10 col2\" >3,647.10</td>\n",
       "                        <td id=\"T_efb97c0a_eb85_11e9_8ecc_40490f8a9eb8row10_col3\" class=\"data row10 col3\" >183.05%</td>\n",
       "                        <td id=\"T_efb97c0a_eb85_11e9_8ecc_40490f8a9eb8row10_col4\" class=\"data row10 col4\" >2,358.60</td>\n",
       "            </tr>\n",
       "            <tr>\n",
       "                                <td id=\"T_efb97c0a_eb85_11e9_8ecc_40490f8a9eb8row11_col0\" class=\"data row11 col0\" >II.b).6. Otros gastos de capital</td>\n",
       "                        <td id=\"T_efb97c0a_eb85_11e9_8ecc_40490f8a9eb8row11_col1\" class=\"data row11 col1\" >12,780.60</td>\n",
       "                        <td id=\"T_efb97c0a_eb85_11e9_8ecc_40490f8a9eb8row11_col2\" class=\"data row11 col2\" >19,644.30</td>\n",
       "                        <td id=\"T_efb97c0a_eb85_11e9_8ecc_40490f8a9eb8row11_col3\" class=\"data row11 col3\" >53.70%</td>\n",
       "                        <td id=\"T_efb97c0a_eb85_11e9_8ecc_40490f8a9eb8row11_col4\" class=\"data row11 col4\" >6,863.70</td>\n",
       "            </tr>\n",
       "            <tr>\n",
       "                                <td id=\"T_efb97c0a_eb85_11e9_8ecc_40490f8a9eb8row12_col0\" class=\"data row12 col0\" >II.b)Total Gastos de Capital</td>\n",
       "                        <td id=\"T_efb97c0a_eb85_11e9_8ecc_40490f8a9eb8row12_col1\" class=\"data row12 col1\" >25,738.70</td>\n",
       "                        <td id=\"T_efb97c0a_eb85_11e9_8ecc_40490f8a9eb8row12_col2\" class=\"data row12 col2\" >38,048.00</td>\n",
       "                        <td id=\"T_efb97c0a_eb85_11e9_8ecc_40490f8a9eb8row12_col3\" class=\"data row12 col3\" >47.82%</td>\n",
       "                        <td id=\"T_efb97c0a_eb85_11e9_8ecc_40490f8a9eb8row12_col4\" class=\"data row12 col4\" >12,309.30</td>\n",
       "            </tr>\n",
       "            <tr>\n",
       "                                <td id=\"T_efb97c0a_eb85_11e9_8ecc_40490f8a9eb8row13_col0\" class=\"data row13 col0\" >Total Gastos Primarios</td>\n",
       "                        <td id=\"T_efb97c0a_eb85_11e9_8ecc_40490f8a9eb8row13_col1\" class=\"data row13 col1\" >478,486.00</td>\n",
       "                        <td id=\"T_efb97c0a_eb85_11e9_8ecc_40490f8a9eb8row13_col2\" class=\"data row13 col2\" >693,456.20</td>\n",
       "                        <td id=\"T_efb97c0a_eb85_11e9_8ecc_40490f8a9eb8row13_col3\" class=\"data row13 col3\" >44.93%</td>\n",
       "                        <td id=\"T_efb97c0a_eb85_11e9_8ecc_40490f8a9eb8row13_col4\" class=\"data row13 col4\" >214,970.20</td>\n",
       "            </tr>\n",
       "    </tbody></table>"
      ],
      "text/plain": [
       "<pandas.io.formats.style.Styler at 0x2c2e466d128>"
      ]
     },
     "execution_count": 14,
     "metadata": {},
     "output_type": "execute_result"
    }
   ],
   "source": [
    "#para ocultar el índice de la tabla, uso más adelante la función\".style.hide_index()\".\n",
    "\n",
    "\n",
    "def may_prop (val):\n",
    "    \"\"\"\n",
    "    Takes a scalar and returns a string with\n",
    "    the css property `'color: red'` for negative\n",
    "    strings, black otherwise.\n",
    "    \"\"\"\n",
    "    color = 'green' if val==float(imig_gp_c.loc[p.idxmax(), \"var$_anual\"]) else 'black'\n",
    "    return 'color: %s' % color\n",
    "\n",
    "\n",
    "# Set CSS properties for th elements in dataframe\n",
    "th_props = [\n",
    "  ('font-size', '14px'),\n",
    "  ('text-align', 'center'),\n",
    "  ('font-weight', 'bold'),\n",
    "  ('color', 'white'),\n",
    "  ('background-color', 'steelblue')\n",
    "  ]\n",
    "\n",
    "# Set CSS properties for td elements in dataframe\n",
    "td_props = [\n",
    "  ('font-size', '13px'),\n",
    "  ('font-weight', 'bold')\n",
    "  ]\n",
    "\n",
    "# Set table styles\n",
    "styles = [\n",
    "  dict(selector=\"th\", props=th_props),\n",
    "  dict(selector=\"td\", props=td_props)\n",
    "]\n",
    "\n",
    "print(chr(27)+\"[1;3;30m\"+\"- En <var%_anual>, se resaltan las variaciones que superan el 100%\")\n",
    "\n",
    "\n",
    "gp=(imig_gp_c.style\n",
    ".format({'var%_anual': \"{:.2%}\"})\n",
    ".format({imig_gp_c.T[imig_gp_c.columns!=\"Concepto\"].index[0]: \"{:,.2f}\"})\n",
    ".format({imig_gp_c.T[imig_gp_c.columns!=\"Concepto\"].index[1]: \"{:,.2f}\"})\n",
    ".format({imig_gp_c.T[imig_gp_c.columns!=\"Concepto\"].index[3]: \"{:,.2f}\"})\n",
    ".apply(highlight_totales)\n",
    ".apply(highlight_subtotal, axis=1, label_field=\"Concepto\", highlight_text=\")total gastos\")\n",
    ".applymap(dupl_var, subset=[\"var%_anual\"]).hide_index()\n",
    ".set_table_styles(styles))\n",
    "gp\n",
    "\n",
    "#Faltaría resaltar los subtotales!!!"
   ]
  },
  {
   "cell_type": "code",
   "execution_count": 63,
   "metadata": {
    "scrolled": true
   },
   "outputs": [
    {
     "data": {
      "image/png": "[encoded data removed]",
      "text/plain": [
       "<Figure size 432x288 with 1 Axes>"
      ]
     },
     "metadata": {
      "needs_background": "light"
     },
     "output_type": "display_data"
    }
   ],
   "source": [
    "gp=gastos_primarios[\"Total Gastos Primarios\"]\n",
    "it= ingresos_totales[\"Total Ingresos\"]\n",
    "gp.rolling(3).mean().pct_change(12).plot(color=\"gray\")\n",
    "it.rolling(3).mean().pct_change(12).plot(color=\"green\")\n",
    "plt.title(\"Ingresos Totales vs Gastos Primarios (var i.a promedio movil trim)\",fontsize=14)\n",
    "plt.xlim(\"2017-03\", periodo_actual);\n",
    "plt.legend(loc=[1.1,0.5]);\n",
    "plt.ylabel(\"var.ia. prom móvil trim\");"
   ]
  },
  {
   "cell_type": "code",
   "execution_count": 90,
   "metadata": {},
   "outputs": [
    {
     "ename": "TypeError",
     "evalue": "cannot concatenate object of type \"<class 'int'>\"; only pd.Series, pd.DataFrame, and pd.Panel (deprecated) objs are valid",
     "output_type": "error",
     "traceback": [
      "\u001b[1;31m---------------------------------------------------------------------------\u001b[0m",
      "\u001b[1;31mTypeError\u001b[0m                                 Traceback (most recent call last)",
      "\u001b[1;32m<ipython-input-90-bf48946ba630>\u001b[0m in \u001b[0;36m<module>\u001b[1;34m\u001b[0m\n\u001b[0;32m      3\u001b[0m \u001b[1;31m#r=pd.to_index(a.index)\u001b[0m\u001b[1;33m\u001b[0m\u001b[1;33m\u001b[0m\u001b[1;33m\u001b[0m\u001b[0m\n\u001b[0;32m      4\u001b[0m \u001b[1;32mwhile\u001b[0m \u001b[0mi\u001b[0m\u001b[1;33m<\u001b[0m\u001b[0mlen\u001b[0m\u001b[1;33m(\u001b[0m\u001b[0ma\u001b[0m\u001b[1;33m)\u001b[0m\u001b[1;33m:\u001b[0m\u001b[1;33m\u001b[0m\u001b[1;33m\u001b[0m\u001b[0m\n\u001b[1;32m----> 5\u001b[1;33m     \u001b[0mr\u001b[0m\u001b[1;33m.\u001b[0m\u001b[0mappend\u001b[0m\u001b[1;33m(\u001b[0m\u001b[0mint\u001b[0m\u001b[1;33m(\u001b[0m\u001b[0ma\u001b[0m\u001b[1;33m[\u001b[0m\u001b[0mi\u001b[0m\u001b[1;33m]\u001b[0m\u001b[1;33m)\u001b[0m\u001b[1;33m)\u001b[0m\u001b[1;33m\u001b[0m\u001b[1;33m\u001b[0m\u001b[0m\n\u001b[0m\u001b[0;32m      6\u001b[0m     \u001b[1;31m#    if a[i]==True:\u001b[0m\u001b[1;33m\u001b[0m\u001b[1;33m\u001b[0m\u001b[1;33m\u001b[0m\u001b[0m\n\u001b[0;32m      7\u001b[0m \u001b[1;31m#        a[i]=1\u001b[0m\u001b[1;33m\u001b[0m\u001b[1;33m\u001b[0m\u001b[1;33m\u001b[0m\u001b[0m\n",
      "\u001b[1;32mC:\\ProgramData\\Anaconda3\\lib\\site-packages\\pandas\\core\\frame.py\u001b[0m in \u001b[0;36mappend\u001b[1;34m(self, other, ignore_index, verify_integrity, sort)\u001b[0m\n\u001b[0;32m   6690\u001b[0m         return concat(to_concat, ignore_index=ignore_index,\n\u001b[0;32m   6691\u001b[0m                       \u001b[0mverify_integrity\u001b[0m\u001b[1;33m=\u001b[0m\u001b[0mverify_integrity\u001b[0m\u001b[1;33m,\u001b[0m\u001b[1;33m\u001b[0m\u001b[1;33m\u001b[0m\u001b[0m\n\u001b[1;32m-> 6692\u001b[1;33m                       sort=sort)\n\u001b[0m\u001b[0;32m   6693\u001b[0m \u001b[1;33m\u001b[0m\u001b[0m\n\u001b[0;32m   6694\u001b[0m     def join(self, other, on=None, how='left', lsuffix='', rsuffix='',\n",
      "\u001b[1;32mC:\\ProgramData\\Anaconda3\\lib\\site-packages\\pandas\\core\\reshape\\concat.py\u001b[0m in \u001b[0;36mconcat\u001b[1;34m(objs, axis, join, join_axes, ignore_index, keys, levels, names, verify_integrity, sort, copy)\u001b[0m\n\u001b[0;32m    226\u001b[0m                        \u001b[0mkeys\u001b[0m\u001b[1;33m=\u001b[0m\u001b[0mkeys\u001b[0m\u001b[1;33m,\u001b[0m \u001b[0mlevels\u001b[0m\u001b[1;33m=\u001b[0m\u001b[0mlevels\u001b[0m\u001b[1;33m,\u001b[0m \u001b[0mnames\u001b[0m\u001b[1;33m=\u001b[0m\u001b[0mnames\u001b[0m\u001b[1;33m,\u001b[0m\u001b[1;33m\u001b[0m\u001b[1;33m\u001b[0m\u001b[0m\n\u001b[0;32m    227\u001b[0m                        \u001b[0mverify_integrity\u001b[0m\u001b[1;33m=\u001b[0m\u001b[0mverify_integrity\u001b[0m\u001b[1;33m,\u001b[0m\u001b[1;33m\u001b[0m\u001b[1;33m\u001b[0m\u001b[0m\n\u001b[1;32m--> 228\u001b[1;33m                        copy=copy, sort=sort)\n\u001b[0m\u001b[0;32m    229\u001b[0m     \u001b[1;32mreturn\u001b[0m \u001b[0mop\u001b[0m\u001b[1;33m.\u001b[0m\u001b[0mget_result\u001b[0m\u001b[1;33m(\u001b[0m\u001b[1;33m)\u001b[0m\u001b[1;33m\u001b[0m\u001b[1;33m\u001b[0m\u001b[0m\n\u001b[0;32m    230\u001b[0m \u001b[1;33m\u001b[0m\u001b[0m\n",
      "\u001b[1;32mC:\\ProgramData\\Anaconda3\\lib\\site-packages\\pandas\\core\\reshape\\concat.py\u001b[0m in \u001b[0;36m__init__\u001b[1;34m(self, objs, axis, join, join_axes, keys, levels, names, ignore_index, verify_integrity, copy, sort)\u001b[0m\n\u001b[0;32m    287\u001b[0m                        \u001b[1;34m' only pd.Series, pd.DataFrame, and pd.Panel'\u001b[0m\u001b[1;33m\u001b[0m\u001b[1;33m\u001b[0m\u001b[0m\n\u001b[0;32m    288\u001b[0m                        ' (deprecated) objs are valid'.format(type(obj)))\n\u001b[1;32m--> 289\u001b[1;33m                 \u001b[1;32mraise\u001b[0m \u001b[0mTypeError\u001b[0m\u001b[1;33m(\u001b[0m\u001b[0mmsg\u001b[0m\u001b[1;33m)\u001b[0m\u001b[1;33m\u001b[0m\u001b[1;33m\u001b[0m\u001b[0m\n\u001b[0m\u001b[0;32m    290\u001b[0m \u001b[1;33m\u001b[0m\u001b[0m\n\u001b[0;32m    291\u001b[0m             \u001b[1;31m# consolidate\u001b[0m\u001b[1;33m\u001b[0m\u001b[1;33m\u001b[0m\u001b[1;33m\u001b[0m\u001b[0m\n",
      "\u001b[1;31mTypeError\u001b[0m: cannot concatenate object of type \"<class 'int'>\"; only pd.Series, pd.DataFrame, and pd.Panel (deprecated) objs are valid"
     ]
    }
   ],
   "source": [
    "a= it.rolling(3).mean().pct_change(12)>gp.rolling(3).mean().pct_change(12)\n",
    "i=0\n",
    "#r=pd.to_index(a.index)\n",
    "while i<len(a):\n",
    "    r.append(int(a[i]))\n",
    "    #    if a[i]==True:\n",
    "#        a[i]=1\n",
    "#        print(\"Verdadero {}\".format(i))\n",
    "#        print(int(a[i]))\n",
    "#    else:\n",
    "#        a[i]=0\n",
    "#        print(\"Falso {}\".format(i))\n",
    "    i=i+1\n",
    "r= pd.DataFrame(r)\n",
    "r.plot(kind=\"bar\")"
   ]
  },
  {
   "cell_type": "code",
   "execution_count": 89,
   "metadata": {},
   "outputs": [
    {
     "ename": "AttributeError",
     "evalue": "module 'pandas' has no attribute 'set_index'",
     "output_type": "error",
     "traceback": [
      "\u001b[1;31m---------------------------------------------------------------------------\u001b[0m",
      "\u001b[1;31mAttributeError\u001b[0m                            Traceback (most recent call last)",
      "\u001b[1;32m<ipython-input-89-de4ab1e3be47>\u001b[0m in \u001b[0;36m<module>\u001b[1;34m\u001b[0m\n\u001b[1;32m----> 1\u001b[1;33m \u001b[0mr\u001b[0m\u001b[1;33m=\u001b[0m\u001b[0mpd\u001b[0m\u001b[1;33m.\u001b[0m\u001b[0mset_index\u001b[0m\u001b[1;33m(\u001b[0m\u001b[0ma\u001b[0m\u001b[1;33m.\u001b[0m\u001b[0mindex\u001b[0m\u001b[1;33m)\u001b[0m\u001b[1;33m\u001b[0m\u001b[1;33m\u001b[0m\u001b[0m\n\u001b[0m",
      "\u001b[1;31mAttributeError\u001b[0m: module 'pandas' has no attribute 'set_index'"
     ]
    }
   ],
   "source": [
    "r=pd.set_index(a.index)"
   ]
  },
  {
   "cell_type": "code",
   "execution_count": null,
   "metadata": {},
   "outputs": [],
   "source": [
    "# i=0\n",
    "# while i < len(gp):\n",
    "    \n",
    "# if gp[i]>it[i]:\n",
    "#     t[i]=1\n",
    "#     i= i+1\n",
    "# else:\n",
    "#     t[i]=0\n"
   ]
  },
  {
   "cell_type": "markdown",
   "metadata": {},
   "source": [
    "## Resumen ejecutivo"
   ]
  },
  {
   "cell_type": "code",
   "execution_count": null,
   "metadata": {
    "scrolled": false
   },
   "outputs": [],
   "source": [
    "cod_mes= {1: \"enero\",\n",
    "    2: \"febrero\",\n",
    "    3: \"marzo\",\n",
    "    4: \"abril\",\n",
    "    5: \"mayo\",\n",
    "    6: \"junio\",\n",
    "    7: \"julio\",\n",
    "    8: \"agosto\",\n",
    "    9: \"septiembre\",\n",
    "    10: \"octubre\",\n",
    "    11: \"noviembre\",\n",
    "    12: \"diciembre\"}\n",
    "\n",
    "rp=pd.read_csv(\"https://apis.datos.gob.ar/series/api/series/?&ids=452.3_RESULTADO_RIO_0_M_18_54&limit=5000&format=csv\")\n",
    "\n",
    "rp[\"indice_tiempo\"] = pd.to_datetime(rp[\"indice_tiempo\"])\n",
    "rp=rp.set_index(\"indice_tiempo\")\n",
    "\n",
    "\n",
    "mes_actual= rp.index.max().month\n",
    "\n",
    "## PARA CONSIDERAR SIEMPRE EL ÚLTIMO PERIODO DE LA SERIE Y EL DEL AÑO ANTERIOR GENERO LAS VARIABLES periodo_actual y periodo_anio_anterior\n",
    "rp.index=rp.index.to_period()\n",
    "periodo_actual = rp.index.max()\n",
    "periodo_anio_anterior = periodo_actual - 12\n",
    "\n",
    "rp=rp[(rp.index==periodo_anio_anterior)|(rp.index==periodo_actual)].pivot_table(columns=\"indice_tiempo\")\n",
    "\n",
    "rp[\"var%_anual\"]= round( (rp[periodo_actual] / rp[periodo_anio_anterior]) - 1, 4) * 100\n",
    "#rp.loc[\"resultado_primario\",\n",
    "rp\n",
    "rp.columns = rp.columns.astype(str)\n",
    "rp_actual=int(round(rp.loc[\"resultado_primario\", str(periodo_actual)],0))\n",
    "rp_anterior=int(round(rp.loc[\"resultado_primario\", str(periodo_anio_anterior)],0))\n",
    "dif= int(rp.loc[\"resultado_primario\", str(periodo_actual)] - rp.loc[\"resultado_primario\", str(periodo_anio_anterior)])\n"
   ]
  },
  {
   "cell_type": "code",
   "execution_count": null,
   "metadata": {},
   "outputs": [],
   "source": [
    "i= rp[str(periodo_actual)]\n",
    "#NO FUNCIONÓ DE ÉSTA FORMA\n",
    "# def conv(a)\n",
    "# return\n",
    "# if a > 0:\n",
    "#  print(\"superávit\")\n",
    "# else: print(\"déficit\")\n",
    "\n",
    "#REDISEÑO\n",
    "\n",
    "if i[0]>0:\n",
    "    if rp_anterior<0:\n",
    "        print(\"Durante el mes de {} el Sector Público Nacional tuvo un superávit primario de $ {} millones, lo que implica una mejora de $ {} millones frente al déficit de $ {} millones registrado en igual mes de {}.\".format(cod_mes[mes_actual], rp_actual, dif, -rp_anterior ,it_tributarios.index.max().year-1))\n",
    "    else: print(\"Durante el mes de {} el Sector Público Nacional tuvo un superávit primario de $ {} millones, lo que implica una mejora de $ {} millones frente al déficit de $ {} millones registrado en igual mes de {}.\".format(cod_mes[mes_actual], rp_actual, dif, rp_anterior ,it_tributarios.index.max().year-1))   \n",
    "else:   \n",
    "    if rp_anterior<0:\n",
    "        print(\"Durante el mes de {} el Sector Público Nacional tuvo un déficit primario de $ {} millones, lo que implica una mejora de $ {} millones frente al déficit de $ {} millones registrado en igual mes de {}.\".format(cod_mes[mes_actual], rp_actual, dif, -rp_anterior ,it_tributarios.index.max().year-1))\n",
    "    else: print(\"Durante el mes de {} el Sector Público Nacional tuvo un déficit primario de $ {} millones, lo que implica una mejora de $ {} millones frente al déficit de $ {} millones registrado en igual mes de {}.\".format(cod_mes[mes_actual], rp_actual, dif, rp_anterior ,it_tributarios.index.max().year-1))   \n",
    "        \n",
    "#si es posible agregar separador de miles."
   ]
  },
  {
   "cell_type": "code",
   "execution_count": null,
   "metadata": {
    "scrolled": true
   },
   "outputs": [],
   "source": [
    "a= float(imig_it_c[imig_it_c.Concepto==\"Total Ingresos\"][\"var%_anual\"])*100\n",
    "b= float(imig_gp_c[imig_gp_c.Concepto==\"Total Gastos Primarios\"][\"var%_anual\"])*100\n",
    "\n",
    "print(\"Los recursos totales crecieron {}% en términos interanuales (i.a.), {} puntos porcentuales (p.p.) más en relación a los gastos primarios que tuvieron un incremento de {}% i.a.\".format(round(imig_it.loc[\"Total Ingresos\",\"var%_anual\"],3)*10*10,int(round(a-b,0)),round(imig_gp.loc[\"Total Gastos Primarios\",\"var%_anual\"],3)*100))"
   ]
  },
  {
   "cell_type": "markdown",
   "metadata": {},
   "source": [
    "### Resultado Primario en términos del PBI\n",
    "\n"
   ]
  },
  {
   "cell_type": "code",
   "execution_count": null,
   "metadata": {},
   "outputs": [],
   "source": [
    "pbi_rp=read_ts_api_call(\"https://apis.datos.gob.ar/series/api/series/?ids=9.2_PPC_2004_T_22,452.3_RESULTADO_RIO_0_M_18_54&collapse=quarter&collapse_aggregation=sum&limit=5000&format=csv\")\n",
    "pbi_rp= pbi_rp[pbi_rp.index>=\"20170101\"]\n",
    "\n",
    "#como no tenemos info del pbi estimado para el 2do trim 2019, repetimos el del \n",
    "# último trim informado\n",
    "\n",
    "pbi_rp[\"resultado_primario\"]= pbi_rp[\"resultado_primario\"] *3"
   ]
  },
  {
   "cell_type": "code",
   "execution_count": null,
   "metadata": {},
   "outputs": [],
   "source": [
    "# rp=pd.read_csv(\"https://apis.datos.gob.ar/series/api/series/?ids=452.3_RESULTADO_RIO_0_M_18_54&collapse=quarter&collapse_aggregation=sum&limit=5000&format=csv\")\n",
    "\n",
    "# rp= pbi_rp[pbi_rp.index>=\"20170101\"]\n",
    "# rp.head()"
   ]
  },
  {
   "cell_type": "code",
   "execution_count": null,
   "metadata": {},
   "outputs": [],
   "source": [
    "## PARA CONSIDERAR SIEMPRE EL ÚLTIMO PERIODO DE LA SERIE Y EL DEL AÑO ANTERIOR GENERO LAS VARIABLES periodo_actual y periodo_anio_anterior\n",
    "periodo_actual = ingresos_totales.index.max()\n",
    "periodo_anio_anterior = periodo_actual - 12"
   ]
  },
  {
   "cell_type": "code",
   "execution_count": null,
   "metadata": {},
   "outputs": [],
   "source": [
    "#creo un df llamado a para poder tener los pbi promedios trimestrales en todo el año\n",
    "\n",
    "pbi=pbi_rp[\"pib_precios_corrientes\"]\n",
    "pbi=pbi.reset_index()\n",
    "pbi_prom= pbi.groupby(pbi.indice_tiempo.dt.year).mean()\n",
    "#pbi_prom termina siendo una nueva serie pero con un índice temporal expresado en años\n"
   ]
  },
  {
   "cell_type": "code",
   "execution_count": null,
   "metadata": {},
   "outputs": [],
   "source": [
    "dif=pbi_rp.index.year.max() - pbi_rp.index.year.min()\n",
    "a_min=pbi_rp.index.year.min()\n",
    "\n",
    "#ACUMULA LOS MONTOS DE LOS CUATRIMESTRES CUYOS REGISTROS ANUALES ESTÉN COMPLETOS (NO INCLUYE EL AÑO EN CURSO YA QUE ÉSTE PUEDE NO ESTAR COMPLETO)\n",
    "i= 0\n",
    "while i< dif :\n",
    "    print (\"\")\n",
    "    pbi_rp.loc[(pbi_rp.index.year==a_min+i) & (pbi_rp.index.quarter==2), \"resultado_primario\"] = pbi_rp.loc[(a_min+i).astype(str)+\"-01-01\", \"resultado_primario\"]+pbi_rp.loc[(a_min+i).astype(str)+\"-04-01\", \"resultado_primario\"]\n",
    "    pbi_rp.loc[(pbi_rp.index.year==a_min+i) & (pbi_rp.index.quarter==3), \"resultado_primario\"] = pbi_rp.loc[(a_min+i).astype(str)+\"-04-01\", \"resultado_primario\"]+pbi_rp.loc[(a_min+i).astype(str)+\"-07-01\", \"resultado_primario\"]\n",
    "    pbi_rp.loc[(pbi_rp.index.year==a_min+i) & (pbi_rp.index.quarter==4), \"resultado_primario\"] = pbi_rp.loc[(a_min+i).astype(str)+\"-07-01\", \"resultado_primario\"]+pbi_rp.loc[(a_min+i).astype(str)+\"-10-01\", \"resultado_primario\"]\n",
    "    i= i+1\n",
    "\n",
    "# Utilizo éste comando para elegir la columna deseada Ej: pbi_rp.index.year.max().astype(str)+\"-\"+str((2+t)*3-2).zfill(2)+\"-01\"\n",
    "\n",
    "#ACUMULA LOS MONTOS DE LOS CUATRIMESTRES DEL ÚLTIMO AÑO\n",
    "t=0\n",
    "t_añomax= pbi_rp[pbi_rp.index.year==pbi_rp.index.year.max()].index.quarter.max()\n",
    "dift= t_añomax-2\n",
    "\n",
    "while t< dift+1 :\n",
    "    print (\"\")\n",
    "    pbi_rp.loc[(pbi_rp.index.year==pbi_rp.index.year.max()) & (pbi_rp.index.quarter==2+t), \"resultado_primario\"] = pbi_rp.loc[pbi_rp.index.year.max().astype(str)+\"-\"+str((2+t)*3-5).zfill(2)+\"-01\", \"resultado_primario\"]+pbi_rp.loc[ pbi_rp.index.year.max().astype(str)+\"-\"+str((2+t)*3-2).zfill(2)+\"-01\", \"resultado_primario\"]\n",
    "    t= t+1\n",
    "\n",
    "# pbi_rp.loc[(pbi_rp.index.year==anio) & (pbi_rp.index.quarter==3), \"resultado_primario\"] = pbi_rp.loc[anio.astype(str)+\"-04-01\", \"resultado_primario\"]+pbi_rp.loc[anio.astype(str)+\"-07-01\", \"resultado_primario\"]\n",
    "# pbi_rp.loc[(pbi_rp.index.year==anio) & (pbi_rp.index.quarter==4), \"resultado_primario\"] = pbi_rp.loc[anio.astype(str)+\"-07-01\", \"resultado_primario\"]+pbi_rp.loc[anio.astype(str)+\"-10-01\", \"resultado_primario\"]\n"
   ]
  },
  {
   "cell_type": "code",
   "execution_count": null,
   "metadata": {},
   "outputs": [],
   "source": [
    "#reemplazo los pib de la tabla con los promedios calculados en \"a\"\n",
    "for anio in range(2017,2020):\n",
    "    pbi_rp.loc[pbi_rp.index.year==anio, \"pib_precios_corrientes_prom_anual\"]= pbi_prom.loc[anio,\"pib_precios_corrientes\"]"
   ]
  },
  {
   "cell_type": "code",
   "execution_count": null,
   "metadata": {
    "scrolled": true
   },
   "outputs": [],
   "source": [
    "columnsTitles= [\"resultado_primario\",\"pib_precios_corrientes\", \"pib_precios_corrientes_prom_anual\"]\n",
    "\n",
    "pbi_rp= (pbi_rp.T.reindex(columnsTitles)).T "
   ]
  },
  {
   "cell_type": "code",
   "execution_count": null,
   "metadata": {
    "scrolled": true
   },
   "outputs": [],
   "source": [
    "#Ahora si, es posible calcular el rp en términos del pbi\n",
    "\n",
    "pbi_rp[\"metas_en%\"]= [ -3.8/100, -3.8/100, -3.8/100, -3.8/100, -0.6/100, -1.1/100, -1.9/100, -2.7/100, 0, 0 ]\n",
    "pbi_rp[\"metas_en%\"]= pd.to_numeric(pbi_rp[\"metas_en%\"])\n",
    "pbi_rp[\"metas_en%\"]= pbi_rp[\"metas_en%\"].astype(\"float64\")\n",
    "pbi_rp[\"rp_en%_pbi\"]=round((pbi_rp[\"resultado_primario\"] / pbi_rp[\"pib_precios_corrientes\"]),3)\n",
    "\n",
    "a=pbi_rp.plot(y='rp_en%_pbi', title=\"Nivel de cumplimiento- Metas\", color=\"blue\", fontsize=14)\n",
    "pbi_rp.plot(y='metas_en%',ax=a, style='--')\n",
    "plt.legend(bbox_to_anchor=(1,1))\n",
    "plt.ylabel(\"Resultado Primario en % del PBI/ Metas\")\n",
    "plt.xlabel(\"Año - Trimestre\");\n",
    "plt.legend(loc=[1.1,0.5]);"
   ]
  },
  {
   "cell_type": "code",
   "execution_count": null,
   "metadata": {},
   "outputs": [],
   "source": [
    "# pbi_rp[pbi_rp.columns!=\"Concepto\"].index[1]\n",
    "pbi_rp= pbi_rp.reset_index()\n",
    "pbi_rp= pbi_rp.rename_axis(None, axis=\"columns\")"
   ]
  },
  {
   "cell_type": "code",
   "execution_count": null,
   "metadata": {},
   "outputs": [],
   "source": [
    "pbi_rp_c= (pbi_rp.style\n",
    "    .format({'metas_en%': \"{:.2%}\"})\n",
    "    .format({'rp_en%_pbi': \"{:.2%}\"})\n",
    "    .format({\"resultado_primario\": \"{:,.2f}\"})\n",
    "    .format({\"pib_precios_corrientes\": \"{:,.2f}\"})\n",
    "    .format({\"pib_precios_corrientes_prom_anual\": \"{:,.2f}\"})\n",
    "    .hide_index()\n",
    "    .set_table_styles(styles))\n",
    "pbi_rp_c"
   ]
  },
  {
   "cell_type": "code",
   "execution_count": null,
   "metadata": {},
   "outputs": [],
   "source": []
  },
  {
   "cell_type": "code",
   "execution_count": null,
   "metadata": {},
   "outputs": [],
   "source": []
  }
 ],
 "metadata": {
  "kernelspec": {
   "display_name": "Python 3",
   "language": "python",
   "name": "python3"
  },
  "language_info": {
   "codemirror_mode": {
    "name": "ipython",
    "version": 3
   },
   "file_extension": ".py",
   "mimetype": "text/x-python",
   "name": "python",
   "nbconvert_exporter": "python",
   "pygments_lexer": "ipython3",
   "version": "3.7.3"
  },
  "toc": {
   "colors": {
    "hover_highlight": "#DAA520",
    "running_highlight": "#FF0000",
    "selected_highlight": "#FFD700"
   },
   "moveMenuLeft": true,
   "nav_menu": {
    "height": "12px",
    "width": "252px"
   },
   "navigate_menu": true,
   "number_sections": true,
   "sideBar": true,
   "threshold": 4,
   "toc_cell": false,
   "toc_section_display": "block",
   "toc_window_display": false
  }
 },
 "nbformat": 4,
 "nbformat_minor": 2
}
